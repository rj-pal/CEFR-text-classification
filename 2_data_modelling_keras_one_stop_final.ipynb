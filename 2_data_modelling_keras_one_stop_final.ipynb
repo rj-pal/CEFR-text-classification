{
  "cells": [
    {
      "cell_type": "markdown",
      "metadata": {
        "id": "view-in-github",
        "colab_type": "text"
      },
      "source": [
        "<a href=\"https://colab.research.google.com/github/rj-pal/CEFR-text-classification/blob/main/2_data_modelling_keras_one_stop_final.ipynb\" target=\"_parent\"><img src=\"https://colab.research.google.com/assets/colab-badge.svg\" alt=\"Open In Colab\"/></a>"
      ]
    },
    {
      "cell_type": "code",
      "source": [
        "from google.colab import drive\n",
        "drive.mount('/content/drive')"
      ],
      "metadata": {
        "colab": {
          "base_uri": "https://localhost:8080/"
        },
        "id": "FoDMNdvg5lHC",
        "outputId": "87cfa3e4-1baf-4cad-bd5e-e24dd2f308a2"
      },
      "id": "FoDMNdvg5lHC",
      "execution_count": null,
      "outputs": [
        {
          "output_type": "stream",
          "name": "stdout",
          "text": [
            "Mounted at /content/drive\n"
          ]
        }
      ]
    },
    {
      "cell_type": "code",
      "source": [
        "gpu_info = !nvidia-smi\n",
        "gpu_info = '\\n'.join(gpu_info)\n",
        "if gpu_info.find('failed') >= 0:\n",
        "  print('Not connected to a GPU')\n",
        "else:\n",
        "  print(gpu_info)"
      ],
      "metadata": {
        "colab": {
          "base_uri": "https://localhost:8080/"
        },
        "id": "ZHnnUXBwo4pt",
        "outputId": "d58f7b62-a42b-4d38-9966-c1f69c230128"
      },
      "id": "ZHnnUXBwo4pt",
      "execution_count": null,
      "outputs": [
        {
          "output_type": "stream",
          "name": "stdout",
          "text": [
            "Wed Mar  2 22:24:34 2022       \n",
            "+-----------------------------------------------------------------------------+\n",
            "| NVIDIA-SMI 460.32.03    Driver Version: 460.32.03    CUDA Version: 11.2     |\n",
            "|-------------------------------+----------------------+----------------------+\n",
            "| GPU  Name        Persistence-M| Bus-Id        Disp.A | Volatile Uncorr. ECC |\n",
            "| Fan  Temp  Perf  Pwr:Usage/Cap|         Memory-Usage | GPU-Util  Compute M. |\n",
            "|                               |                      |               MIG M. |\n",
            "|===============================+======================+======================|\n",
            "|   0  Tesla P100-PCIE...  Off  | 00000000:00:04.0 Off |                    0 |\n",
            "| N/A   39C    P0    30W / 250W |      0MiB / 16280MiB |      0%      Default |\n",
            "|                               |                      |                  N/A |\n",
            "+-------------------------------+----------------------+----------------------+\n",
            "                                                                               \n",
            "+-----------------------------------------------------------------------------+\n",
            "| Processes:                                                                  |\n",
            "|  GPU   GI   CI        PID   Type   Process name                  GPU Memory |\n",
            "|        ID   ID                                                   Usage      |\n",
            "|=============================================================================|\n",
            "|  No running processes found                                                 |\n",
            "+-----------------------------------------------------------------------------+\n"
          ]
        }
      ]
    },
    {
      "cell_type": "code",
      "source": [
        "# !cp /content/drive/My\\ Drive/data/English/preprocessing_nlp.py"
      ],
      "metadata": {
        "id": "-2wV_WKQ6IWp"
      },
      "id": "-2wV_WKQ6IWp",
      "execution_count": null,
      "outputs": []
    },
    {
      "cell_type": "code",
      "source": [
        "import sys\n",
        "sys.path.append('drive/MyDrive/data/English')"
      ],
      "metadata": {
        "id": "HG-fEG707ltw"
      },
      "id": "HG-fEG707ltw",
      "execution_count": null,
      "outputs": []
    },
    {
      "cell_type": "code",
      "source": [
        "# !pip install -r requirements.txt\n",
        "import pandas as pd\n",
        "import numpy as np\n",
        "import matplotlib.pyplot as plt\n",
        "\n",
        "import nltk\n",
        "nltk.download('stopwords')\n",
        "nltk.download('punkt')\n",
        "nltk.download('wordnet')\n",
        "\n",
        "import preprocessing_nlp as pp\n",
        "# import cleaning_nlp as cc"
      ],
      "metadata": {
        "colab": {
          "base_uri": "https://localhost:8080/"
        },
        "id": "L88MMhyB5sqV",
        "outputId": "5afe0371-961f-4197-8fb7-da84c37df415"
      },
      "id": "L88MMhyB5sqV",
      "execution_count": null,
      "outputs": [
        {
          "output_type": "stream",
          "name": "stdout",
          "text": [
            "[nltk_data] Downloading package stopwords to /root/nltk_data...\n",
            "[nltk_data]   Unzipping corpora/stopwords.zip.\n",
            "[nltk_data] Downloading package punkt to /root/nltk_data...\n",
            "[nltk_data]   Unzipping tokenizers/punkt.zip.\n",
            "[nltk_data] Downloading package wordnet to /root/nltk_data...\n",
            "[nltk_data]   Unzipping corpora/wordnet.zip.\n"
          ]
        }
      ]
    },
    {
      "cell_type": "code",
      "source": [
        "url_train = 'https://raw.githubusercontent.com/rj-pal/CEFR-text-classification/main/data/one_stop_train.csv'\n",
        "url_test = 'https://raw.githubusercontent.com/rj-pal/CEFR-text-classification/main/data/one_stop_test.csv'\n",
        "df_train = pd.read_csv(url_train)\n",
        "df_test = pd.read_csv(url_test)\n"
      ],
      "metadata": {
        "id": "H1evx7h6Ydl5"
      },
      "id": "H1evx7h6Ydl5",
      "execution_count": null,
      "outputs": []
    },
    {
      "cell_type": "code",
      "source": [
        "df_train"
      ],
      "metadata": {
        "id": "V6sF8jt65mOg",
        "colab": {
          "base_uri": "https://localhost:8080/",
          "height": 641
        },
        "outputId": "8c21366e-f10e-40b1-bf47-7cf0f51c39d3"
      },
      "id": "V6sF8jt65mOg",
      "execution_count": null,
      "outputs": [
        {
          "output_type": "execute_result",
          "data": {
            "text/html": [
              "\n",
              "  <div id=\"df-4b26dce0-460c-4315-9b69-2df31b004de8\">\n",
              "    <div class=\"colab-df-container\">\n",
              "      <div>\n",
              "<style scoped>\n",
              "    .dataframe tbody tr th:only-of-type {\n",
              "        vertical-align: middle;\n",
              "    }\n",
              "\n",
              "    .dataframe tbody tr th {\n",
              "        vertical-align: top;\n",
              "    }\n",
              "\n",
              "    .dataframe thead th {\n",
              "        text-align: right;\n",
              "    }\n",
              "</style>\n",
              "<table border=\"1\" class=\"dataframe\">\n",
              "  <thead>\n",
              "    <tr style=\"text-align: right;\">\n",
              "      <th></th>\n",
              "      <th>index</th>\n",
              "      <th>documents</th>\n",
              "      <th>doc_list</th>\n",
              "      <th>avg_num_words</th>\n",
              "      <th>total_num_sents</th>\n",
              "      <th>total_num_words</th>\n",
              "      <th>words_per_sents</th>\n",
              "      <th>level</th>\n",
              "      <th>doc_id</th>\n",
              "    </tr>\n",
              "  </thead>\n",
              "  <tbody>\n",
              "    <tr>\n",
              "      <th>0</th>\n",
              "      <td>0</td>\n",
              "      <td>SeaWorld's profits fell by 84% and customers a...</td>\n",
              "      <td>['SeaWorld’s profits fell by 84% and customers...</td>\n",
              "      <td>25.00</td>\n",
              "      <td>1</td>\n",
              "      <td>25</td>\n",
              "      <td>[25]</td>\n",
              "      <td>Ele</td>\n",
              "      <td>0</td>\n",
              "    </tr>\n",
              "    <tr>\n",
              "      <th>1</th>\n",
              "      <td>1</td>\n",
              "      <td>The company teaches dolphins and killer whales...</td>\n",
              "      <td>['The company teaches dolphins and killer whal...</td>\n",
              "      <td>17.00</td>\n",
              "      <td>1</td>\n",
              "      <td>17</td>\n",
              "      <td>[17]</td>\n",
              "      <td>Ele</td>\n",
              "      <td>0</td>\n",
              "    </tr>\n",
              "    <tr>\n",
              "      <th>2</th>\n",
              "      <td>2</td>\n",
              "      <td>It says fewer people are going to its parks an...</td>\n",
              "      <td>['It says fewer people are going to its parks ...</td>\n",
              "      <td>13.00</td>\n",
              "      <td>1</td>\n",
              "      <td>13</td>\n",
              "      <td>[13]</td>\n",
              "      <td>Ele</td>\n",
              "      <td>0</td>\n",
              "    </tr>\n",
              "    <tr>\n",
              "      <th>3</th>\n",
              "      <td>3</td>\n",
              "      <td>SeaWorld has been in the news since the 2013 d...</td>\n",
              "      <td>['SeaWorld has been in the news since the 2013...</td>\n",
              "      <td>33.00</td>\n",
              "      <td>1</td>\n",
              "      <td>33</td>\n",
              "      <td>[33]</td>\n",
              "      <td>Ele</td>\n",
              "      <td>0</td>\n",
              "    </tr>\n",
              "    <tr>\n",
              "      <th>4</th>\n",
              "      <td>4</td>\n",
              "      <td>Animal rights organizations say that orcas kep...</td>\n",
              "      <td>['Animal rights organizations say that orcas k...</td>\n",
              "      <td>14.00</td>\n",
              "      <td>2</td>\n",
              "      <td>28</td>\n",
              "      <td>[17, 11]</td>\n",
              "      <td>Ele</td>\n",
              "      <td>0</td>\n",
              "    </tr>\n",
              "    <tr>\n",
              "      <th>...</th>\n",
              "      <td>...</td>\n",
              "      <td>...</td>\n",
              "      <td>...</td>\n",
              "      <td>...</td>\n",
              "      <td>...</td>\n",
              "      <td>...</td>\n",
              "      <td>...</td>\n",
              "      <td>...</td>\n",
              "      <td>...</td>\n",
              "    </tr>\n",
              "    <tr>\n",
              "      <th>6545</th>\n",
              "      <td>7390</td>\n",
              "      <td>One major problem is complicity between senior...</td>\n",
              "      <td>['One major problem is complicity between seni...</td>\n",
              "      <td>26.00</td>\n",
              "      <td>3</td>\n",
              "      <td>78</td>\n",
              "      <td>[15, 32, 31]</td>\n",
              "      <td>Adv</td>\n",
              "      <td>566</td>\n",
              "    </tr>\n",
              "    <tr>\n",
              "      <th>6546</th>\n",
              "      <td>7391</td>\n",
              "      <td>As the number of tigers has increased over the...</td>\n",
              "      <td>['As the number of tigers has increased over t...</td>\n",
              "      <td>19.25</td>\n",
              "      <td>4</td>\n",
              "      <td>77</td>\n",
              "      <td>[17, 21, 14, 25]</td>\n",
              "      <td>Adv</td>\n",
              "      <td>566</td>\n",
              "    </tr>\n",
              "    <tr>\n",
              "      <th>6547</th>\n",
              "      <td>7392</td>\n",
              "      <td>Wildlife authorities captured a tiger in Chitw...</td>\n",
              "      <td>['Wildlife authorities captured a tiger in Chi...</td>\n",
              "      <td>19.00</td>\n",
              "      <td>4</td>\n",
              "      <td>76</td>\n",
              "      <td>[23, 12, 14, 27]</td>\n",
              "      <td>Adv</td>\n",
              "      <td>566</td>\n",
              "    </tr>\n",
              "    <tr>\n",
              "      <th>6548</th>\n",
              "      <td>7393</td>\n",
              "      <td>Diwakar Chapagain, who heads a World Wildlife ...</td>\n",
              "      <td>['Diwakar Chapagain, who heads a World Wildlif...</td>\n",
              "      <td>30.00</td>\n",
              "      <td>1</td>\n",
              "      <td>30</td>\n",
              "      <td>[30]</td>\n",
              "      <td>Adv</td>\n",
              "      <td>566</td>\n",
              "    </tr>\n",
              "    <tr>\n",
              "      <th>6549</th>\n",
              "      <td>7394</td>\n",
              "      <td>In Nepal, kings used to stand on tiger skins i...</td>\n",
              "      <td>['In Nepal, kings used to stand on tiger skins...</td>\n",
              "      <td>21.67</td>\n",
              "      <td>3</td>\n",
              "      <td>65</td>\n",
              "      <td>[17, 14, 34]</td>\n",
              "      <td>Adv</td>\n",
              "      <td>566</td>\n",
              "    </tr>\n",
              "  </tbody>\n",
              "</table>\n",
              "<p>6550 rows × 9 columns</p>\n",
              "</div>\n",
              "      <button class=\"colab-df-convert\" onclick=\"convertToInteractive('df-4b26dce0-460c-4315-9b69-2df31b004de8')\"\n",
              "              title=\"Convert this dataframe to an interactive table.\"\n",
              "              style=\"display:none;\">\n",
              "        \n",
              "  <svg xmlns=\"http://www.w3.org/2000/svg\" height=\"24px\"viewBox=\"0 0 24 24\"\n",
              "       width=\"24px\">\n",
              "    <path d=\"M0 0h24v24H0V0z\" fill=\"none\"/>\n",
              "    <path d=\"M18.56 5.44l.94 2.06.94-2.06 2.06-.94-2.06-.94-.94-2.06-.94 2.06-2.06.94zm-11 1L8.5 8.5l.94-2.06 2.06-.94-2.06-.94L8.5 2.5l-.94 2.06-2.06.94zm10 10l.94 2.06.94-2.06 2.06-.94-2.06-.94-.94-2.06-.94 2.06-2.06.94z\"/><path d=\"M17.41 7.96l-1.37-1.37c-.4-.4-.92-.59-1.43-.59-.52 0-1.04.2-1.43.59L10.3 9.45l-7.72 7.72c-.78.78-.78 2.05 0 2.83L4 21.41c.39.39.9.59 1.41.59.51 0 1.02-.2 1.41-.59l7.78-7.78 2.81-2.81c.8-.78.8-2.07 0-2.86zM5.41 20L4 18.59l7.72-7.72 1.47 1.35L5.41 20z\"/>\n",
              "  </svg>\n",
              "      </button>\n",
              "      \n",
              "  <style>\n",
              "    .colab-df-container {\n",
              "      display:flex;\n",
              "      flex-wrap:wrap;\n",
              "      gap: 12px;\n",
              "    }\n",
              "\n",
              "    .colab-df-convert {\n",
              "      background-color: #E8F0FE;\n",
              "      border: none;\n",
              "      border-radius: 50%;\n",
              "      cursor: pointer;\n",
              "      display: none;\n",
              "      fill: #1967D2;\n",
              "      height: 32px;\n",
              "      padding: 0 0 0 0;\n",
              "      width: 32px;\n",
              "    }\n",
              "\n",
              "    .colab-df-convert:hover {\n",
              "      background-color: #E2EBFA;\n",
              "      box-shadow: 0px 1px 2px rgba(60, 64, 67, 0.3), 0px 1px 3px 1px rgba(60, 64, 67, 0.15);\n",
              "      fill: #174EA6;\n",
              "    }\n",
              "\n",
              "    [theme=dark] .colab-df-convert {\n",
              "      background-color: #3B4455;\n",
              "      fill: #D2E3FC;\n",
              "    }\n",
              "\n",
              "    [theme=dark] .colab-df-convert:hover {\n",
              "      background-color: #434B5C;\n",
              "      box-shadow: 0px 1px 3px 1px rgba(0, 0, 0, 0.15);\n",
              "      filter: drop-shadow(0px 1px 2px rgba(0, 0, 0, 0.3));\n",
              "      fill: #FFFFFF;\n",
              "    }\n",
              "  </style>\n",
              "\n",
              "      <script>\n",
              "        const buttonEl =\n",
              "          document.querySelector('#df-4b26dce0-460c-4315-9b69-2df31b004de8 button.colab-df-convert');\n",
              "        buttonEl.style.display =\n",
              "          google.colab.kernel.accessAllowed ? 'block' : 'none';\n",
              "\n",
              "        async function convertToInteractive(key) {\n",
              "          const element = document.querySelector('#df-4b26dce0-460c-4315-9b69-2df31b004de8');\n",
              "          const dataTable =\n",
              "            await google.colab.kernel.invokeFunction('convertToInteractive',\n",
              "                                                     [key], {});\n",
              "          if (!dataTable) return;\n",
              "\n",
              "          const docLinkHtml = 'Like what you see? Visit the ' +\n",
              "            '<a target=\"_blank\" href=https://colab.research.google.com/notebooks/data_table.ipynb>data table notebook</a>'\n",
              "            + ' to learn more about interactive tables.';\n",
              "          element.innerHTML = '';\n",
              "          dataTable['output_type'] = 'display_data';\n",
              "          await google.colab.output.renderOutput(dataTable, element);\n",
              "          const docLink = document.createElement('div');\n",
              "          docLink.innerHTML = docLinkHtml;\n",
              "          element.appendChild(docLink);\n",
              "        }\n",
              "      </script>\n",
              "    </div>\n",
              "  </div>\n",
              "  "
            ],
            "text/plain": [
              "      index                                          documents  ... level  doc_id\n",
              "0         0  SeaWorld's profits fell by 84% and customers a...  ...   Ele       0\n",
              "1         1  The company teaches dolphins and killer whales...  ...   Ele       0\n",
              "2         2  It says fewer people are going to its parks an...  ...   Ele       0\n",
              "3         3  SeaWorld has been in the news since the 2013 d...  ...   Ele       0\n",
              "4         4  Animal rights organizations say that orcas kep...  ...   Ele       0\n",
              "...     ...                                                ...  ...   ...     ...\n",
              "6545   7390  One major problem is complicity between senior...  ...   Adv     566\n",
              "6546   7391  As the number of tigers has increased over the...  ...   Adv     566\n",
              "6547   7392  Wildlife authorities captured a tiger in Chitw...  ...   Adv     566\n",
              "6548   7393  Diwakar Chapagain, who heads a World Wildlife ...  ...   Adv     566\n",
              "6549   7394  In Nepal, kings used to stand on tiger skins i...  ...   Adv     566\n",
              "\n",
              "[6550 rows x 9 columns]"
            ]
          },
          "metadata": {},
          "execution_count": 7
        }
      ]
    },
    {
      "cell_type": "code",
      "source": [
        "d_train = df_train[['documents', 'level']]\n",
        "d_test = df_test[['documents', 'level']]"
      ],
      "metadata": {
        "id": "vYeU3yaVZu5D"
      },
      "id": "vYeU3yaVZu5D",
      "execution_count": null,
      "outputs": []
    },
    {
      "cell_type": "code",
      "source": [
        "d_train.shape, d_test.shape"
      ],
      "metadata": {
        "colab": {
          "base_uri": "https://localhost:8080/"
        },
        "id": "xpsaWX9UZuk2",
        "outputId": "ae564597-6dee-4595-fae4-0c5fe1ab52ec"
      },
      "id": "xpsaWX9UZuk2",
      "execution_count": null,
      "outputs": [
        {
          "output_type": "execute_result",
          "data": {
            "text/plain": [
              "((6550, 2), (845, 2))"
            ]
          },
          "metadata": {},
          "execution_count": 9
        }
      ]
    },
    {
      "cell_type": "code",
      "execution_count": null,
      "id": "cbe98124-2d3e-4bd7-aa59-cdba45caed66",
      "metadata": {
        "id": "cbe98124-2d3e-4bd7-aa59-cdba45caed66"
      },
      "outputs": [],
      "source": [
        "sentence_data_train = pp.get_sentences_dataframe(d_train, 'documents', 'level')\n",
        "sentence_data_test = pp.get_sentences_dataframe(d_test, 'documents', 'level')"
      ]
    },
    {
      "cell_type": "code",
      "execution_count": null,
      "id": "d039fbd7-fcf7-4b31-a87d-068b05be3bda",
      "metadata": {
        "id": "d039fbd7-fcf7-4b31-a87d-068b05be3bda"
      },
      "outputs": [],
      "source": [
        "df_processed_train = pp.preprocess_all(sentence_data_train, 'documents', stop_words=True)\n",
        "df_processed_test = pp.preprocess_all(sentence_data_test, 'documents', stop_words=True)"
      ]
    },
    {
      "cell_type": "code",
      "source": [
        "df_processed_train"
      ],
      "metadata": {
        "colab": {
          "base_uri": "https://localhost:8080/",
          "height": 641
        },
        "id": "Vt1uoqEBbopl",
        "outputId": "0fc1f1c5-c637-4794-cd7b-b28f125995e0"
      },
      "id": "Vt1uoqEBbopl",
      "execution_count": null,
      "outputs": [
        {
          "output_type": "execute_result",
          "data": {
            "text/html": [
              "\n",
              "  <div id=\"df-b9839de9-dd4c-4b2c-bc37-a9b3d5f5cbde\">\n",
              "    <div class=\"colab-df-container\">\n",
              "      <div>\n",
              "<style scoped>\n",
              "    .dataframe tbody tr th:only-of-type {\n",
              "        vertical-align: middle;\n",
              "    }\n",
              "\n",
              "    .dataframe tbody tr th {\n",
              "        vertical-align: top;\n",
              "    }\n",
              "\n",
              "    .dataframe thead th {\n",
              "        text-align: right;\n",
              "    }\n",
              "</style>\n",
              "<table border=\"1\" class=\"dataframe\">\n",
              "  <thead>\n",
              "    <tr style=\"text-align: right;\">\n",
              "      <th></th>\n",
              "      <th>documents</th>\n",
              "      <th>num_of_words</th>\n",
              "      <th>level</th>\n",
              "      <th>doc_id</th>\n",
              "      <th>documents_clean</th>\n",
              "      <th>Lemmatized</th>\n",
              "      <th>Stemmed</th>\n",
              "    </tr>\n",
              "  </thead>\n",
              "  <tbody>\n",
              "    <tr>\n",
              "      <th>0</th>\n",
              "      <td>SeaWorld's profits fell by 84% and customers a...</td>\n",
              "      <td>25</td>\n",
              "      <td>Ele</td>\n",
              "      <td>0</td>\n",
              "      <td>seaworld profits fell customers staying away w...</td>\n",
              "      <td>seaworld profit fell customer staying away wat...</td>\n",
              "      <td>seaworld profit fell custom stay away water th...</td>\n",
              "    </tr>\n",
              "    <tr>\n",
              "      <th>1</th>\n",
              "      <td>The company teaches dolphins and killer whales...</td>\n",
              "      <td>17</td>\n",
              "      <td>Ele</td>\n",
              "      <td>1</td>\n",
              "      <td>company teaches dolphins killer whales tricks ...</td>\n",
              "      <td>company teach dolphin killer whale trick front...</td>\n",
              "      <td>compani teach dolphin killer whale trick front...</td>\n",
              "    </tr>\n",
              "    <tr>\n",
              "      <th>2</th>\n",
              "      <td>It says fewer people are going to its parks an...</td>\n",
              "      <td>13</td>\n",
              "      <td>Ele</td>\n",
              "      <td>2</td>\n",
              "      <td>says fewer people going parks profits reduced</td>\n",
              "      <td>say fewer people going park profit reduced</td>\n",
              "      <td>say fewer peopl go park profit reduc</td>\n",
              "    </tr>\n",
              "    <tr>\n",
              "      <th>3</th>\n",
              "      <td>SeaWorld has been in the news since the 2013 d...</td>\n",
              "      <td>33</td>\n",
              "      <td>Ele</td>\n",
              "      <td>3</td>\n",
              "      <td>seaworld news since thedocumentary film blackf...</td>\n",
              "      <td>seaworld news since thedocumentary film blackf...</td>\n",
              "      <td>seaworld news sinc thedocumentari film blackfi...</td>\n",
              "    </tr>\n",
              "    <tr>\n",
              "      <th>4</th>\n",
              "      <td>Animal rights organizations say that orcas kep...</td>\n",
              "      <td>17</td>\n",
              "      <td>Ele</td>\n",
              "      <td>4</td>\n",
              "      <td>animal rights organizations say orcas kept tan...</td>\n",
              "      <td>animal right organization say orca kept tank d...</td>\n",
              "      <td>anim right organ say orca kept tank die younge...</td>\n",
              "    </tr>\n",
              "    <tr>\n",
              "      <th>...</th>\n",
              "      <td>...</td>\n",
              "      <td>...</td>\n",
              "      <td>...</td>\n",
              "      <td>...</td>\n",
              "      <td>...</td>\n",
              "      <td>...</td>\n",
              "      <td>...</td>\n",
              "    </tr>\n",
              "    <tr>\n",
              "      <th>17718</th>\n",
              "      <td>Chitwan National Park in central Nepal has the...</td>\n",
              "      <td>27</td>\n",
              "      <td>Adv</td>\n",
              "      <td>6547</td>\n",
              "      <td>chitwan national park central nepal highest nu...</td>\n",
              "      <td>chitwan national park central nepal highest nu...</td>\n",
              "      <td>chitwan nation park central nepal highest numb...</td>\n",
              "    </tr>\n",
              "    <tr>\n",
              "      <th>17719</th>\n",
              "      <td>Diwakar Chapagain, who heads a World Wildlife ...</td>\n",
              "      <td>30</td>\n",
              "      <td>Adv</td>\n",
              "      <td>6548</td>\n",
              "      <td>diwakar chapagain heads world wildlife fund ne...</td>\n",
              "      <td>diwakar chapagain head world wildlife fund nep...</td>\n",
              "      <td>diwakar chapagain head world wildlif fund nepa...</td>\n",
              "    </tr>\n",
              "    <tr>\n",
              "      <th>17720</th>\n",
              "      <td>In Nepal, kings used to stand on tiger skins i...</td>\n",
              "      <td>17</td>\n",
              "      <td>Adv</td>\n",
              "      <td>6549</td>\n",
              "      <td>nepal kings used stand tiger skins front stuff...</td>\n",
              "      <td>nepal king used stand tiger skin front stuffed...</td>\n",
              "      <td>nepal king use stand tiger skin front stuf tig...</td>\n",
              "    </tr>\n",
              "    <tr>\n",
              "      <th>17721</th>\n",
              "      <td>Some affluent Nepali have mounted tiger heads ...</td>\n",
              "      <td>14</td>\n",
              "      <td>Adv</td>\n",
              "      <td>6549</td>\n",
              "      <td>affluent nepali mounted tiger heads walls livi...</td>\n",
              "      <td>affluent nepali mounted tiger head wall living...</td>\n",
              "      <td>affluent nepali mount tiger head wall live room</td>\n",
              "    </tr>\n",
              "    <tr>\n",
              "      <th>17722</th>\n",
              "      <td>Tiger bones are in high demand for use in trad...</td>\n",
              "      <td>34</td>\n",
              "      <td>Adv</td>\n",
              "      <td>6549</td>\n",
              "      <td>tiger bones high demand use traditional chines...</td>\n",
              "      <td>tiger bone high demand use traditional chinese...</td>\n",
              "      <td>tiger bone high demand use tradit chines medic...</td>\n",
              "    </tr>\n",
              "  </tbody>\n",
              "</table>\n",
              "<p>17723 rows × 7 columns</p>\n",
              "</div>\n",
              "      <button class=\"colab-df-convert\" onclick=\"convertToInteractive('df-b9839de9-dd4c-4b2c-bc37-a9b3d5f5cbde')\"\n",
              "              title=\"Convert this dataframe to an interactive table.\"\n",
              "              style=\"display:none;\">\n",
              "        \n",
              "  <svg xmlns=\"http://www.w3.org/2000/svg\" height=\"24px\"viewBox=\"0 0 24 24\"\n",
              "       width=\"24px\">\n",
              "    <path d=\"M0 0h24v24H0V0z\" fill=\"none\"/>\n",
              "    <path d=\"M18.56 5.44l.94 2.06.94-2.06 2.06-.94-2.06-.94-.94-2.06-.94 2.06-2.06.94zm-11 1L8.5 8.5l.94-2.06 2.06-.94-2.06-.94L8.5 2.5l-.94 2.06-2.06.94zm10 10l.94 2.06.94-2.06 2.06-.94-2.06-.94-.94-2.06-.94 2.06-2.06.94z\"/><path d=\"M17.41 7.96l-1.37-1.37c-.4-.4-.92-.59-1.43-.59-.52 0-1.04.2-1.43.59L10.3 9.45l-7.72 7.72c-.78.78-.78 2.05 0 2.83L4 21.41c.39.39.9.59 1.41.59.51 0 1.02-.2 1.41-.59l7.78-7.78 2.81-2.81c.8-.78.8-2.07 0-2.86zM5.41 20L4 18.59l7.72-7.72 1.47 1.35L5.41 20z\"/>\n",
              "  </svg>\n",
              "      </button>\n",
              "      \n",
              "  <style>\n",
              "    .colab-df-container {\n",
              "      display:flex;\n",
              "      flex-wrap:wrap;\n",
              "      gap: 12px;\n",
              "    }\n",
              "\n",
              "    .colab-df-convert {\n",
              "      background-color: #E8F0FE;\n",
              "      border: none;\n",
              "      border-radius: 50%;\n",
              "      cursor: pointer;\n",
              "      display: none;\n",
              "      fill: #1967D2;\n",
              "      height: 32px;\n",
              "      padding: 0 0 0 0;\n",
              "      width: 32px;\n",
              "    }\n",
              "\n",
              "    .colab-df-convert:hover {\n",
              "      background-color: #E2EBFA;\n",
              "      box-shadow: 0px 1px 2px rgba(60, 64, 67, 0.3), 0px 1px 3px 1px rgba(60, 64, 67, 0.15);\n",
              "      fill: #174EA6;\n",
              "    }\n",
              "\n",
              "    [theme=dark] .colab-df-convert {\n",
              "      background-color: #3B4455;\n",
              "      fill: #D2E3FC;\n",
              "    }\n",
              "\n",
              "    [theme=dark] .colab-df-convert:hover {\n",
              "      background-color: #434B5C;\n",
              "      box-shadow: 0px 1px 3px 1px rgba(0, 0, 0, 0.15);\n",
              "      filter: drop-shadow(0px 1px 2px rgba(0, 0, 0, 0.3));\n",
              "      fill: #FFFFFF;\n",
              "    }\n",
              "  </style>\n",
              "\n",
              "      <script>\n",
              "        const buttonEl =\n",
              "          document.querySelector('#df-b9839de9-dd4c-4b2c-bc37-a9b3d5f5cbde button.colab-df-convert');\n",
              "        buttonEl.style.display =\n",
              "          google.colab.kernel.accessAllowed ? 'block' : 'none';\n",
              "\n",
              "        async function convertToInteractive(key) {\n",
              "          const element = document.querySelector('#df-b9839de9-dd4c-4b2c-bc37-a9b3d5f5cbde');\n",
              "          const dataTable =\n",
              "            await google.colab.kernel.invokeFunction('convertToInteractive',\n",
              "                                                     [key], {});\n",
              "          if (!dataTable) return;\n",
              "\n",
              "          const docLinkHtml = 'Like what you see? Visit the ' +\n",
              "            '<a target=\"_blank\" href=https://colab.research.google.com/notebooks/data_table.ipynb>data table notebook</a>'\n",
              "            + ' to learn more about interactive tables.';\n",
              "          element.innerHTML = '';\n",
              "          dataTable['output_type'] = 'display_data';\n",
              "          await google.colab.output.renderOutput(dataTable, element);\n",
              "          const docLink = document.createElement('div');\n",
              "          docLink.innerHTML = docLinkHtml;\n",
              "          element.appendChild(docLink);\n",
              "        }\n",
              "      </script>\n",
              "    </div>\n",
              "  </div>\n",
              "  "
            ],
            "text/plain": [
              "                                               documents  ...                                            Stemmed\n",
              "0      SeaWorld's profits fell by 84% and customers a...  ...  seaworld profit fell custom stay away water th...\n",
              "1      The company teaches dolphins and killer whales...  ...  compani teach dolphin killer whale trick front...\n",
              "2      It says fewer people are going to its parks an...  ...               say fewer peopl go park profit reduc\n",
              "3      SeaWorld has been in the news since the 2013 d...  ...  seaworld news sinc thedocumentari film blackfi...\n",
              "4      Animal rights organizations say that orcas kep...  ...  anim right organ say orca kept tank die younge...\n",
              "...                                                  ...  ...                                                ...\n",
              "17718  Chitwan National Park in central Nepal has the...  ...  chitwan nation park central nepal highest numb...\n",
              "17719  Diwakar Chapagain, who heads a World Wildlife ...  ...  diwakar chapagain head world wildlif fund nepa...\n",
              "17720  In Nepal, kings used to stand on tiger skins i...  ...  nepal king use stand tiger skin front stuf tig...\n",
              "17721  Some affluent Nepali have mounted tiger heads ...  ...    affluent nepali mount tiger head wall live room\n",
              "17722  Tiger bones are in high demand for use in trad...  ...  tiger bone high demand use tradit chines medic...\n",
              "\n",
              "[17723 rows x 7 columns]"
            ]
          },
          "metadata": {},
          "execution_count": 12
        }
      ]
    },
    {
      "cell_type": "code",
      "execution_count": null,
      "id": "4203cb23-f1bb-45e4-a94a-d50b2f9cd26c",
      "metadata": {
        "id": "4203cb23-f1bb-45e4-a94a-d50b2f9cd26c"
      },
      "outputs": [],
      "source": [
        "data_train = df_processed_train[['Lemmatized', 'level']]\n",
        "data_test = df_processed_test[['Lemmatized', 'level']]"
      ]
    },
    {
      "cell_type": "code",
      "source": [
        "r = max(data_train.Lemmatized.values.tolist())\n",
        "len(r)"
      ],
      "metadata": {
        "colab": {
          "base_uri": "https://localhost:8080/"
        },
        "id": "ibgEDaHRjIyu",
        "outputId": "a77bdc01-c124-4bdd-d238-093fface52f8"
      },
      "id": "ibgEDaHRjIyu",
      "execution_count": null,
      "outputs": [
        {
          "output_type": "execute_result",
          "data": {
            "text/plain": [
              "88"
            ]
          },
          "metadata": {},
          "execution_count": 14
        }
      ]
    },
    {
      "cell_type": "code",
      "source": [
        "s = [sen for sen in data_train.Lemmatized.values.tolist()]\n"
      ],
      "metadata": {
        "id": "hYAuvGEQ5G57"
      },
      "id": "hYAuvGEQ5G57",
      "execution_count": null,
      "outputs": []
    },
    {
      "cell_type": "code",
      "source": [
        "ws = [words for sen in data_train.Lemmatized.values.tolist() for words in sen.split()]\n",
        "wl = [len(word) for word in ws]\n",
        "max(wl)"
      ],
      "metadata": {
        "colab": {
          "base_uri": "https://localhost:8080/"
        },
        "id": "0zeincFi2-ri",
        "outputId": "0b050c75-d64d-404a-d1b5-8d7781fdb19c"
      },
      "id": "0zeincFi2-ri",
      "execution_count": null,
      "outputs": [
        {
          "output_type": "execute_result",
          "data": {
            "text/plain": [
              "40"
            ]
          },
          "metadata": {},
          "execution_count": 16
        }
      ]
    },
    {
      "cell_type": "code",
      "execution_count": null,
      "id": "1b6ba25a-7847-48fe-b40f-b1f04031387f",
      "metadata": {
        "colab": {
          "base_uri": "https://localhost:8080/"
        },
        "id": "1b6ba25a-7847-48fe-b40f-b1f04031387f",
        "outputId": "baa2a20a-9355-4007-f13b-218f008f7a7e"
      },
      "outputs": [
        {
          "output_type": "execute_result",
          "data": {
            "text/plain": [
              "10.366077977769"
            ]
          },
          "metadata": {},
          "execution_count": 17
        }
      ],
      "source": [
        "# df\n",
        "sl = [len(sen.split()) for sen in data_train.Lemmatized.values.tolist()]\n",
        "sum(s for s in sl)/len(sl)"
      ]
    },
    {
      "cell_type": "code",
      "source": [
        "# sorted(sl)[::-1]"
      ],
      "metadata": {
        "id": "VDKBwppF-akz"
      },
      "id": "VDKBwppF-akz",
      "execution_count": null,
      "outputs": []
    },
    {
      "cell_type": "code",
      "source": [
        "w = [word for words in data_train.Lemmatized.values.tolist() for word in words.split() ]"
      ],
      "metadata": {
        "id": "XQHQOyn3SuX5"
      },
      "id": "XQHQOyn3SuX5",
      "execution_count": null,
      "outputs": []
    },
    {
      "cell_type": "code",
      "source": [
        "len(set(w))"
      ],
      "metadata": {
        "colab": {
          "base_uri": "https://localhost:8080/"
        },
        "id": "GWURiMcZTfBs",
        "outputId": "9b2d3d94-cfba-46e8-8bdd-19159c6a05ae"
      },
      "id": "GWURiMcZTfBs",
      "execution_count": null,
      "outputs": [
        {
          "output_type": "execute_result",
          "data": {
            "text/plain": [
              "14015"
            ]
          },
          "metadata": {},
          "execution_count": 20
        }
      ]
    },
    {
      "cell_type": "code",
      "source": [
        "y_integers = []\n",
        "for level in data_train.level:\n",
        "  if level == 'Ele':\n",
        "    y_integers.append(0)\n",
        "  elif level == 'Int':\n",
        "    y_integers.append(1)\n",
        "  else:\n",
        "    y_integers.append(2)\n",
        "data_train['level'] = y_integers\n",
        "\n",
        "y_integers = []\n",
        "for level in data_test.level:\n",
        "  if level == 'Ele':\n",
        "    y_integers.append(0)\n",
        "  elif level == 'Int':\n",
        "    y_integers.append(1)\n",
        "  else:\n",
        "    y_integers.append(2)\n",
        "data_test['level'] = y_integers"
      ],
      "metadata": {
        "colab": {
          "base_uri": "https://localhost:8080/"
        },
        "id": "uHLKljJrgRVy",
        "outputId": "76fdb3f0-d906-4775-b4c7-862336b9107f"
      },
      "id": "uHLKljJrgRVy",
      "execution_count": null,
      "outputs": [
        {
          "output_type": "stream",
          "name": "stderr",
          "text": [
            "/usr/local/lib/python3.7/dist-packages/ipykernel_launcher.py:9: SettingWithCopyWarning: \n",
            "A value is trying to be set on a copy of a slice from a DataFrame.\n",
            "Try using .loc[row_indexer,col_indexer] = value instead\n",
            "\n",
            "See the caveats in the documentation: https://pandas.pydata.org/pandas-docs/stable/user_guide/indexing.html#returning-a-view-versus-a-copy\n",
            "  if __name__ == '__main__':\n",
            "/usr/local/lib/python3.7/dist-packages/ipykernel_launcher.py:19: SettingWithCopyWarning: \n",
            "A value is trying to be set on a copy of a slice from a DataFrame.\n",
            "Try using .loc[row_indexer,col_indexer] = value instead\n",
            "\n",
            "See the caveats in the documentation: https://pandas.pydata.org/pandas-docs/stable/user_guide/indexing.html#returning-a-view-versus-a-copy\n"
          ]
        }
      ]
    },
    {
      "cell_type": "code",
      "source": [
        "data_train.groupby('level').count()"
      ],
      "metadata": {
        "colab": {
          "base_uri": "https://localhost:8080/",
          "height": 175
        },
        "id": "mxiqxbVQgziD",
        "outputId": "82a4cb65-4e0b-44bd-fc9e-ca72ed830348"
      },
      "id": "mxiqxbVQgziD",
      "execution_count": null,
      "outputs": [
        {
          "output_type": "execute_result",
          "data": {
            "text/html": [
              "\n",
              "  <div id=\"df-5f19a11b-ad4a-480c-b621-1b8a788c5b61\">\n",
              "    <div class=\"colab-df-container\">\n",
              "      <div>\n",
              "<style scoped>\n",
              "    .dataframe tbody tr th:only-of-type {\n",
              "        vertical-align: middle;\n",
              "    }\n",
              "\n",
              "    .dataframe tbody tr th {\n",
              "        vertical-align: top;\n",
              "    }\n",
              "\n",
              "    .dataframe thead th {\n",
              "        text-align: right;\n",
              "    }\n",
              "</style>\n",
              "<table border=\"1\" class=\"dataframe\">\n",
              "  <thead>\n",
              "    <tr style=\"text-align: right;\">\n",
              "      <th></th>\n",
              "      <th>Lemmatized</th>\n",
              "    </tr>\n",
              "    <tr>\n",
              "      <th>level</th>\n",
              "      <th></th>\n",
              "    </tr>\n",
              "  </thead>\n",
              "  <tbody>\n",
              "    <tr>\n",
              "      <th>0</th>\n",
              "      <td>5183</td>\n",
              "    </tr>\n",
              "    <tr>\n",
              "      <th>1</th>\n",
              "      <td>6109</td>\n",
              "    </tr>\n",
              "    <tr>\n",
              "      <th>2</th>\n",
              "      <td>6431</td>\n",
              "    </tr>\n",
              "  </tbody>\n",
              "</table>\n",
              "</div>\n",
              "      <button class=\"colab-df-convert\" onclick=\"convertToInteractive('df-5f19a11b-ad4a-480c-b621-1b8a788c5b61')\"\n",
              "              title=\"Convert this dataframe to an interactive table.\"\n",
              "              style=\"display:none;\">\n",
              "        \n",
              "  <svg xmlns=\"http://www.w3.org/2000/svg\" height=\"24px\"viewBox=\"0 0 24 24\"\n",
              "       width=\"24px\">\n",
              "    <path d=\"M0 0h24v24H0V0z\" fill=\"none\"/>\n",
              "    <path d=\"M18.56 5.44l.94 2.06.94-2.06 2.06-.94-2.06-.94-.94-2.06-.94 2.06-2.06.94zm-11 1L8.5 8.5l.94-2.06 2.06-.94-2.06-.94L8.5 2.5l-.94 2.06-2.06.94zm10 10l.94 2.06.94-2.06 2.06-.94-2.06-.94-.94-2.06-.94 2.06-2.06.94z\"/><path d=\"M17.41 7.96l-1.37-1.37c-.4-.4-.92-.59-1.43-.59-.52 0-1.04.2-1.43.59L10.3 9.45l-7.72 7.72c-.78.78-.78 2.05 0 2.83L4 21.41c.39.39.9.59 1.41.59.51 0 1.02-.2 1.41-.59l7.78-7.78 2.81-2.81c.8-.78.8-2.07 0-2.86zM5.41 20L4 18.59l7.72-7.72 1.47 1.35L5.41 20z\"/>\n",
              "  </svg>\n",
              "      </button>\n",
              "      \n",
              "  <style>\n",
              "    .colab-df-container {\n",
              "      display:flex;\n",
              "      flex-wrap:wrap;\n",
              "      gap: 12px;\n",
              "    }\n",
              "\n",
              "    .colab-df-convert {\n",
              "      background-color: #E8F0FE;\n",
              "      border: none;\n",
              "      border-radius: 50%;\n",
              "      cursor: pointer;\n",
              "      display: none;\n",
              "      fill: #1967D2;\n",
              "      height: 32px;\n",
              "      padding: 0 0 0 0;\n",
              "      width: 32px;\n",
              "    }\n",
              "\n",
              "    .colab-df-convert:hover {\n",
              "      background-color: #E2EBFA;\n",
              "      box-shadow: 0px 1px 2px rgba(60, 64, 67, 0.3), 0px 1px 3px 1px rgba(60, 64, 67, 0.15);\n",
              "      fill: #174EA6;\n",
              "    }\n",
              "\n",
              "    [theme=dark] .colab-df-convert {\n",
              "      background-color: #3B4455;\n",
              "      fill: #D2E3FC;\n",
              "    }\n",
              "\n",
              "    [theme=dark] .colab-df-convert:hover {\n",
              "      background-color: #434B5C;\n",
              "      box-shadow: 0px 1px 3px 1px rgba(0, 0, 0, 0.15);\n",
              "      filter: drop-shadow(0px 1px 2px rgba(0, 0, 0, 0.3));\n",
              "      fill: #FFFFFF;\n",
              "    }\n",
              "  </style>\n",
              "\n",
              "      <script>\n",
              "        const buttonEl =\n",
              "          document.querySelector('#df-5f19a11b-ad4a-480c-b621-1b8a788c5b61 button.colab-df-convert');\n",
              "        buttonEl.style.display =\n",
              "          google.colab.kernel.accessAllowed ? 'block' : 'none';\n",
              "\n",
              "        async function convertToInteractive(key) {\n",
              "          const element = document.querySelector('#df-5f19a11b-ad4a-480c-b621-1b8a788c5b61');\n",
              "          const dataTable =\n",
              "            await google.colab.kernel.invokeFunction('convertToInteractive',\n",
              "                                                     [key], {});\n",
              "          if (!dataTable) return;\n",
              "\n",
              "          const docLinkHtml = 'Like what you see? Visit the ' +\n",
              "            '<a target=\"_blank\" href=https://colab.research.google.com/notebooks/data_table.ipynb>data table notebook</a>'\n",
              "            + ' to learn more about interactive tables.';\n",
              "          element.innerHTML = '';\n",
              "          dataTable['output_type'] = 'display_data';\n",
              "          await google.colab.output.renderOutput(dataTable, element);\n",
              "          const docLink = document.createElement('div');\n",
              "          docLink.innerHTML = docLinkHtml;\n",
              "          element.appendChild(docLink);\n",
              "        }\n",
              "      </script>\n",
              "    </div>\n",
              "  </div>\n",
              "  "
            ],
            "text/plain": [
              "       Lemmatized\n",
              "level            \n",
              "0            5183\n",
              "1            6109\n",
              "2            6431"
            ]
          },
          "metadata": {},
          "execution_count": 22
        }
      ]
    },
    {
      "cell_type": "code",
      "execution_count": null,
      "id": "cd648ab2-485c-48a4-9107-0bbf46e4bdc3",
      "metadata": {
        "id": "cd648ab2-485c-48a4-9107-0bbf46e4bdc3"
      },
      "outputs": [],
      "source": [
        "import tensorflow as tf\n",
        "from tensorflow.python import keras\n",
        "from tensorflow.keras import preprocessing\n",
        "from tensorflow.keras.preprocessing.text import Tokenizer\n",
        "from tensorflow.keras.preprocessing.sequence import pad_sequences\n",
        "from tensorflow.keras.utils import to_categorical\n",
        "from tensorflow.keras.models import Sequential\n",
        "from tensorflow.keras.callbacks import EarlyStopping\n",
        "from tensorflow.keras.layers import Dense, Dropout, SpatialDropout1D, LSTM, Reshape, Embedding, TextVectorization"
      ]
    },
    {
      "cell_type": "code",
      "execution_count": null,
      "id": "20327059-5ca7-410d-9bbe-24ad19274efb",
      "metadata": {
        "colab": {
          "base_uri": "https://localhost:8080/"
        },
        "id": "20327059-5ca7-410d-9bbe-24ad19274efb",
        "outputId": "f7b0fbfe-95f2-4aff-bee6-1732e6ae19a6"
      },
      "outputs": [
        {
          "output_type": "stream",
          "name": "stdout",
          "text": [
            "Found 14014 unique tokens.\n"
          ]
        }
      ],
      "source": [
        "# The maximum number of words to be used. (most frequent)\n",
        "MAX_NB_WORDS = 8000\n",
        "# Max number of words in each sentence.\n",
        "MAX_SEQUENCE_LENGTH = 40\n",
        "# This is fixed for LSTM layer.\n",
        "EMBEDDING_DIM = 105\n",
        "tokenizer = Tokenizer(num_words=MAX_NB_WORDS, filters='!\"#$%&()*+,-./:;<=>?@[\\]^_`{|}~', lower=True)\n",
        "tokenizer.fit_on_texts(data_train['Lemmatized'].values)\n",
        "word_index = tokenizer.word_index\n",
        "print('Found %s unique tokens.' % len(word_index))"
      ]
    },
    {
      "cell_type": "code",
      "execution_count": null,
      "id": "b2d0c424-4c4e-44a8-adcb-24e76c9bc373",
      "metadata": {
        "colab": {
          "base_uri": "https://localhost:8080/"
        },
        "id": "b2d0c424-4c4e-44a8-adcb-24e76c9bc373",
        "outputId": "f08c225b-521a-45e5-ff04-fee5ccc90809"
      },
      "outputs": [
        {
          "output_type": "stream",
          "name": "stdout",
          "text": [
            "Shape of data tensor: (17723, 40)\n"
          ]
        }
      ],
      "source": [
        "X = tokenizer.texts_to_sequences(data_train['Lemmatized'].values)\n",
        "X = pad_sequences(X, maxlen=MAX_SEQUENCE_LENGTH)\n",
        "print('Shape of data tensor:', X.shape)"
      ]
    },
    {
      "cell_type": "code",
      "source": [
        "X_test = tokenizer.texts_to_sequences(data_test['Lemmatized'].values)\n",
        "X_test = pad_sequences(X_test, maxlen=MAX_SEQUENCE_LENGTH)\n"
      ],
      "metadata": {
        "id": "0co5uyir85Cc"
      },
      "id": "0co5uyir85Cc",
      "execution_count": null,
      "outputs": []
    },
    {
      "cell_type": "code",
      "execution_count": null,
      "id": "301807cd-27e0-4f41-9fac-b8083d8b3ece",
      "metadata": {
        "id": "301807cd-27e0-4f41-9fac-b8083d8b3ece"
      },
      "outputs": [],
      "source": [
        "y = to_categorical(data_train['level'].values)\n",
        "y_test = to_categorical(data_test['level'].values)"
      ]
    },
    {
      "cell_type": "code",
      "execution_count": null,
      "id": "4ca61373-ce89-4398-91f3-6de70660a43e",
      "metadata": {
        "colab": {
          "base_uri": "https://localhost:8080/"
        },
        "id": "4ca61373-ce89-4398-91f3-6de70660a43e",
        "outputId": "83d78e74-776c-4f8a-dcc4-3cacdec7c031"
      },
      "outputs": [
        {
          "output_type": "stream",
          "name": "stdout",
          "text": [
            "WARNING:tensorflow:Layer lstm will not use cuDNN kernels since it doesn't meet the criteria. It will use a generic GPU kernel as fallback when running on GPU.\n",
            "Epoch 1/100\n",
            "554/554 [==============================] - 143s 248ms/step - loss: 1.0659 - accuracy: 0.3896 - val_loss: 1.1413 - val_accuracy: 0.3217\n",
            "Epoch 2/100\n",
            "554/554 [==============================] - 125s 227ms/step - loss: 0.9518 - accuracy: 0.5047 - val_loss: 1.2785 - val_accuracy: 0.3329\n",
            "Epoch 3/100\n",
            "554/554 [==============================] - 124s 225ms/step - loss: 0.8616 - accuracy: 0.5629 - val_loss: 1.4281 - val_accuracy: 0.3043\n",
            "Epoch 4/100\n",
            "554/554 [==============================] - 125s 226ms/step - loss: 0.7990 - accuracy: 0.5972 - val_loss: 1.6940 - val_accuracy: 0.2993\n",
            "Epoch 5/100\n",
            "554/554 [==============================] - 124s 224ms/step - loss: 0.7463 - accuracy: 0.6236 - val_loss: 1.7864 - val_accuracy: 0.2828\n",
            "Epoch 6/100\n",
            "554/554 [==============================] - 126s 228ms/step - loss: 0.7010 - accuracy: 0.6448 - val_loss: 1.9582 - val_accuracy: 0.2711\n",
            "Epoch 7/100\n",
            "554/554 [==============================] - 126s 227ms/step - loss: 0.6657 - accuracy: 0.6588 - val_loss: 2.3266 - val_accuracy: 0.2662\n",
            "Epoch 8/100\n",
            "554/554 [==============================] - 124s 224ms/step - loss: 0.6268 - accuracy: 0.6789 - val_loss: 2.3451 - val_accuracy: 0.2443\n",
            "Epoch 9/100\n",
            "554/554 [==============================] - 124s 225ms/step - loss: 0.5997 - accuracy: 0.6901 - val_loss: 2.5977 - val_accuracy: 0.2474\n",
            "Epoch 10/100\n",
            "554/554 [==============================] - 127s 229ms/step - loss: 0.5714 - accuracy: 0.7026 - val_loss: 2.7899 - val_accuracy: 0.2613\n",
            "Epoch 11/100\n",
            "554/554 [==============================] - 127s 229ms/step - loss: 0.5460 - accuracy: 0.7139 - val_loss: 2.9065 - val_accuracy: 0.2586\n",
            "Epoch 12/100\n",
            "554/554 [==============================] - 127s 229ms/step - loss: 0.5290 - accuracy: 0.7225 - val_loss: 2.9750 - val_accuracy: 0.2403\n",
            "Epoch 13/100\n",
            "554/554 [==============================] - 127s 229ms/step - loss: 0.5096 - accuracy: 0.7262 - val_loss: 3.2316 - val_accuracy: 0.2550\n",
            "Epoch 14/100\n",
            "554/554 [==============================] - 127s 230ms/step - loss: 0.4873 - accuracy: 0.7359 - val_loss: 3.2766 - val_accuracy: 0.2416\n",
            "Epoch 15/100\n",
            "554/554 [==============================] - 127s 229ms/step - loss: 0.4784 - accuracy: 0.7403 - val_loss: 3.4946 - val_accuracy: 0.2430\n",
            "Epoch 16/100\n",
            "554/554 [==============================] - 128s 231ms/step - loss: 0.4631 - accuracy: 0.7478 - val_loss: 3.7852 - val_accuracy: 0.2447\n",
            "Epoch 17/100\n",
            "554/554 [==============================] - 127s 229ms/step - loss: 0.4499 - accuracy: 0.7573 - val_loss: 3.9320 - val_accuracy: 0.2474\n",
            "Epoch 18/100\n",
            "554/554 [==============================] - 128s 231ms/step - loss: 0.4375 - accuracy: 0.7621 - val_loss: 3.9402 - val_accuracy: 0.2461\n",
            "Epoch 19/100\n",
            "554/554 [==============================] - 127s 229ms/step - loss: 0.4297 - accuracy: 0.7683 - val_loss: 4.0777 - val_accuracy: 0.2407\n",
            "Epoch 20/100\n",
            "554/554 [==============================] - 128s 230ms/step - loss: 0.4218 - accuracy: 0.7662 - val_loss: 4.1762 - val_accuracy: 0.2434\n",
            "Epoch 21/100\n",
            "554/554 [==============================] - 127s 229ms/step - loss: 0.4091 - accuracy: 0.7748 - val_loss: 4.3919 - val_accuracy: 0.2447\n",
            "Epoch 22/100\n",
            "554/554 [==============================] - 127s 229ms/step - loss: 0.4112 - accuracy: 0.7739 - val_loss: 4.1390 - val_accuracy: 0.2416\n",
            "Epoch 23/100\n",
            "554/554 [==============================] - 127s 229ms/step - loss: 0.3994 - accuracy: 0.7787 - val_loss: 4.3936 - val_accuracy: 0.2438\n",
            "Epoch 24/100\n",
            "554/554 [==============================] - 127s 229ms/step - loss: 0.3941 - accuracy: 0.7792 - val_loss: 4.5475 - val_accuracy: 0.2452\n",
            "Epoch 25/100\n",
            "554/554 [==============================] - 126s 228ms/step - loss: 0.3862 - accuracy: 0.7863 - val_loss: 4.4829 - val_accuracy: 0.2367\n",
            "Epoch 26/100\n",
            "554/554 [==============================] - 126s 228ms/step - loss: 0.3815 - accuracy: 0.7848 - val_loss: 4.5374 - val_accuracy: 0.2407\n",
            "Epoch 27/100\n",
            "554/554 [==============================] - 126s 228ms/step - loss: 0.3741 - accuracy: 0.7905 - val_loss: 4.7789 - val_accuracy: 0.2353\n",
            "Epoch 28/100\n",
            "554/554 [==============================] - 127s 228ms/step - loss: 0.3674 - accuracy: 0.7938 - val_loss: 4.7661 - val_accuracy: 0.2416\n",
            "Epoch 29/100\n",
            "554/554 [==============================] - 126s 227ms/step - loss: 0.3658 - accuracy: 0.7912 - val_loss: 4.7669 - val_accuracy: 0.2398\n",
            "Epoch 30/100\n",
            "554/554 [==============================] - 125s 226ms/step - loss: 0.3565 - accuracy: 0.7974 - val_loss: 4.9840 - val_accuracy: 0.2345\n",
            "Epoch 31/100\n",
            "554/554 [==============================] - 126s 227ms/step - loss: 0.3610 - accuracy: 0.7952 - val_loss: 4.8720 - val_accuracy: 0.2376\n",
            "Epoch 32/100\n",
            "554/554 [==============================] - 126s 227ms/step - loss: 0.3534 - accuracy: 0.8003 - val_loss: 5.0236 - val_accuracy: 0.2376\n",
            "Epoch 33/100\n",
            "554/554 [==============================] - 128s 230ms/step - loss: 0.3509 - accuracy: 0.7990 - val_loss: 5.1467 - val_accuracy: 0.2340\n",
            "Epoch 34/100\n",
            "554/554 [==============================] - 126s 228ms/step - loss: 0.3431 - accuracy: 0.8017 - val_loss: 4.9796 - val_accuracy: 0.2394\n",
            "Epoch 35/100\n",
            "554/554 [==============================] - 127s 229ms/step - loss: 0.3422 - accuracy: 0.8034 - val_loss: 5.0707 - val_accuracy: 0.2447\n",
            "Epoch 36/100\n",
            "554/554 [==============================] - 127s 229ms/step - loss: 0.3427 - accuracy: 0.8008 - val_loss: 5.1183 - val_accuracy: 0.2452\n",
            "Epoch 37/100\n",
            "554/554 [==============================] - 127s 229ms/step - loss: 0.3287 - accuracy: 0.8082 - val_loss: 5.2947 - val_accuracy: 0.2398\n",
            "Epoch 38/100\n",
            "554/554 [==============================] - 126s 228ms/step - loss: 0.3338 - accuracy: 0.8069 - val_loss: 5.1813 - val_accuracy: 0.2340\n",
            "Epoch 39/100\n",
            "554/554 [==============================] - 126s 228ms/step - loss: 0.3265 - accuracy: 0.8111 - val_loss: 5.3117 - val_accuracy: 0.2380\n",
            "Epoch 40/100\n",
            "554/554 [==============================] - 127s 229ms/step - loss: 0.3292 - accuracy: 0.8106 - val_loss: 5.3569 - val_accuracy: 0.2340\n",
            "Epoch 41/100\n",
            "554/554 [==============================] - 126s 227ms/step - loss: 0.3267 - accuracy: 0.8127 - val_loss: 5.2052 - val_accuracy: 0.2362\n",
            "Epoch 42/100\n",
            "554/554 [==============================] - 126s 228ms/step - loss: 0.3201 - accuracy: 0.8154 - val_loss: 5.4316 - val_accuracy: 0.2430\n",
            "Epoch 43/100\n",
            "554/554 [==============================] - 127s 229ms/step - loss: 0.3138 - accuracy: 0.8143 - val_loss: 5.3971 - val_accuracy: 0.2389\n",
            "Epoch 44/100\n",
            "554/554 [==============================] - 126s 228ms/step - loss: 0.3146 - accuracy: 0.8143 - val_loss: 5.5193 - val_accuracy: 0.2425\n",
            "Epoch 45/100\n",
            "554/554 [==============================] - 125s 226ms/step - loss: 0.3135 - accuracy: 0.8181 - val_loss: 5.5107 - val_accuracy: 0.2434\n",
            "Epoch 46/100\n",
            "554/554 [==============================] - 126s 227ms/step - loss: 0.3119 - accuracy: 0.8168 - val_loss: 5.4410 - val_accuracy: 0.2327\n",
            "Epoch 47/100\n",
            "554/554 [==============================] - 126s 227ms/step - loss: 0.3107 - accuracy: 0.8178 - val_loss: 5.4952 - val_accuracy: 0.2345\n",
            "Epoch 48/100\n",
            "554/554 [==============================] - 126s 227ms/step - loss: 0.3041 - accuracy: 0.8172 - val_loss: 5.6428 - val_accuracy: 0.2327\n",
            "Epoch 49/100\n",
            "554/554 [==============================] - 129s 232ms/step - loss: 0.3047 - accuracy: 0.8200 - val_loss: 5.6868 - val_accuracy: 0.2309\n",
            "Epoch 50/100\n",
            "554/554 [==============================] - 129s 232ms/step - loss: 0.3048 - accuracy: 0.8210 - val_loss: 5.5839 - val_accuracy: 0.2331\n",
            "Epoch 51/100\n",
            "554/554 [==============================] - 127s 230ms/step - loss: 0.3024 - accuracy: 0.8205 - val_loss: 5.7624 - val_accuracy: 0.2470\n",
            "Epoch 52/100\n",
            "554/554 [==============================] - 127s 229ms/step - loss: 0.3015 - accuracy: 0.8193 - val_loss: 5.6872 - val_accuracy: 0.2456\n",
            "Epoch 53/100\n",
            "554/554 [==============================] - 128s 230ms/step - loss: 0.2926 - accuracy: 0.8216 - val_loss: 5.9585 - val_accuracy: 0.2376\n",
            "Epoch 54/100\n",
            "554/554 [==============================] - 127s 229ms/step - loss: 0.2935 - accuracy: 0.8272 - val_loss: 5.7860 - val_accuracy: 0.2345\n",
            "Epoch 55/100\n",
            "554/554 [==============================] - 126s 228ms/step - loss: 0.2971 - accuracy: 0.8215 - val_loss: 5.7559 - val_accuracy: 0.2470\n",
            "Epoch 56/100\n",
            "554/554 [==============================] - 127s 229ms/step - loss: 0.2916 - accuracy: 0.8281 - val_loss: 5.9388 - val_accuracy: 0.2416\n",
            "Epoch 57/100\n",
            "554/554 [==============================] - 127s 228ms/step - loss: 0.2894 - accuracy: 0.8263 - val_loss: 5.7080 - val_accuracy: 0.2421\n",
            "Epoch 58/100\n",
            "554/554 [==============================] - 126s 228ms/step - loss: 0.2912 - accuracy: 0.8247 - val_loss: 6.0326 - val_accuracy: 0.2412\n",
            "Epoch 59/100\n",
            "554/554 [==============================] - 127s 229ms/step - loss: 0.2931 - accuracy: 0.8260 - val_loss: 5.9338 - val_accuracy: 0.2331\n",
            "Epoch 60/100\n",
            "554/554 [==============================] - 126s 228ms/step - loss: 0.2872 - accuracy: 0.8260 - val_loss: 5.8062 - val_accuracy: 0.2376\n",
            "Epoch 61/100\n",
            "554/554 [==============================] - 126s 228ms/step - loss: 0.2838 - accuracy: 0.8279 - val_loss: 6.0471 - val_accuracy: 0.2345\n",
            "Epoch 62/100\n",
            "554/554 [==============================] - 126s 227ms/step - loss: 0.2839 - accuracy: 0.8277 - val_loss: 5.9384 - val_accuracy: 0.2430\n",
            "Epoch 63/100\n",
            "554/554 [==============================] - 126s 228ms/step - loss: 0.2814 - accuracy: 0.8281 - val_loss: 6.0989 - val_accuracy: 0.2447\n",
            "Epoch 64/100\n",
            "554/554 [==============================] - 126s 227ms/step - loss: 0.2851 - accuracy: 0.8298 - val_loss: 5.8971 - val_accuracy: 0.2380\n",
            "Epoch 65/100\n",
            "554/554 [==============================] - 126s 228ms/step - loss: 0.2798 - accuracy: 0.8317 - val_loss: 5.9781 - val_accuracy: 0.2376\n",
            "Epoch 66/100\n",
            "554/554 [==============================] - 127s 229ms/step - loss: 0.2798 - accuracy: 0.8279 - val_loss: 6.1916 - val_accuracy: 0.2371\n",
            "Epoch 67/100\n",
            "554/554 [==============================] - 126s 227ms/step - loss: 0.2857 - accuracy: 0.8312 - val_loss: 5.8660 - val_accuracy: 0.2452\n",
            "Epoch 68/100\n",
            "554/554 [==============================] - 126s 228ms/step - loss: 0.2792 - accuracy: 0.8301 - val_loss: 6.1074 - val_accuracy: 0.2438\n",
            "Epoch 69/100\n",
            "554/554 [==============================] - 126s 228ms/step - loss: 0.2733 - accuracy: 0.8302 - val_loss: 6.1575 - val_accuracy: 0.2394\n",
            "Epoch 70/100\n",
            "554/554 [==============================] - 127s 229ms/step - loss: 0.2803 - accuracy: 0.8272 - val_loss: 6.0513 - val_accuracy: 0.2371\n",
            "Epoch 71/100\n",
            "554/554 [==============================] - 127s 229ms/step - loss: 0.2734 - accuracy: 0.8295 - val_loss: 6.0881 - val_accuracy: 0.2416\n",
            "Epoch 72/100\n",
            "554/554 [==============================] - 126s 228ms/step - loss: 0.2759 - accuracy: 0.8335 - val_loss: 6.1552 - val_accuracy: 0.2510\n"
          ]
        }
      ],
      "source": [
        "model = Sequential()\n",
        "model.add(Embedding(MAX_NB_WORDS, EMBEDDING_DIM, input_length=X.shape[1]))\n",
        "model.add(SpatialDropout1D(0.2))\n",
        "model.add(LSTM(105, dropout=0.2, recurrent_dropout=0.2))\n",
        "model.add(Dense(3, activation='softmax'))\n",
        "model.compile(loss='categorical_crossentropy', optimizer='adam', metrics=['accuracy'])\n",
        "\n",
        "epochs = 100\n",
        "batch_size = 32\n",
        "# epochs = 1\n",
        "# batch_size = 512\n",
        "#monitor='val_accuracy', mode='max', min_delta=1 monitor='loss', patience=3, min_delta=0.0001\n",
        "history = model.fit(X, y, epochs=epochs, batch_size=batch_size, validation_data=(X_test, y_test),\n",
        "                    callbacks=[EarlyStopping(monitor='loss', patience=3, min_delta=0.0001)])\n"
      ]
    },
    {
      "cell_type": "code",
      "source": [
        "_, train_acc = model.evaluate(X, y, verbose=0)\n",
        "_, test_acc = model.evaluate(X_test, y_test, verbose=0)\n",
        "print('Train: %.3f, Test: %.3f' % (train_acc, test_acc))"
      ],
      "metadata": {
        "id": "alMiJjV2DISf",
        "colab": {
          "base_uri": "https://localhost:8080/"
        },
        "outputId": "e94c555c-b59f-4082-b63f-8f1cce137f2b"
      },
      "id": "alMiJjV2DISf",
      "execution_count": null,
      "outputs": [
        {
          "output_type": "stream",
          "name": "stdout",
          "text": [
            "Train: 0.858, Test: 0.251\n"
          ]
        }
      ]
    },
    {
      "cell_type": "code",
      "execution_count": null,
      "id": "95b205ed-3198-4e4d-917c-dc4de7903fef",
      "metadata": {
        "id": "95b205ed-3198-4e4d-917c-dc4de7903fef",
        "colab": {
          "base_uri": "https://localhost:8080/"
        },
        "outputId": "644d0591-ea22-4831-ed6d-44e0c95174f2"
      },
      "outputs": [
        {
          "output_type": "stream",
          "name": "stdout",
          "text": [
            "70/70 [==============================] - 1s 16ms/step - loss: 6.1552 - accuracy: 0.2510\n",
            "Test set\n",
            "  Loss: 6.155\n",
            "  Accuracy: 0.251\n"
          ]
        }
      ],
      "source": [
        "accr = model.evaluate(X_test, y_test)\n",
        "print('Test set\\n  Loss: {:0.3f}\\n  Accuracy: {:0.3f}'.format(accr[0],accr[1]))"
      ]
    },
    {
      "cell_type": "code",
      "execution_count": null,
      "id": "af5e3f12-8318-48a6-908c-0564062e37cb",
      "metadata": {
        "id": "af5e3f12-8318-48a6-908c-0564062e37cb",
        "colab": {
          "base_uri": "https://localhost:8080/",
          "height": 281
        },
        "outputId": "772502f2-9ee7-4ba5-a8cc-ff457287de9e"
      },
      "outputs": [
        {
          "output_type": "display_data",
          "data": {
            "image/png": "[encoded data removed]",
            "text/plain": [
              "<Figure size 432x288 with 1 Axes>"
            ]
          },
          "metadata": {
            "needs_background": "light"
          }
        }
      ],
      "source": [
        "plt.title('Loss')\n",
        "plt.plot(history.history['loss'], label='train')\n",
        "plt.plot(history.history['val_loss'], label='validation')\n",
        "plt.legend()\n",
        "plt.show();"
      ]
    },
    {
      "cell_type": "code",
      "source": [
        "plt.title('Accuracy')\n",
        "plt.plot(history.history['accuracy'], label='train')\n",
        "plt.plot(history.history['val_accuracy'], label='validation')\n",
        "plt.legend()\n",
        "plt.show();"
      ],
      "metadata": {
        "id": "m8KnxO9HrAlT",
        "colab": {
          "base_uri": "https://localhost:8080/",
          "height": 281
        },
        "outputId": "1e24224e-bcb3-44d1-e8e1-52282bbeadbe"
      },
      "id": "m8KnxO9HrAlT",
      "execution_count": null,
      "outputs": [
        {
          "output_type": "display_data",
          "data": {
            "image/png": "[encoded data removed]",
            "text/plain": [
              "<Figure size 432x288 with 1 Axes>"
            ]
          },
          "metadata": {
            "needs_background": "light"
          }
        }
      ]
    }
  ],
  "metadata": {
    "kernelspec": {
      "display_name": "Python 3",
      "name": "python3"
    },
    "language_info": {
      "name": "python"
    },
    "colab": {
      "name": "data_modelling_keras_final.ipynb",
      "provenance": [],
      "collapsed_sections": [],
      "include_colab_link": true
    },
    "accelerator": "GPU"
  },
  "nbformat": 4,
  "nbformat_minor": 5
}