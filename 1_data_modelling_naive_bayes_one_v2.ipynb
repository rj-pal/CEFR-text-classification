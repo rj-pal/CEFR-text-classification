{
 "cells": [
  {
   "cell_type": "code",
   "execution_count": 32,
   "id": "521c5190-1ec0-4707-a84a-2a2f1701aa02",
   "metadata": {},
   "outputs": [],
   "source": [
    "import pandas as pd\n",
    "import numpy as np\n",
    "import seaborn as sns\n",
    "import matplotlib.pyplot as plt\n",
    "import preprocessing_nlp as pp\n",
    "import cleaning_nlp as cc\n",
    "import nltk"
   ]
  },
  {
   "cell_type": "markdown",
   "id": "ff714700-5917-4213-8d8f-d5ce6560ec75",
   "metadata": {},
   "source": [
    "### Naive Bayes Test on the One-Stop-English-Corpus"
   ]
  },
  {
   "cell_type": "code",
   "execution_count": 33,
   "id": "5e2fae4a-f57f-4ff6-bb4f-d8fea4cc21cc",
   "metadata": {},
   "outputs": [],
   "source": [
    "# df = pd.read_csv('data/one_stop.csv')\n",
    "# df_back = df.copy()"
   ]
  },
  {
   "cell_type": "code",
   "execution_count": 34,
   "id": "55ef2a77-aeab-424c-a541-3315e2b9cad6",
   "metadata": {},
   "outputs": [],
   "source": [
    "data = cc.get_one_stop_dataframe(levels=False)\n",
    "df_back = data.copy()"
   ]
  },
  {
   "cell_type": "code",
   "execution_count": 35,
   "id": "ffdccfbf-f8c5-4fe7-b17c-adae67bedd2a",
   "metadata": {},
   "outputs": [],
   "source": [
    "df = data[['documents', 'level']]"
   ]
  },
  {
   "cell_type": "code",
   "execution_count": 36,
   "id": "c525f169-9dd8-46c7-80ff-e4bdc5b08259",
   "metadata": {},
   "outputs": [],
   "source": [
    "df_processed =  pp.preprocess_all(df, 'documents')"
   ]
  },
  {
   "cell_type": "code",
   "execution_count": 37,
   "id": "5b0312b9-d18a-46a2-ab05-507fde80f30d",
   "metadata": {},
   "outputs": [
    {
     "data": {
      "text/html": [
       "<div>\n",
       "<style scoped>\n",
       "    .dataframe tbody tr th:only-of-type {\n",
       "        vertical-align: middle;\n",
       "    }\n",
       "\n",
       "    .dataframe tbody tr th {\n",
       "        vertical-align: top;\n",
       "    }\n",
       "\n",
       "    .dataframe thead th {\n",
       "        text-align: right;\n",
       "    }\n",
       "</style>\n",
       "<table border=\"1\" class=\"dataframe\">\n",
       "  <thead>\n",
       "    <tr style=\"text-align: right;\">\n",
       "      <th></th>\n",
       "      <th>documents</th>\n",
       "      <th>level</th>\n",
       "      <th>documents_clean</th>\n",
       "      <th>Lemmatized</th>\n",
       "      <th>Stemmed</th>\n",
       "    </tr>\n",
       "  </thead>\n",
       "  <tbody>\n",
       "    <tr>\n",
       "      <th>0</th>\n",
       "      <td>SeaWorld's profits fell by 84% and customers a...</td>\n",
       "      <td>0</td>\n",
       "      <td>profits fell customers staying away water them...</td>\n",
       "      <td>profit fell customer staying away water theme ...</td>\n",
       "      <td>profit fell custom stay away water theme park ...</td>\n",
       "    </tr>\n",
       "    <tr>\n",
       "      <th>1</th>\n",
       "      <td>The company teaches dolphins and killer whales...</td>\n",
       "      <td>0</td>\n",
       "      <td>company teaches dolphins killer whales tricks ...</td>\n",
       "      <td>company teach dolphin killer whale trick front...</td>\n",
       "      <td>compani teach dolphin killer whale trick front...</td>\n",
       "    </tr>\n",
       "    <tr>\n",
       "      <th>2</th>\n",
       "      <td>It says fewer people are going to its parks an...</td>\n",
       "      <td>0</td>\n",
       "      <td>says fewer people going parks profits reduced</td>\n",
       "      <td>say fewer people going park profit reduced</td>\n",
       "      <td>say fewer peopl go park profit reduc</td>\n",
       "    </tr>\n",
       "    <tr>\n",
       "      <th>3</th>\n",
       "      <td>SeaWorld has been in the news since the 2013 d...</td>\n",
       "      <td>0</td>\n",
       "      <td>seaworld news since thedocumentary film blackf...</td>\n",
       "      <td>seaworld news since thedocumentary film blackf...</td>\n",
       "      <td>seaworld news sinc thedocumentari film blackfi...</td>\n",
       "    </tr>\n",
       "    <tr>\n",
       "      <th>4</th>\n",
       "      <td>Animal rights organizations say that orcas kep...</td>\n",
       "      <td>0</td>\n",
       "      <td>animal rights organizations say orcas kept tan...</td>\n",
       "      <td>animal right organization say orca kept tank d...</td>\n",
       "      <td>anim right organ say orca kept tank die younge...</td>\n",
       "    </tr>\n",
       "    <tr>\n",
       "      <th>...</th>\n",
       "      <td>...</td>\n",
       "      <td>...</td>\n",
       "      <td>...</td>\n",
       "      <td>...</td>\n",
       "      <td>...</td>\n",
       "    </tr>\n",
       "    <tr>\n",
       "      <th>7390</th>\n",
       "      <td>One major problem is complicity between senior...</td>\n",
       "      <td>2</td>\n",
       "      <td>one major problem complicity senior officials ...</td>\n",
       "      <td>one major problem complicity senior official m...</td>\n",
       "      <td>one major problem complic senior offici mafia ...</td>\n",
       "    </tr>\n",
       "    <tr>\n",
       "      <th>7391</th>\n",
       "      <td>As the number of tigers has increased over the...</td>\n",
       "      <td>2</td>\n",
       "      <td>number tigers increased years incidents confli...</td>\n",
       "      <td>number tiger increased year incident conflict ...</td>\n",
       "      <td>number tiger increas year incid conflict villa...</td>\n",
       "    </tr>\n",
       "    <tr>\n",
       "      <th>7392</th>\n",
       "      <td>Wildlife authorities captured a tiger in Chitw...</td>\n",
       "      <td>2</td>\n",
       "      <td>wildlife authorities captured tiger chitwan ki...</td>\n",
       "      <td>wildlife authority captured tiger chitwan kill...</td>\n",
       "      <td>wildlif author captur tiger chitwan kill two p...</td>\n",
       "    </tr>\n",
       "    <tr>\n",
       "      <th>7393</th>\n",
       "      <td>Diwakar Chapagain, who heads a World Wildlife ...</td>\n",
       "      <td>2</td>\n",
       "      <td>diwakar chapagain heads world wildlife fund ne...</td>\n",
       "      <td>diwakar chapagain head world wildlife fund nep...</td>\n",
       "      <td>diwakar chapagain head world wildlif fund nepa...</td>\n",
       "    </tr>\n",
       "    <tr>\n",
       "      <th>7394</th>\n",
       "      <td>In Nepal, kings used to stand on tiger skins i...</td>\n",
       "      <td>2</td>\n",
       "      <td>nepal kings used stand tiger skins front stuff...</td>\n",
       "      <td>nepal king used stand tiger skin front stuffed...</td>\n",
       "      <td>nepal king use stand tiger skin front stuf tig...</td>\n",
       "    </tr>\n",
       "  </tbody>\n",
       "</table>\n",
       "<p>7395 rows × 5 columns</p>\n",
       "</div>"
      ],
      "text/plain": [
       "                                              documents  level  \\\n",
       "0     SeaWorld's profits fell by 84% and customers a...      0   \n",
       "1     The company teaches dolphins and killer whales...      0   \n",
       "2     It says fewer people are going to its parks an...      0   \n",
       "3     SeaWorld has been in the news since the 2013 d...      0   \n",
       "4     Animal rights organizations say that orcas kep...      0   \n",
       "...                                                 ...    ...   \n",
       "7390  One major problem is complicity between senior...      2   \n",
       "7391  As the number of tigers has increased over the...      2   \n",
       "7392  Wildlife authorities captured a tiger in Chitw...      2   \n",
       "7393  Diwakar Chapagain, who heads a World Wildlife ...      2   \n",
       "7394  In Nepal, kings used to stand on tiger skins i...      2   \n",
       "\n",
       "                                        documents_clean  \\\n",
       "0     profits fell customers staying away water them...   \n",
       "1     company teaches dolphins killer whales tricks ...   \n",
       "2         says fewer people going parks profits reduced   \n",
       "3     seaworld news since thedocumentary film blackf...   \n",
       "4     animal rights organizations say orcas kept tan...   \n",
       "...                                                 ...   \n",
       "7390  one major problem complicity senior officials ...   \n",
       "7391  number tigers increased years incidents confli...   \n",
       "7392  wildlife authorities captured tiger chitwan ki...   \n",
       "7393  diwakar chapagain heads world wildlife fund ne...   \n",
       "7394  nepal kings used stand tiger skins front stuff...   \n",
       "\n",
       "                                             Lemmatized  \\\n",
       "0     profit fell customer staying away water theme ...   \n",
       "1     company teach dolphin killer whale trick front...   \n",
       "2            say fewer people going park profit reduced   \n",
       "3     seaworld news since thedocumentary film blackf...   \n",
       "4     animal right organization say orca kept tank d...   \n",
       "...                                                 ...   \n",
       "7390  one major problem complicity senior official m...   \n",
       "7391  number tiger increased year incident conflict ...   \n",
       "7392  wildlife authority captured tiger chitwan kill...   \n",
       "7393  diwakar chapagain head world wildlife fund nep...   \n",
       "7394  nepal king used stand tiger skin front stuffed...   \n",
       "\n",
       "                                                Stemmed  \n",
       "0     profit fell custom stay away water theme park ...  \n",
       "1     compani teach dolphin killer whale trick front...  \n",
       "2                  say fewer peopl go park profit reduc  \n",
       "3     seaworld news sinc thedocumentari film blackfi...  \n",
       "4     anim right organ say orca kept tank die younge...  \n",
       "...                                                 ...  \n",
       "7390  one major problem complic senior offici mafia ...  \n",
       "7391  number tiger increas year incid conflict villa...  \n",
       "7392  wildlif author captur tiger chitwan kill two p...  \n",
       "7393  diwakar chapagain head world wildlif fund nepa...  \n",
       "7394  nepal king use stand tiger skin front stuf tig...  \n",
       "\n",
       "[7395 rows x 5 columns]"
      ]
     },
     "execution_count": 37,
     "metadata": {},
     "output_type": "execute_result"
    }
   ],
   "source": [
    "df_processed"
   ]
  },
  {
   "cell_type": "code",
   "execution_count": 38,
   "id": "ddca8666-362b-4dd6-ba0d-a3dd64e5332c",
   "metadata": {},
   "outputs": [],
   "source": [
    "data = df_processed[['Lemmatized','level']]"
   ]
  },
  {
   "cell_type": "code",
   "execution_count": 39,
   "id": "cbc31b46-f8d8-4921-984c-4de1408f3da4",
   "metadata": {},
   "outputs": [],
   "source": [
    "documents = data.Lemmatized\n",
    "target = data.level\n",
    "\n",
    "from sklearn.model_selection import train_test_split\n",
    "\n",
    "X_train, X_test, y_train, y_test = train_test_split(documents, target, test_size=0.3, random_state=29)"
   ]
  },
  {
   "cell_type": "code",
   "execution_count": 40,
   "id": "3164ee20-90e8-4207-9c35-67790d62a3ff",
   "metadata": {},
   "outputs": [],
   "source": [
    "from sklearn.feature_extraction.text import CountVectorizer\n",
    "\n",
    "cv = CountVectorizer()\n",
    "\n",
    "X_train_vectors = cv.fit_transform(X_train).toarray()\n",
    "X_test_vectors = cv.transform(X_test).toarray()"
   ]
  },
  {
   "cell_type": "code",
   "execution_count": 41,
   "id": "c7b0f98a-dff5-43d9-b860-4cbdc363e39f",
   "metadata": {},
   "outputs": [
    {
     "data": {
      "text/plain": [
       "(5176, 12723)"
      ]
     },
     "execution_count": 41,
     "metadata": {},
     "output_type": "execute_result"
    }
   ],
   "source": [
    "X_train_vectors.shape"
   ]
  },
  {
   "cell_type": "code",
   "execution_count": 42,
   "id": "7ebc8bb7-2ce8-4a60-ad2d-8785717afdc8",
   "metadata": {},
   "outputs": [
    {
     "data": {
      "text/plain": [
       "(2219, 12723)"
      ]
     },
     "execution_count": 42,
     "metadata": {},
     "output_type": "execute_result"
    }
   ],
   "source": [
    "X_test_vectors.shape"
   ]
  },
  {
   "cell_type": "code",
   "execution_count": 43,
   "id": "a95447c2-5bd5-488f-9223-2857efec7664",
   "metadata": {},
   "outputs": [],
   "source": [
    "from sklearn.preprocessing import LabelEncoder\n",
    "\n",
    "le = LabelEncoder()\n",
    "\n",
    "y_train_labels = le.fit_transform(y_train)\n",
    "y_test_labels = le.transform(y_test)"
   ]
  },
  {
   "cell_type": "code",
   "execution_count": 44,
   "id": "2942249f-ad08-46e8-8d34-9cc7837d3f99",
   "metadata": {},
   "outputs": [
    {
     "data": {
      "text/plain": [
       "array([0.31402086, 0.31188406, 0.29101449])"
      ]
     },
     "execution_count": 44,
     "metadata": {},
     "output_type": "execute_result"
    }
   ],
   "source": [
    "from sklearn.naive_bayes import MultinomialNB\n",
    "from sklearn.model_selection import cross_validate\n",
    "\n",
    "nb = MultinomialNB()\n",
    "\n",
    "cv_results = cross_validate(nb, X_train_vectors, y_train_labels, cv=3)\n",
    "sorted(cv_results.keys())\n",
    "\n",
    "cv_results['test_score']"
   ]
  },
  {
   "cell_type": "code",
   "execution_count": 45,
   "id": "4f10977e-5d5f-4be9-a553-c305292ba5f1",
   "metadata": {},
   "outputs": [
    {
     "data": {
      "text/plain": [
       "MultinomialNB()"
      ]
     },
     "execution_count": 45,
     "metadata": {},
     "output_type": "execute_result"
    }
   ],
   "source": [
    "nb.fit(X_train_vectors, y_train_labels)"
   ]
  },
  {
   "cell_type": "code",
   "execution_count": 46,
   "id": "435b351f-7f54-4dab-8caf-5bb47f93794a",
   "metadata": {},
   "outputs": [
    {
     "name": "stdout",
     "output_type": "stream",
     "text": [
      "Training Acc.:  0.7905718701700154\n",
      "Test Acc.:  0.2870662460567823\n"
     ]
    }
   ],
   "source": [
    "print(\"Training Acc.: \", nb.score(X_train_vectors, y_train_labels))\n",
    "print(\"Test Acc.: \", nb.score(X_test_vectors, y_test_labels))"
   ]
  },
  {
   "cell_type": "code",
   "execution_count": 47,
   "id": "41e8b219-842d-40e9-80c9-d75db77ed514",
   "metadata": {},
   "outputs": [],
   "source": [
    "test_pred = nb.predict(X_test_vectors)"
   ]
  },
  {
   "cell_type": "code",
   "execution_count": 48,
   "id": "fefe66e8-664d-4012-abcb-e214ef2ece06",
   "metadata": {},
   "outputs": [
    {
     "name": "stdout",
     "output_type": "stream",
     "text": [
      "Confusion Matrix\n"
     ]
    },
    {
     "data": {
      "image/png": "[encoded data removed]",
      "text/plain": [
       "<Figure size 432x288 with 2 Axes>"
      ]
     },
     "metadata": {
      "needs_background": "light"
     },
     "output_type": "display_data"
    }
   ],
   "source": [
    "from sklearn import metrics\n",
    "\n",
    "print('Confusion Matrix')\n",
    "\n",
    "cm = metrics.confusion_matrix(y_test_labels, test_pred, labels=nb.classes_)\n",
    "disp = metrics.ConfusionMatrixDisplay(confusion_matrix=cm,\n",
    "                               display_labels=nb.classes_)\n",
    "disp.plot()\n",
    "plt.show()"
   ]
  },
  {
   "cell_type": "markdown",
   "id": "9dd6e1f2-ec21-44e7-b2fe-cd6fed4210c5",
   "metadata": {},
   "source": [
    "### TF IDF experiment with the One-Stop-Corpus also including the feature average number of words"
   ]
  },
  {
   "cell_type": "code",
   "execution_count": 63,
   "id": "e17ba713-bd48-4c11-bf4b-d0e23f74991f",
   "metadata": {},
   "outputs": [],
   "source": [
    "data = df_back[['documents', 'avg_num_words', 'level']]"
   ]
  },
  {
   "cell_type": "code",
   "execution_count": 64,
   "id": "f78813c7-ea6f-408f-a912-a77244e70d2b",
   "metadata": {},
   "outputs": [],
   "source": [
    "df_processed = pp.preprocess_all(data, 'documents')"
   ]
  },
  {
   "cell_type": "code",
   "execution_count": 65,
   "id": "68cd51bd-7a66-4021-88a0-b831e46363d5",
   "metadata": {},
   "outputs": [
    {
     "data": {
      "text/html": [
       "<div>\n",
       "<style scoped>\n",
       "    .dataframe tbody tr th:only-of-type {\n",
       "        vertical-align: middle;\n",
       "    }\n",
       "\n",
       "    .dataframe tbody tr th {\n",
       "        vertical-align: top;\n",
       "    }\n",
       "\n",
       "    .dataframe thead th {\n",
       "        text-align: right;\n",
       "    }\n",
       "</style>\n",
       "<table border=\"1\" class=\"dataframe\">\n",
       "  <thead>\n",
       "    <tr style=\"text-align: right;\">\n",
       "      <th></th>\n",
       "      <th>documents</th>\n",
       "      <th>avg_num_words</th>\n",
       "      <th>level</th>\n",
       "      <th>documents_clean</th>\n",
       "      <th>Lemmatized</th>\n",
       "      <th>Stemmed</th>\n",
       "    </tr>\n",
       "  </thead>\n",
       "  <tbody>\n",
       "    <tr>\n",
       "      <th>0</th>\n",
       "      <td>SeaWorld's profits fell by 84% and customers a...</td>\n",
       "      <td>25.0</td>\n",
       "      <td>0</td>\n",
       "      <td>profits fell customers staying away water them...</td>\n",
       "      <td>profit fell customer staying away water theme ...</td>\n",
       "      <td>profit fell custom stay away water theme park ...</td>\n",
       "    </tr>\n",
       "    <tr>\n",
       "      <th>1</th>\n",
       "      <td>The company teaches dolphins and killer whales...</td>\n",
       "      <td>17.0</td>\n",
       "      <td>0</td>\n",
       "      <td>company teaches dolphins killer whales tricks ...</td>\n",
       "      <td>company teach dolphin killer whale trick front...</td>\n",
       "      <td>compani teach dolphin killer whale trick front...</td>\n",
       "    </tr>\n",
       "  </tbody>\n",
       "</table>\n",
       "</div>"
      ],
      "text/plain": [
       "                                           documents  avg_num_words  level  \\\n",
       "0  SeaWorld's profits fell by 84% and customers a...           25.0      0   \n",
       "1  The company teaches dolphins and killer whales...           17.0      0   \n",
       "\n",
       "                                     documents_clean  \\\n",
       "0  profits fell customers staying away water them...   \n",
       "1  company teaches dolphins killer whales tricks ...   \n",
       "\n",
       "                                          Lemmatized  \\\n",
       "0  profit fell customer staying away water theme ...   \n",
       "1  company teach dolphin killer whale trick front...   \n",
       "\n",
       "                                             Stemmed  \n",
       "0  profit fell custom stay away water theme park ...  \n",
       "1  compani teach dolphin killer whale trick front...  "
      ]
     },
     "execution_count": 65,
     "metadata": {},
     "output_type": "execute_result"
    }
   ],
   "source": [
    "df_processed.head(2)"
   ]
  },
  {
   "cell_type": "code",
   "execution_count": 66,
   "id": "9baf4fb0-7016-42ee-9e8c-046d2e01f547",
   "metadata": {},
   "outputs": [],
   "source": [
    "features = ['Lemmatized', 'avg_num_words']\n",
    "documents = df_processed[features]\n",
    "target = df_processed['level']\n",
    "\n",
    "from sklearn.model_selection import train_test_split\n",
    "\n",
    "X_train, X_test, y_train, y_test = train_test_split(documents, target, test_size=0.2, random_state=29 )"
   ]
  },
  {
   "cell_type": "code",
   "execution_count": 67,
   "id": "73608859-bcc6-4b55-8591-6f7904568a4d",
   "metadata": {},
   "outputs": [],
   "source": [
    "from sklearn.feature_extraction.text import TfidfVectorizer\n",
    "\n",
    "tfidf = TfidfVectorizer()"
   ]
  },
  {
   "cell_type": "code",
   "execution_count": 68,
   "id": "79e0b100-1a70-449b-b844-4ca1fe5ddbf8",
   "metadata": {},
   "outputs": [],
   "source": [
    "X_train_vectors = tfidf.fit_transform(X_train.Lemmatized).toarray()\n",
    "X_test_vectors = tfidf.transform(X_test.Lemmatized).toarray()"
   ]
  },
  {
   "cell_type": "code",
   "execution_count": 69,
   "id": "c9e3395f-4fa7-47b0-b928-890407dcb399",
   "metadata": {},
   "outputs": [],
   "source": [
    "from sklearn.preprocessing import LabelEncoder\n",
    "\n",
    "le = LabelEncoder()\n",
    "\n",
    "y_train_labels = le.fit_transform(y_train)\n",
    "y_test_labels = le.transform(y_test)"
   ]
  },
  {
   "cell_type": "code",
   "execution_count": 70,
   "id": "7dff697e-1d70-429e-b3cc-10dc79a18f77",
   "metadata": {},
   "outputs": [],
   "source": [
    "from sklearn.preprocessing import MinMaxScaler\n",
    "\n",
    "scaler = MinMaxScaler()\n",
    "\n",
    "X_train_words = scaler.fit_transform(X_train.avg_num_words.values.reshape(-1, 1))\n",
    "X_test_words = scaler.transform(X_test.avg_num_words.values.reshape(-1, 1))"
   ]
  },
  {
   "cell_type": "code",
   "execution_count": 71,
   "id": "e37ef609-a92f-4279-9630-7da5ec3c315f",
   "metadata": {},
   "outputs": [],
   "source": [
    "X_train_new = np.column_stack((X_train_vectors, X_train_words.reshape(-1,1)))\n",
    "X_test_new = np.column_stack((X_test_vectors, X_test_words.reshape(-1,1)))"
   ]
  },
  {
   "cell_type": "code",
   "execution_count": 72,
   "id": "c50b0f97-9bf8-40ee-9904-3b5cedf16b61",
   "metadata": {},
   "outputs": [
    {
     "data": {
      "text/plain": [
       "MultinomialNB()"
      ]
     },
     "execution_count": 72,
     "metadata": {},
     "output_type": "execute_result"
    }
   ],
   "source": [
    "nb = MultinomialNB()\n",
    "\n",
    "nb.fit(X_train_new, y_train_labels)"
   ]
  },
  {
   "cell_type": "code",
   "execution_count": 73,
   "id": "3bb5e6fd-78d5-4389-bd0d-fe42d341d989",
   "metadata": {},
   "outputs": [
    {
     "name": "stdout",
     "output_type": "stream",
     "text": [
      "Training Acc.:  0.7696078431372549\n",
      "Valid Acc.:  0.2535496957403651\n"
     ]
    }
   ],
   "source": [
    "print(\"Training Acc.: \", nb.score(X_train_new, y_train_labels))\n",
    "print(\"Valid Acc.: \", nb.score(X_test_new, y_test_labels))"
   ]
  },
  {
   "cell_type": "markdown",
   "id": "a3b63f11-6b06-4ece-9cfc-624a0f0239a7",
   "metadata": {},
   "source": [
    "#### One versus the Rest with TF IDF Vectorized Data"
   ]
  },
  {
   "cell_type": "code",
   "execution_count": 74,
   "id": "ae4d2c98-2519-4ba2-908e-659a72bd661d",
   "metadata": {},
   "outputs": [],
   "source": [
    "from sklearn.multiclass import OneVsRestClassifier\n",
    "from sklearn.linear_model import LogisticRegression\n",
    "\n",
    "clf = OneVsRestClassifier(LogisticRegression(max_iter=1000)).fit(X_train_vectors, y_train_labels)"
   ]
  },
  {
   "cell_type": "code",
   "execution_count": 75,
   "id": "9539cf20-b73d-4711-a394-3f5e6b64ece0",
   "metadata": {},
   "outputs": [
    {
     "data": {
      "text/plain": [
       "array([0, 0, 1, ..., 0, 2, 1])"
      ]
     },
     "execution_count": 75,
     "metadata": {},
     "output_type": "execute_result"
    }
   ],
   "source": [
    "clf.predict(X_test_vectors)"
   ]
  },
  {
   "cell_type": "code",
   "execution_count": 76,
   "id": "183303c8-dfff-450c-8890-b4b3051ffa74",
   "metadata": {},
   "outputs": [
    {
     "name": "stdout",
     "output_type": "stream",
     "text": [
      "Training Acc.:  0.7572684246112238\n",
      "Valid Acc.:  0.3935091277890467\n"
     ]
    }
   ],
   "source": [
    "print(\"Training Acc.: \", clf.score(X_train_vectors, y_train_labels))\n",
    "print(\"Valid Acc.: \", clf.score(X_test_vectors, y_test_labels))"
   ]
  },
  {
   "cell_type": "code",
   "execution_count": null,
   "id": "7b283f3f-287c-4ee3-b02a-ed9d8dbdf62c",
   "metadata": {},
   "outputs": [],
   "source": []
  }
 ],
 "metadata": {
  "kernelspec": {
   "display_name": "Python 3 (ipykernel)",
   "language": "python",
   "name": "python3"
  },
  "language_info": {
   "codemirror_mode": {
    "name": "ipython",
    "version": 3
   },
   "file_extension": ".py",
   "mimetype": "text/x-python",
   "name": "python",
   "nbconvert_exporter": "python",
   "pygments_lexer": "ipython3",
   "version": "3.8.8"
  }
 },
 "nbformat": 4,
 "nbformat_minor": 5
}
