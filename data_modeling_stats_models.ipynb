{
 "cells": [
  {
   "cell_type": "markdown",
   "id": "e3747674-20ad-4cb1-b555-f1e404a49359",
   "metadata": {},
   "source": [
    "# Data Modeling using Statistic Vectorization Model of the Data"
   ]
  },
  {
   "cell_type": "code",
   "execution_count": 1,
   "id": "17dc76f9-dc3d-4060-b8f1-89ea51a7bb62",
   "metadata": {},
   "outputs": [],
   "source": [
    "import pandas as pd\n",
    "import numpy as np\n",
    "import re\n",
    "import matplotlib.pyplot as plt\n",
    "import preprocessing_nlp as pp"
   ]
  },
  {
   "cell_type": "markdown",
   "id": "04a86332-947c-47e5-a231-6dcfa344acc8",
   "metadata": {},
   "source": [
    "#### Load the vocabulary dictionaries for building word stats"
   ]
  },
  {
   "cell_type": "code",
   "execution_count": 2,
   "id": "005b6b67-68a2-427d-850e-f9532dfd80c8",
   "metadata": {},
   "outputs": [],
   "source": [
    "vocab_dict = pp.get_cefr_word_dictionary()\n",
    "adv_vocab_dict = pp.get_cefr_word_dictionary_adv()"
   ]
  },
  {
   "cell_type": "markdown",
   "id": "9a3c02d8-a30d-456d-99b2-eee98fdc3bea",
   "metadata": {},
   "source": [
    "#### Load the main data frame containing the readings and asscoiated levels\n",
    "\n"
   ]
  },
  {
   "cell_type": "code",
   "execution_count": 3,
   "id": "cd4fb536-919e-431a-8133-bfcd59ace142",
   "metadata": {},
   "outputs": [],
   "source": [
    "# One-stop\n",
    "# data = pd.read_csv('data/one_stop.csv')\n",
    "\n",
    "# CEFR\n",
    "cefr_data = pd.read_csv('data/cefr_readings.csv')"
   ]
  },
  {
   "cell_type": "markdown",
   "id": "dc96d94b-41da-4ada-af3c-0076b1781fd9",
   "metadata": {},
   "source": [
    "#### Add average word per document to dataframe"
   ]
  },
  {
   "cell_type": "code",
   "execution_count": 4,
   "id": "52d5e9b6-e26f-4074-b47d-b2b68f2c09e7",
   "metadata": {},
   "outputs": [],
   "source": [
    "# One-Stop\n",
    "# avg_word = pp.get_avg_word_length(data, 'documents')\n",
    "# data['avg_word_len'] = avg_word\n",
    "\n",
    "# CEFR\n",
    "cefr_avg_word = pp.get_avg_word_length(cefr_data, 'documents')\n",
    "cefr_data['avg_word_len'] = cefr_avg_word"
   ]
  },
  {
   "cell_type": "markdown",
   "id": "377757bc-0e8b-4d67-8bfe-c9ff206ad985",
   "metadata": {},
   "source": [
    "#### Load Word levels Data Frame. Use previously loaded vocabulary dictionies"
   ]
  },
  {
   "cell_type": "code",
   "execution_count": 5,
   "id": "8142078d-0d5a-4af6-b28c-2a48b32e9cc3",
   "metadata": {},
   "outputs": [],
   "source": [
    "# One-Stop\n",
    "# levels_df = pp.get_word_level_dataframe(data, 'documents', vocab_dict, adv_vocab_dict)\n",
    "\n",
    "# CEFR\n",
    "cefr_levels_df = pp.get_word_level_dataframe(cefr_data, 'documents', vocab_dict, adv_vocab_dict)"
   ]
  },
  {
   "cell_type": "markdown",
   "id": "e4fd1e43-2551-4b8d-83cd-fb6f8c5dfe30",
   "metadata": {},
   "source": [
    "#### Chart used in presenation slide (not shown here)"
   ]
  },
  {
   "cell_type": "code",
   "execution_count": 6,
   "id": "54b50a62-9746-4046-bf57-f413cdd62f55",
   "metadata": {},
   "outputs": [],
   "source": [
    "# cefr_levels_df[:10].plot.barh(stacked=True, figsize=(12, 6), title='Word Level Distribution for the First Ten Documents');"
   ]
  },
  {
   "cell_type": "markdown",
   "id": "51757c2d-397c-4eb7-b038-fcf6a3f71afd",
   "metadata": {},
   "source": [
    "#### Load Parts of Speech Dataframe. Drop entries with fewer than 2000 and 100 entries in the columns to avoid noise"
   ]
  },
  {
   "cell_type": "code",
   "execution_count": 7,
   "id": "ab9e64b5-0648-4a24-bb1a-9413f7282834",
   "metadata": {},
   "outputs": [],
   "source": [
    "# One-Stop\n",
    "# pos_df = pp.get_part_of_speech_dataframe(data, 'documents')\n",
    "\n",
    "# drop_pos = []\n",
    "# for row in pd.DataFrame(pos_df.sum()).iterrows():\n",
    "#     if row[1][0] < 2000:\n",
    "#         drop_pos.append(row[0])\n",
    "# drop_pos\n",
    "\n",
    "# pos_df.drop(drop_pos, axis=1, inplace=True)\n",
    "\n",
    "# CEFR\n",
    "cefr_pos_df = pp.get_part_of_speech_dataframe(cefr_data, 'documents')\n",
    "\n",
    "drop_pos = []\n",
    "for row in pd.DataFrame(cefr_pos_df.sum()).iterrows():\n",
    "    if row[1][0] < 100:\n",
    "        drop_pos.append(row[0])\n",
    "drop_pos\n",
    "\n",
    "cefr_pos_df.drop(drop_pos, axis=1, inplace=True)"
   ]
  },
  {
   "cell_type": "code",
   "execution_count": 8,
   "id": "c168495b-1166-425c-b4c8-2c7e86d21b0c",
   "metadata": {},
   "outputs": [],
   "source": [
    "# cefr_pos_df[-28:-8].plot.barh(stacked=True, figsize=(25, 4), title='Word Level Distribution for the First Ten Documents');"
   ]
  },
  {
   "cell_type": "code",
   "execution_count": 9,
   "id": "43aa5b39-d6b3-46d2-8597-b6bb293f01a2",
   "metadata": {},
   "outputs": [],
   "source": [
    "# # Exploration of parts-of-speech distributions\n",
    "# total = sum(counts)\n",
    "# for c in counts:\n",
    "#     print(c, c/total)\n",
    "# sum(pd.DataFrame(pos_df.sum()).values[:, 0].tolist())"
   ]
  },
  {
   "cell_type": "markdown",
   "id": "cd8b7bdf-00bf-4aa1-8964-2c3f383c3412",
   "metadata": {},
   "source": [
    "#### Load the Full Data Frame for analysis"
   ]
  },
  {
   "cell_type": "code",
   "execution_count": 10,
   "id": "204f98c6-797c-4682-b0f4-9aec0f2a220c",
   "metadata": {},
   "outputs": [],
   "source": [
    "# One-Stop\n",
    "# df = pp.get_full_dataframe(data, 'documents', 'level', levels_df, pos_df)\n",
    "\n",
    "# CEFR\n",
    "cefr_df = pp.get_full_dataframe(cefr_data, 'documents', 'cefr_level', cefr_levels_df, cefr_pos_df)"
   ]
  },
  {
   "cell_type": "code",
   "execution_count": 11,
   "id": "17b15e44-0333-49cf-bdd8-313f76ab22b8",
   "metadata": {},
   "outputs": [],
   "source": [
    "# features = ['num_of_words', 'A1', 'A2', 'B1', 'B2', 'C1', 'C2']\n",
    "cefr_drop = ['documents','cefr_level']\n",
    "# one_stop_drop = ['documents', 'doc_list', 'avg_num_words', 'total_num_sents', 'total_num_words', 'words_per_sents', 'level']\n",
    "\n",
    "# documents = df.drop(one_stop_drop, axis=1)\n",
    "cefr_documents = cefr_df.drop(cefr_drop, axis=1)\n",
    "\n",
    "# target = df['level']\n",
    "cefr_target = cefr_df['cefr_level']\n",
    "\n",
    "\n",
    "## From previous experiments with the One-Stop-English-Corpus\n",
    "# three_levels = []\n",
    "# for level in cefr_df['cefr_level']:\n",
    "#     if level == 0:\n",
    "#         three_levels.append('Ele')\n",
    "    \n",
    "#     elif ((level == 1) or (level == 2)):\n",
    "#         three_levels.append('Int')\n",
    "    \n",
    "#     else:\n",
    "#         three_levels.append('Adv')\n",
    "\n",
    "\n",
    "# cefr_target = three_levels\n",
    "\n",
    "\n",
    "# X_train = documents\n",
    "# y_train = target\n",
    "\n",
    "# X_test = cefr_documents\n",
    "# y_test = cefr_target\n",
    "\n",
    "from sklearn.model_selection import train_test_split\n",
    "\n",
    "# X_train, X_test, y_train, y_test = train_test_split(documents, target, test_size=0.2, random_state=29)\n",
    "X_train, X_test, y_train, y_test = train_test_split(cefr_documents, cefr_target, test_size=0.3, random_state=29)"
   ]
  },
  {
   "cell_type": "markdown",
   "id": "f3a6252c-c220-4f46-9b18-0763fb6850da",
   "metadata": {},
   "source": [
    "#### Book Excerpts for Testing"
   ]
  },
  {
   "cell_type": "code",
   "execution_count": 12,
   "id": "5176bd78-3b21-45eb-a39e-eb4208693b37",
   "metadata": {},
   "outputs": [],
   "source": [
    "# Twilight Excerpt\n",
    "twilight = \"Tyler, trying to win back her attention, asked Lauren's opinion on a CD he held. She was distracted. I stared at the \\\n",
    "deep-voiced boy, taken aback, but he was looking away toward the dark forest behind us. He'd said that the Cullens didn't come here, \\\n",
    "but his tone had implied something more—that they weren't allowed; they were prohibited. His manner left a strange impression on me, \\\n",
    "and I tried toignore it without success.\""
   ]
  },
  {
   "cell_type": "code",
   "execution_count": 13,
   "id": "27ae3a01-e21d-46b9-9eae-2b9c51f7c761",
   "metadata": {},
   "outputs": [],
   "source": [
    "# Great Gatsby Excerpt\n",
    "gg = \"He smiled understandingly-much more than understandingly. It was one of those rare smiles with a quality of eternal reassurance \\\n",
    "in it, that you may come across four or five times in life. It faced--or seemed to face--the whole eternal world for an instant, and \\\n",
    "then concentrated on you with an irresistible prejudice in your favor. It understood you just as far as you wanted to be understood, \\\n",
    "believed in you as you would like to believe in yourself, and assured you that it had precisely the impression of you that, at your \\\n",
    "best, you hoped to convey\""
   ]
  },
  {
   "cell_type": "code",
   "execution_count": 14,
   "id": "a857c4fd-4e8c-4315-a81d-49360fe33396",
   "metadata": {},
   "outputs": [],
   "source": [
    "# Charlie and the Chocolate Factory Exerpt\n",
    "cc = \"Mr Willy Wonka can make marshmallows that taste of violets, and rich caramels that change colour every ten seconds as you suck \\\n",
    "them, and little feathery sweets that melt away deliciously the moment you put them between your lips. He can make chewing-gum that \\\n",
    "never loses its taste, and sugar balloons that you can blow up to enormous sizes before you pop them with a pin and gobble them up. \\\n",
    "And, by a most secret method, he can make lovely blue birds' eggs with black spots on them, and when you put one of these in your \\\n",
    "mouth, it gradually gets smaller and smaller until suddenly there is nothing left except a tiny little DARKRED sugary baby bird \\\n",
    "sitting on the tip of your tongue.\""
   ]
  },
  {
   "cell_type": "markdown",
   "id": "c37f4c14-8fa0-45b7-bd5c-3de06c1066b0",
   "metadata": {},
   "source": [
    "#### Best Model: Multinomial Naive Bayes"
   ]
  },
  {
   "cell_type": "code",
   "execution_count": 15,
   "id": "fd88f4cb-d724-46b8-adac-42a5c1ae4d6d",
   "metadata": {},
   "outputs": [
    {
     "name": "stdout",
     "output_type": "stream",
     "text": [
      "Training Acc.:  0.7205240174672489\n",
      "Valid Acc.:  0.696969696969697\n"
     ]
    }
   ],
   "source": [
    "from sklearn.pipeline import make_pipeline\n",
    "from sklearn.naive_bayes import MultinomialNB\n",
    "from sklearn.ensemble import RandomForestClassifier, GradientBoostingClassifier\n",
    "from sklearn.linear_model import LogisticRegression\n",
    "from sklearn.svm import SVC\n",
    "\n",
    "# pipe_nb = make_pipeline(GradientBoostingClassifier(n_estimators=100, learning_rate=1.0, max_depth=1, random_state=0))\n",
    "pipe_nb = make_pipeline(MultinomialNB())\n",
    "\n",
    "pipe_nb.fit(X_train, y_train)\n",
    "print(\"Training Acc.: \", pipe_nb.score(X_train, y_train))\n",
    "print(\"Valid Acc.: \", pipe_nb.score(X_test, y_test))"
   ]
  },
  {
   "cell_type": "code",
   "execution_count": 16,
   "id": "121a6a88-867a-4d0c-bdf6-1ec0d632784a",
   "metadata": {},
   "outputs": [],
   "source": [
    "test_pred = pipe_nb.predict(X_test)"
   ]
  },
  {
   "cell_type": "code",
   "execution_count": 17,
   "id": "6e2eb1be-6723-4174-9b29-c6d8f7bfd731",
   "metadata": {},
   "outputs": [],
   "source": [
    "list_of_keys = cefr_pos_df.columns.tolist()\n",
    "twilight_sample = pp.process_sample(twilight, list_of_keys, vocab_dict, adv_vocab_dict)\n",
    "gatsby_sample = pp.process_sample(gg, list_of_keys, vocab_dict, adv_vocab_dict)\n",
    "charlie_sample = pp.process_sample(cc, list_of_keys, vocab_dict, adv_vocab_dict)"
   ]
  },
  {
   "cell_type": "code",
   "execution_count": 18,
   "id": "8f9e99a0-a56e-4bfc-82b7-182011f6c101",
   "metadata": {},
   "outputs": [
    {
     "name": "stdout",
     "output_type": "stream",
     "text": [
      "Twilight predicted level: ['B2']\n",
      "Gatsby predicted level: ['B2']\n",
      "Charlie predicted level: ['B1']\n"
     ]
    }
   ],
   "source": [
    "print(f'Twilight predicted level: {pipe_nb.predict([twilight_sample])}')\n",
    "print(f'Gatsby predicted level: {pipe_nb.predict([gatsby_sample])}')\n",
    "print(f'Charlie predicted level: {pipe_nb.predict([charlie_sample])}')"
   ]
  },
  {
   "cell_type": "code",
   "execution_count": 19,
   "id": "4fa615f1-548a-4497-ab91-0572ad4e4253",
   "metadata": {},
   "outputs": [
    {
     "name": "stdout",
     "output_type": "stream",
     "text": [
      "Confusion Matrix\n"
     ]
    },
    {
     "data": {
      "image/png": "[encoded data removed]",
      "text/plain": [
       "<Figure size 576x576 with 2 Axes>"
      ]
     },
     "metadata": {
      "needs_background": "light"
     },
     "output_type": "display_data"
    }
   ],
   "source": [
    "from sklearn.metrics import plot_confusion_matrix\n",
    "\n",
    "print('Confusion Matrix')\n",
    "fig, ax = plt.subplots(figsize=(8, 8))\n",
    "plot_confusion_matrix(pipe_nb, X_test, y_test, cmap='YlOrRd', ax=ax);\n",
    "\n",
    "\n",
    "# cm = metrics.confusion_matrix(y_test, test_pred, labels=pipe_nb.classes_)\n",
    "# disp = metrics.ConfusionMatrixDisplay(confusion_matrix=cm,\n",
    "#                                display_labels=pipe_nb.classes_, cmap='blue')\n",
    "# disp.plot();"
   ]
  },
  {
   "cell_type": "code",
   "execution_count": 20,
   "id": "f3d5b28b-a0e7-4ddd-8afc-11d454a2f053",
   "metadata": {},
   "outputs": [
    {
     "name": "stdout",
     "output_type": "stream",
     "text": [
      "Confusion Matrix\n"
     ]
    },
    {
     "data": {
      "image/png": "[encoded data removed]",
      "text/plain": [
       "<Figure size 432x288 with 2 Axes>"
      ]
     },
     "metadata": {
      "needs_background": "light"
     },
     "output_type": "display_data"
    }
   ],
   "source": [
    "from sklearn.metrics import log_loss, roc_auc_score, recall_score, precision_score, average_precision_score \n",
    "from sklearn.metrics import f1_score, classification_report, accuracy_score \n",
    "from sklearn.metrics import RocCurveDisplay, plot_roc_curve, plot_precision_recall_curve, plot_confusion_matrix\n",
    "from sklearn import metrics\n",
    "\n",
    "print('Confusion Matrix')\n",
    "# plot_confusion_matrix(clf, X_test, y_test)\n",
    "\n",
    "\n",
    "cm = metrics.confusion_matrix(y_test, test_pred, labels=pipe_nb.classes_)\n",
    "disp = metrics.ConfusionMatrixDisplay(confusion_matrix=cm,\n",
    "                               display_labels=pipe_nb.classes_)\n",
    "disp.plot();\n",
    "# plt.show()"
   ]
  },
  {
   "cell_type": "markdown",
   "id": "58db46c9-c510-401c-af42-cce557d0efab",
   "metadata": {},
   "source": [
    "#### Model: Gradient Boosting Classifer"
   ]
  },
  {
   "cell_type": "code",
   "execution_count": 21,
   "id": "e9fd396e-dc07-4e20-af42-97fa90cb604e",
   "metadata": {
    "tags": []
   },
   "outputs": [
    {
     "name": "stdout",
     "output_type": "stream",
     "text": [
      "Training Acc.:  1.0\n",
      "Valid Acc.:  0.8383838383838383\n"
     ]
    }
   ],
   "source": [
    "pipe_nb = make_pipeline(GradientBoostingClassifier(n_estimators=100, learning_rate=1.0, max_depth=1, random_state=0))\n",
    "\n",
    "pipe_nb.fit(X_train, y_train)\n",
    "print(\"Training Acc.: \", pipe_nb.score(X_train, y_train))\n",
    "print(\"Valid Acc.: \", pipe_nb.score(X_test, y_test))"
   ]
  },
  {
   "cell_type": "markdown",
   "id": "0a55abf0-e5ea-4d1a-999a-059f04f17c1e",
   "metadata": {},
   "source": [
    "#### Model: Logistic Regression: One vs Rest"
   ]
  },
  {
   "cell_type": "code",
   "execution_count": 22,
   "id": "ad079015-cf43-4217-8732-c22914185843",
   "metadata": {},
   "outputs": [
    {
     "name": "stdout",
     "output_type": "stream",
     "text": [
      "Training Acc.:  0.9344978165938864\n",
      "Valid Acc.:  0.7878787878787878\n"
     ]
    }
   ],
   "source": [
    "from sklearn.multiclass import OneVsRestClassifier\n",
    "from sklearn.linear_model import LogisticRegression\n",
    "\n",
    "clf = OneVsRestClassifier(LogisticRegression(max_iter=5000)).fit(X_train, y_train)\n",
    "\n",
    "print(\"Training Acc.: \", clf.score(X_train, y_train))\n",
    "print(\"Valid Acc.: \", clf.score(X_test, y_test))"
   ]
  },
  {
   "cell_type": "code",
   "execution_count": 23,
   "id": "3543356d-67ae-4640-8934-25dfadaba1b5",
   "metadata": {},
   "outputs": [
    {
     "data": {
      "text/plain": [
       "array(['B2', 'A2', 'B2', 'C2', 'B2', 'C2', 'A2', 'C1', 'A2', 'C1', 'B1',\n",
       "       'B1', 'A2', 'A2', 'B1', 'C1', 'A2', 'C1', 'C2', 'B2', 'C2', 'A2',\n",
       "       'B1', 'B2', 'B2', 'C1', 'A2', 'B1', 'B1', 'C2', 'B2', 'B1', 'B2',\n",
       "       'C2', 'C1', 'B1', 'C1', 'C1', 'A2', 'A2', 'B1', 'B2', 'C2', 'C2',\n",
       "       'A2', 'A2', 'B1', 'A2', 'B2', 'C2', 'B2', 'C1', 'C1', 'B1', 'A2',\n",
       "       'A2', 'B2', 'C2', 'A2', 'A2', 'A2', 'B1', 'B2', 'B1', 'B2', 'C1',\n",
       "       'C2', 'A2', 'C2', 'C1', 'B2', 'A2', 'C1', 'B2', 'C1', 'C1', 'C2',\n",
       "       'A2', 'C1', 'C1', 'B1', 'B1', 'C2', 'A2', 'B2', 'C1', 'B2', 'B2',\n",
       "       'C2', 'C1', 'A2', 'C2', 'A2', 'A2', 'C1', 'C2', 'B1', 'A2', 'B1'],\n",
       "      dtype='<U2')"
      ]
     },
     "execution_count": 23,
     "metadata": {},
     "output_type": "execute_result"
    }
   ],
   "source": [
    "clf.predict(X_test)"
   ]
  },
  {
   "cell_type": "code",
   "execution_count": 24,
   "id": "1ac2d25d-a5d6-47ca-b0a0-092e8ffd0add",
   "metadata": {},
   "outputs": [
    {
     "name": "stdout",
     "output_type": "stream",
     "text": [
      "Twilight predicted level: ['A2']\n",
      "Gatsby predicted level: ['B1']\n",
      "Charlie predicted level: ['B1']\n"
     ]
    }
   ],
   "source": [
    "print(f'Twilight predicted level: {clf.predict([twilight_sample])}')\n",
    "print(f'Gatsby predicted level: {clf.predict([gatsby_sample])}')\n",
    "print(f'Charlie predicted level: {clf.predict([charlie_sample])}')"
   ]
  },
  {
   "cell_type": "code",
   "execution_count": 25,
   "id": "79f8a2e2-d3ed-4075-bc20-f120ff86d635",
   "metadata": {},
   "outputs": [
    {
     "name": "stdout",
     "output_type": "stream",
     "text": [
      "Confusion Matrix\n"
     ]
    },
    {
     "data": {
      "image/png": "[encoded data removed]",
      "text/plain": [
       "<Figure size 432x288 with 2 Axes>"
      ]
     },
     "metadata": {
      "needs_background": "light"
     },
     "output_type": "display_data"
    }
   ],
   "source": [
    "print('Confusion Matrix')\n",
    "# plot_confusion_matrix(clf, X_test, y_test)\n",
    "\n",
    "\n",
    "cm = metrics.confusion_matrix(y_test, test_pred, labels=clf.classes_)\n",
    "disp = metrics.ConfusionMatrixDisplay(confusion_matrix=cm,\n",
    "                               display_labels=clf.classes_)\n",
    "disp.plot();\n",
    "# plt.show()"
   ]
  },
  {
   "cell_type": "code",
   "execution_count": null,
   "id": "81bc4323-7d77-43fa-a1c7-8d399c392269",
   "metadata": {},
   "outputs": [],
   "source": []
  }
 ],
 "metadata": {
  "kernelspec": {
   "display_name": "Python 3 (ipykernel)",
   "language": "python",
   "name": "python3"
  },
  "language_info": {
   "codemirror_mode": {
    "name": "ipython",
    "version": 3
   },
   "file_extension": ".py",
   "mimetype": "text/x-python",
   "name": "python",
   "nbconvert_exporter": "python",
   "pygments_lexer": "ipython3",
   "version": "3.8.8"
  }
 },
 "nbformat": 4,
 "nbformat_minor": 5
}
