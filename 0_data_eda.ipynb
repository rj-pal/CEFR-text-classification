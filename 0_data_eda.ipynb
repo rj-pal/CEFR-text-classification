{
 "cells": [
  {
   "cell_type": "markdown",
   "id": "aae5e81d-adf2-49e9-8d59-a1e3e52e04f7",
   "metadata": {},
   "source": [
    "## Exploratory Data Analysis"
   ]
  },
  {
   "cell_type": "code",
   "execution_count": 1,
   "id": "521c5190-1ec0-4707-a84a-2a2f1701aa02",
   "metadata": {},
   "outputs": [],
   "source": [
    "import pandas as pd\n",
    "import numpy as np\n",
    "import seaborn as sns\n",
    "import matplotlib.pyplot as plt\n",
    "import preprocessing_nlp as pp\n",
    "import nltk\n",
    "\n",
    "plt.rcParams[\"figure.figsize\"] = (10, 6)\n",
    "sns.set(style=\"dark\")\n",
    "# sns.set(font_scale=1.85)"
   ]
  },
  {
   "cell_type": "markdown",
   "id": "c95d5c2b-729b-4bbe-aa0a-e93e2cfd732e",
   "metadata": {},
   "source": [
    "#### Load in the Cambridge Readability Data Frame"
   ]
  },
  {
   "cell_type": "code",
   "execution_count": 2,
   "id": "5e2fae4a-f57f-4ff6-bb4f-d8fea4cc21cc",
   "metadata": {},
   "outputs": [],
   "source": [
    "df = pd.read_csv('data/cefr_readings.csv')"
   ]
  },
  {
   "cell_type": "code",
   "execution_count": 3,
   "id": "ffdccfbf-f8c5-4fe7-b17c-adae67bedd2a",
   "metadata": {},
   "outputs": [
    {
     "data": {
      "text/html": [
       "<div>\n",
       "<style scoped>\n",
       "    .dataframe tbody tr th:only-of-type {\n",
       "        vertical-align: middle;\n",
       "    }\n",
       "\n",
       "    .dataframe tbody tr th {\n",
       "        vertical-align: top;\n",
       "    }\n",
       "\n",
       "    .dataframe thead th {\n",
       "        text-align: right;\n",
       "    }\n",
       "</style>\n",
       "<table border=\"1\" class=\"dataframe\">\n",
       "  <thead>\n",
       "    <tr style=\"text-align: right;\">\n",
       "      <th></th>\n",
       "      <th>documents</th>\n",
       "      <th>cefr_level</th>\n",
       "    </tr>\n",
       "  </thead>\n",
       "  <tbody>\n",
       "    <tr>\n",
       "      <th>0</th>\n",
       "      <td>Not many people have seen an otter. These anim...</td>\n",
       "      <td>A2</td>\n",
       "    </tr>\n",
       "    <tr>\n",
       "      <th>1</th>\n",
       "      <td>Dear Sir, I read your advertisement for Englis...</td>\n",
       "      <td>A2</td>\n",
       "    </tr>\n",
       "    <tr>\n",
       "      <th>2</th>\n",
       "      <td>The bicycle is a cheap and clean way to travel...</td>\n",
       "      <td>A2</td>\n",
       "    </tr>\n",
       "    <tr>\n",
       "      <th>3</th>\n",
       "      <td>Bill Prince-Smith was a farmer and a teacher a...</td>\n",
       "      <td>A2</td>\n",
       "    </tr>\n",
       "    <tr>\n",
       "      <th>4</th>\n",
       "      <td>When Esther left school at the age of sixteen,...</td>\n",
       "      <td>A2</td>\n",
       "    </tr>\n",
       "  </tbody>\n",
       "</table>\n",
       "</div>"
      ],
      "text/plain": [
       "                                           documents cefr_level\n",
       "0  Not many people have seen an otter. These anim...         A2\n",
       "1  Dear Sir, I read your advertisement for Englis...         A2\n",
       "2  The bicycle is a cheap and clean way to travel...         A2\n",
       "3  Bill Prince-Smith was a farmer and a teacher a...         A2\n",
       "4  When Esther left school at the age of sixteen,...         A2"
      ]
     },
     "execution_count": 3,
     "metadata": {},
     "output_type": "execute_result"
    }
   ],
   "source": [
    "df.head()"
   ]
  },
  {
   "cell_type": "markdown",
   "id": "8177e431-d2f9-4198-b1ed-ca234adbf86e",
   "metadata": {},
   "source": [
    "#### Break the Data Frame into pieces sentence-wise"
   ]
  },
  {
   "cell_type": "code",
   "execution_count": 4,
   "id": "a1ea993d-91a8-44b8-996a-8072dcc0b862",
   "metadata": {},
   "outputs": [],
   "source": [
    "sent_df = pp.get_sentences(df, 'documents', 'cefr_level')"
   ]
  },
  {
   "cell_type": "code",
   "execution_count": 5,
   "id": "c288b738-20ee-46ef-b22d-97f3b0db0fd6",
   "metadata": {},
   "outputs": [
    {
     "data": {
      "text/html": [
       "<div>\n",
       "<style scoped>\n",
       "    .dataframe tbody tr th:only-of-type {\n",
       "        vertical-align: middle;\n",
       "    }\n",
       "\n",
       "    .dataframe tbody tr th {\n",
       "        vertical-align: top;\n",
       "    }\n",
       "\n",
       "    .dataframe thead th {\n",
       "        text-align: right;\n",
       "    }\n",
       "</style>\n",
       "<table border=\"1\" class=\"dataframe\">\n",
       "  <thead>\n",
       "    <tr style=\"text-align: right;\">\n",
       "      <th></th>\n",
       "      <th>text</th>\n",
       "      <th>num_of_words</th>\n",
       "      <th>avg_len_words</th>\n",
       "      <th>level</th>\n",
       "      <th>doc_id</th>\n",
       "    </tr>\n",
       "  </thead>\n",
       "  <tbody>\n",
       "    <tr>\n",
       "      <th>0</th>\n",
       "      <td>Not many people have seen an otter.</td>\n",
       "      <td>7</td>\n",
       "      <td>4.00</td>\n",
       "      <td>A2</td>\n",
       "      <td>0</td>\n",
       "    </tr>\n",
       "    <tr>\n",
       "      <th>1</th>\n",
       "      <td>These animals live near rivers and make their ...</td>\n",
       "      <td>14</td>\n",
       "      <td>4.57</td>\n",
       "      <td>A2</td>\n",
       "      <td>0</td>\n",
       "    </tr>\n",
       "    <tr>\n",
       "      <th>2</th>\n",
       "      <td>They usually come out of their homes at night.</td>\n",
       "      <td>9</td>\n",
       "      <td>4.11</td>\n",
       "      <td>A2</td>\n",
       "      <td>0</td>\n",
       "    </tr>\n",
       "    <tr>\n",
       "      <th>3</th>\n",
       "      <td>Otters are very good in the water and can swim...</td>\n",
       "      <td>17</td>\n",
       "      <td>3.82</td>\n",
       "      <td>A2</td>\n",
       "      <td>0</td>\n",
       "    </tr>\n",
       "    <tr>\n",
       "      <th>4</th>\n",
       "      <td>They have thick brown hair and this keeps them...</td>\n",
       "      <td>13</td>\n",
       "      <td>4.00</td>\n",
       "      <td>A2</td>\n",
       "      <td>0</td>\n",
       "    </tr>\n",
       "    <tr>\n",
       "      <th>...</th>\n",
       "      <td>...</td>\n",
       "      <td>...</td>\n",
       "      <td>...</td>\n",
       "      <td>...</td>\n",
       "      <td>...</td>\n",
       "    </tr>\n",
       "    <tr>\n",
       "      <th>9429</th>\n",
       "      <td>Utility and Function are not part of this defi...</td>\n",
       "      <td>43</td>\n",
       "      <td>4.98</td>\n",
       "      <td>C2</td>\n",
       "      <td>327</td>\n",
       "    </tr>\n",
       "    <tr>\n",
       "      <th>9430</th>\n",
       "      <td>The origins of classical architecture are comp...</td>\n",
       "      <td>7</td>\n",
       "      <td>6.14</td>\n",
       "      <td>C2</td>\n",
       "      <td>327</td>\n",
       "    </tr>\n",
       "    <tr>\n",
       "      <th>9431</th>\n",
       "      <td>There was obviously a long prehistory of basic...</td>\n",
       "      <td>31</td>\n",
       "      <td>5.13</td>\n",
       "      <td>C2</td>\n",
       "      <td>327</td>\n",
       "    </tr>\n",
       "    <tr>\n",
       "      <th>9432</th>\n",
       "      <td>Though these were, by definition, inartistic t...</td>\n",
       "      <td>22</td>\n",
       "      <td>6.73</td>\n",
       "      <td>C2</td>\n",
       "      <td>327</td>\n",
       "    </tr>\n",
       "    <tr>\n",
       "      <th>9433</th>\n",
       "      <td>However orate it may appear from the outside, ...</td>\n",
       "      <td>19</td>\n",
       "      <td>4.63</td>\n",
       "      <td>C2</td>\n",
       "      <td>327</td>\n",
       "    </tr>\n",
       "  </tbody>\n",
       "</table>\n",
       "<p>9434 rows × 5 columns</p>\n",
       "</div>"
      ],
      "text/plain": [
       "                                                   text  num_of_words  \\\n",
       "0                   Not many people have seen an otter.             7   \n",
       "1     These animals live near rivers and make their ...            14   \n",
       "2        They usually come out of their homes at night.             9   \n",
       "3     Otters are very good in the water and can swim...            17   \n",
       "4     They have thick brown hair and this keeps them...            13   \n",
       "...                                                 ...           ...   \n",
       "9429  Utility and Function are not part of this defi...            43   \n",
       "9430  The origins of classical architecture are comp...             7   \n",
       "9431  There was obviously a long prehistory of basic...            31   \n",
       "9432  Though these were, by definition, inartistic t...            22   \n",
       "9433  However orate it may appear from the outside, ...            19   \n",
       "\n",
       "      avg_len_words level  doc_id  \n",
       "0              4.00    A2       0  \n",
       "1              4.57    A2       0  \n",
       "2              4.11    A2       0  \n",
       "3              3.82    A2       0  \n",
       "4              4.00    A2       0  \n",
       "...             ...   ...     ...  \n",
       "9429           4.98    C2     327  \n",
       "9430           6.14    C2     327  \n",
       "9431           5.13    C2     327  \n",
       "9432           6.73    C2     327  \n",
       "9433           4.63    C2     327  \n",
       "\n",
       "[9434 rows x 5 columns]"
      ]
     },
     "execution_count": 5,
     "metadata": {},
     "output_type": "execute_result"
    }
   ],
   "source": [
    "sentence_df = pd.DataFrame.from_records(sent_df, columns=['text', 'num_of_words', 'avg_len_words', 'level', 'doc_id'])\n",
    "sentence_df"
   ]
  },
  {
   "cell_type": "markdown",
   "id": "4c7503c6-d3d5-4b34-971c-1869dc04e051",
   "metadata": {},
   "source": [
    "#### Examine the length of the readings by level: \n",
    "\n",
    "### The chart below show the average number of words and length of the words per document"
   ]
  },
  {
   "cell_type": "code",
   "execution_count": 6,
   "id": "8ba8187b-c85c-4546-9e26-ec80a192de5b",
   "metadata": {},
   "outputs": [
    {
     "data": {
      "text/html": [
       "<div>\n",
       "<style scoped>\n",
       "    .dataframe tbody tr th:only-of-type {\n",
       "        vertical-align: middle;\n",
       "    }\n",
       "\n",
       "    .dataframe tbody tr th {\n",
       "        vertical-align: top;\n",
       "    }\n",
       "\n",
       "    .dataframe thead th {\n",
       "        text-align: right;\n",
       "    }\n",
       "</style>\n",
       "<table border=\"1\" class=\"dataframe\">\n",
       "  <thead>\n",
       "    <tr style=\"text-align: right;\">\n",
       "      <th></th>\n",
       "      <th></th>\n",
       "      <th>num_of_words</th>\n",
       "      <th>avg_len_words</th>\n",
       "    </tr>\n",
       "    <tr>\n",
       "      <th>level</th>\n",
       "      <th>doc_id</th>\n",
       "      <th></th>\n",
       "      <th></th>\n",
       "    </tr>\n",
       "  </thead>\n",
       "  <tbody>\n",
       "    <tr>\n",
       "      <th rowspan=\"5\" valign=\"top\">A2</th>\n",
       "      <th>0</th>\n",
       "      <td>12.600000</td>\n",
       "      <td>4.165000</td>\n",
       "    </tr>\n",
       "    <tr>\n",
       "      <th>1</th>\n",
       "      <td>9.700000</td>\n",
       "      <td>4.121000</td>\n",
       "    </tr>\n",
       "    <tr>\n",
       "      <th>2</th>\n",
       "      <td>11.300000</td>\n",
       "      <td>4.464000</td>\n",
       "    </tr>\n",
       "    <tr>\n",
       "      <th>3</th>\n",
       "      <td>14.571429</td>\n",
       "      <td>4.057143</td>\n",
       "    </tr>\n",
       "    <tr>\n",
       "      <th>4</th>\n",
       "      <td>13.928571</td>\n",
       "      <td>3.998571</td>\n",
       "    </tr>\n",
       "    <tr>\n",
       "      <th>...</th>\n",
       "      <th>...</th>\n",
       "      <td>...</td>\n",
       "      <td>...</td>\n",
       "    </tr>\n",
       "    <tr>\n",
       "      <th rowspan=\"5\" valign=\"top\">C2</th>\n",
       "      <th>323</th>\n",
       "      <td>20.952381</td>\n",
       "      <td>4.623810</td>\n",
       "    </tr>\n",
       "    <tr>\n",
       "      <th>324</th>\n",
       "      <td>21.714286</td>\n",
       "      <td>4.912857</td>\n",
       "    </tr>\n",
       "    <tr>\n",
       "      <th>325</th>\n",
       "      <td>17.222222</td>\n",
       "      <td>4.395000</td>\n",
       "    </tr>\n",
       "    <tr>\n",
       "      <th>326</th>\n",
       "      <td>27.031250</td>\n",
       "      <td>5.298437</td>\n",
       "    </tr>\n",
       "    <tr>\n",
       "      <th>327</th>\n",
       "      <td>25.083333</td>\n",
       "      <td>5.043333</td>\n",
       "    </tr>\n",
       "  </tbody>\n",
       "</table>\n",
       "<p>328 rows × 2 columns</p>\n",
       "</div>"
      ],
      "text/plain": [
       "              num_of_words  avg_len_words\n",
       "level doc_id                             \n",
       "A2    0          12.600000       4.165000\n",
       "      1           9.700000       4.121000\n",
       "      2          11.300000       4.464000\n",
       "      3          14.571429       4.057143\n",
       "      4          13.928571       3.998571\n",
       "...                    ...            ...\n",
       "C2    323        20.952381       4.623810\n",
       "      324        21.714286       4.912857\n",
       "      325        17.222222       4.395000\n",
       "      326        27.031250       5.298437\n",
       "      327        25.083333       5.043333\n",
       "\n",
       "[328 rows x 2 columns]"
      ]
     },
     "execution_count": 6,
     "metadata": {},
     "output_type": "execute_result"
    }
   ],
   "source": [
    "sentence_df.groupby(['level', 'doc_id']).mean()"
   ]
  },
  {
   "cell_type": "code",
   "execution_count": 7,
   "id": "8c3e0ba6-fafd-4eb9-b774-d3f0d9a023b6",
   "metadata": {},
   "outputs": [
    {
     "data": {
      "image/png": "[encoded data removed]",
      "text/plain": [
       "<Figure size 720x432 with 1 Axes>"
      ]
     },
     "metadata": {},
     "output_type": "display_data"
    }
   ],
   "source": [
    "avg = sentence_df.groupby(['level', 'doc_id']).count()['text'].groupby('level').mean()\n",
    "df = pd.DataFrame({'Level':['A2', 'B1', 'B2', 'C1', 'C2'], 'avg_number_sentences': avg})\n",
    "# ax = df.plot.bar(x='Level', y='Avg Number of Sentences', rot=0).set(title='Average Number of Sentences per Document')\n",
    "\n",
    "font = {\n",
    "    'family': 'Helvetica',\n",
    "    'color': 'black',\n",
    "    'weight': 'bold',\n",
    "    'size': 24,\n",
    "}\n",
    "sns.set_theme(style=\"dark\", palette=\"pastel\")\n",
    "sns.barplot(data=df, x='Level', y='avg_number_sentences', color='steelblue')\n",
    "plt.xticks(fontsize=16, color='black')\n",
    "plt.yticks(fontsize=16, color='black')\n",
    "plt.title(label='Average Number of Sentences per Document', fontdict=font)\n",
    "\n",
    "font['size'] = 20\n",
    "plt.xlabel(\"Level\", fontdict=font)\n",
    "plt.ylabel(\"\", fontdict=font)\n",
    "\n",
    "plt.show()"
   ]
  },
  {
   "cell_type": "code",
   "execution_count": 8,
   "id": "f9877c08-43f5-4d3a-8f22-f3f54b2d68fb",
   "metadata": {},
   "outputs": [],
   "source": [
    "avg_sentences = avg.tolist()\n",
    "levels = ['A2', 'B1', 'B2', 'C1', 'C2']\n",
    "x = range(5)"
   ]
  },
  {
   "cell_type": "code",
   "execution_count": 9,
   "id": "fa7318f4-da49-4927-904c-530d91e108a5",
   "metadata": {},
   "outputs": [
    {
     "data": {
      "text/plain": [
       "[10.984375,\n",
       " 15.683333333333334,\n",
       " 35.48529411764706,\n",
       " 41.23880597014925,\n",
       " 37.88405797101449]"
      ]
     },
     "execution_count": 9,
     "metadata": {},
     "output_type": "execute_result"
    }
   ],
   "source": [
    "avg_sentences"
   ]
  },
  {
   "cell_type": "code",
   "execution_count": 10,
   "id": "f0c49858-757d-4f27-b38d-3c7fcef89b77",
   "metadata": {},
   "outputs": [
    {
     "data": {
      "image/png": "[encoded data removed]",
      "text/plain": [
       "<Figure size 720x432 with 1 Axes>"
      ]
     },
     "metadata": {},
     "output_type": "display_data"
    }
   ],
   "source": [
    "plt.bar(x, avg_sentences)\n",
    "plt.show;"
   ]
  },
  {
   "cell_type": "code",
   "execution_count": 11,
   "id": "c3e41ced-b7f1-4630-b359-5daef54bb161",
   "metadata": {},
   "outputs": [
    {
     "data": {
      "text/plain": [
       "Index(['text', 'num_of_words', 'avg_len_words', 'level', 'doc_id'], dtype='object')"
      ]
     },
     "execution_count": 11,
     "metadata": {},
     "output_type": "execute_result"
    }
   ],
   "source": [
    "sentence_df.columns"
   ]
  },
  {
   "cell_type": "code",
   "execution_count": 12,
   "id": "b3e44867-dc79-4640-99c3-f7883058aa12",
   "metadata": {},
   "outputs": [
    {
     "data": {
      "text/plain": [
       "level\n",
       "A2    12.896159\n",
       "B1    17.442083\n",
       "B2    17.701202\n",
       "C1    18.955121\n",
       "C2    20.164881\n",
       "dtype: float64"
      ]
     },
     "execution_count": 12,
     "metadata": {},
     "output_type": "execute_result"
    }
   ],
   "source": [
    "# avg = sentence_df.groupby(['level']).count()['text']\n",
    "avg = sentence_df.groupby(['level']).sum()['num_of_words'] / sentence_df.groupby(['level']).count()['text']\n",
    "\n",
    "avg\n",
    "\n",
    "# df = pd.DataFrame({'Level':['A2', 'B1', 'B2', 'C1', 'C2'], 'Total Number of Sentences': avg})\n",
    "# ax = df.plot.bar(x='Level', y='Total Number of Sentences', rot=0)"
   ]
  },
  {
   "cell_type": "code",
   "execution_count": 13,
   "id": "3c6a100e-f745-4a1b-b4af-11eea178bdfc",
   "metadata": {},
   "outputs": [
    {
     "data": {
      "image/png": "[encoded data removed]",
      "text/plain": [
       "<Figure size 720x432 with 1 Axes>"
      ]
     },
     "metadata": {},
     "output_type": "display_data"
    }
   ],
   "source": [
    "avg = sentence_df.groupby(['level']).count()['text']\n",
    "\n",
    "df = pd.DataFrame({'Level':['A2', 'B1', 'B2', 'C1', 'C2'], 'Total Number of Sentences': avg})\n",
    "\n",
    "font = {\n",
    "    'family': 'Helvetica',\n",
    "    'color': 'black',\n",
    "    'weight': 'bold',\n",
    "    'size': 24,\n",
    "}\n",
    "sns.set_theme(style=\"dark\", palette=\"pastel\")\n",
    "sns.barplot(data=df, x='Level', y='Total Number of Sentences', color='steelblue')\n",
    "plt.xticks(fontsize=16, color='black')\n",
    "plt.yticks(fontsize=16, color='black')\n",
    "plt.title(label='Total Number of Sentences', fontdict=font)\n",
    "\n",
    "font['size'] = 20\n",
    "plt.xlabel(\"Level\", fontdict=font)\n",
    "plt.ylabel(\"\", fontdict=font)\n",
    "\n",
    "plt.show()"
   ]
  },
  {
   "cell_type": "code",
   "execution_count": 14,
   "id": "db69c236-b9cd-4922-8b67-c29b10d2e708",
   "metadata": {},
   "outputs": [
    {
     "data": {
      "image/png": "[encoded data removed]",
      "text/plain": [
       "<Figure size 720x432 with 1 Axes>"
      ]
     },
     "metadata": {},
     "output_type": "display_data"
    }
   ],
   "source": [
    "avg = sentence_df.groupby(['level']).mean()['num_of_words']\n",
    "\n",
    "df = pd.DataFrame({'Level':['A2', 'B1', 'B2', 'C1', 'C2'], 'Average Number of Words per Level': avg})\n",
    "\n",
    "font = {\n",
    "    'family': 'Helvetica',\n",
    "    'color': 'black',\n",
    "    'weight': 'bold',\n",
    "    'size': 24,\n",
    "}\n",
    "sns.set_theme(style=\"dark\", palette=\"pastel\")\n",
    "sns.barplot(data=df, x='Level', y='Average Number of Words per Level', color='skyblue')\n",
    "plt.xticks(fontsize=16, color='black')\n",
    "plt.yticks(fontsize=16, color='black')\n",
    "plt.title(label='Average Number of Words per Document', fontdict=font)\n",
    "\n",
    "font['size'] = 20\n",
    "plt.xlabel(\"Level\", fontdict=font)\n",
    "plt.ylabel(\"\", fontdict=font)\n",
    "\n",
    "plt.show()"
   ]
  },
  {
   "cell_type": "markdown",
   "id": "a920c50d-a21b-4c73-a373-a2f7fb9d8e81",
   "metadata": {},
   "source": [
    "### Look at the average number of words per document versus the average words length"
   ]
  },
  {
   "cell_type": "code",
   "execution_count": 15,
   "id": "485d2da4-a34f-49e1-9b5f-eb2c94cc7f2c",
   "metadata": {},
   "outputs": [],
   "source": [
    "sns.set_theme(style=\"dark\", font_scale=1.85)"
   ]
  },
  {
   "cell_type": "code",
   "execution_count": 16,
   "id": "0cc635df-f294-4415-852d-8aecdae86371",
   "metadata": {},
   "outputs": [
    {
     "data": {
      "image/png": "[encoded data removed]",
      "text/plain": [
       "<Figure size 720x432 with 1 Axes>"
      ]
     },
     "metadata": {},
     "output_type": "display_data"
    }
   ],
   "source": [
    "fig, ax = plt.subplots(figsize=(10, 6))\n",
    "word_data = sentence_df.groupby(['level']).mean()[['num_of_words', 'avg_len_words']]\n",
    "plt.plot(word_data)\n",
    "plt.title(label='Average Number of Words vs Average Length of Words')\n",
    "plt.legend(word_data.columns, loc=\"center right\")\n",
    "plt.show()"
   ]
  },
  {
   "cell_type": "code",
   "execution_count": 17,
   "id": "969c6129-46b1-4dad-8dbe-a584f74b3c00",
   "metadata": {},
   "outputs": [],
   "source": [
    "# Reload the data\n",
    "df = pd.read_csv('data/cefr_readings.csv')"
   ]
  },
  {
   "cell_type": "code",
   "execution_count": 18,
   "id": "9cced53d-7211-45e8-ae43-2320146b4b11",
   "metadata": {},
   "outputs": [
    {
     "data": {
      "text/plain": [
       "0      A2\n",
       "1      A2\n",
       "2      A2\n",
       "3      A2\n",
       "4      A2\n",
       "       ..\n",
       "323    C2\n",
       "324    C2\n",
       "325    C2\n",
       "326    C2\n",
       "327    C2\n",
       "Name: cefr_level, Length: 328, dtype: object"
      ]
     },
     "execution_count": 18,
     "metadata": {},
     "output_type": "execute_result"
    }
   ],
   "source": [
    "df.cefr_level"
   ]
  },
  {
   "cell_type": "code",
   "execution_count": 19,
   "id": "659cadf8-d5c2-4079-8397-1267681851e5",
   "metadata": {},
   "outputs": [
    {
     "data": {
      "image/png": "[encoded data removed]",
      "text/plain": [
       "<Figure size 720x432 with 1 Axes>"
      ]
     },
     "metadata": {},
     "output_type": "display_data"
    }
   ],
   "source": [
    "sns.histplot(data=df.cefr_level, color=\"skyblue\").set(title='Distribution of CEFR Level Readings')\n",
    "plt.xlabel(\"\")\n",
    "plt.ylabel(\"\")\n",
    "plt.show()\n",
    "# plt.hist(df.cefr_level)\n",
    "# plt.title('Distribution of CEFR Level Readings');"
   ]
  },
  {
   "cell_type": "code",
   "execution_count": 20,
   "id": "fe13c933-4496-4a69-bfcb-525c85c029b7",
   "metadata": {},
   "outputs": [],
   "source": [
    "# plt.close('all')\n",
    "# sns.histplot(data=df.cefr_level, color=\"skyblue\").set(title='Distribution of CEFR Level Readings')\n",
    "# sns.set_theme(style=\"dark\", font_scale=4)\n",
    "# plt.xlabel(\"\")\n",
    "# plt.ylabel(\"\")\n",
    "# plt.show()"
   ]
  },
  {
   "cell_type": "markdown",
   "id": "35d6ba49-6d23-4098-add2-e0cf64a81ef3",
   "metadata": {},
   "source": [
    "## More Exploratory Data Analysis on combined Cambridge and One-Stop Data Sets"
   ]
  },
  {
   "cell_type": "code",
   "execution_count": 21,
   "id": "fcbdc211-acef-4c24-84db-1e7a160bb302",
   "metadata": {},
   "outputs": [],
   "source": [
    "sentence_df = pp.preprocess_all(sentence_df, 'text')\n",
    "stats = pp.get_tokenized_word_stats(df, 'documents')"
   ]
  },
  {
   "cell_type": "code",
   "execution_count": 22,
   "id": "50db596b-5c80-49ab-bf33-46e2c47c1bff",
   "metadata": {},
   "outputs": [
    {
     "data": {
      "text/html": [
       "<div>\n",
       "<style scoped>\n",
       "    .dataframe tbody tr th:only-of-type {\n",
       "        vertical-align: middle;\n",
       "    }\n",
       "\n",
       "    .dataframe tbody tr th {\n",
       "        vertical-align: top;\n",
       "    }\n",
       "\n",
       "    .dataframe thead th {\n",
       "        text-align: right;\n",
       "    }\n",
       "</style>\n",
       "<table border=\"1\" class=\"dataframe\">\n",
       "  <thead>\n",
       "    <tr style=\"text-align: right;\">\n",
       "      <th></th>\n",
       "      <th>total_words</th>\n",
       "      <th>total_sentences</th>\n",
       "      <th>avg_sent_len</th>\n",
       "      <th>max_sent_len</th>\n",
       "      <th>min_sent_len</th>\n",
       "    </tr>\n",
       "  </thead>\n",
       "  <tbody>\n",
       "    <tr>\n",
       "      <th>0</th>\n",
       "      <td>126</td>\n",
       "      <td>10</td>\n",
       "      <td>12.60</td>\n",
       "      <td>23</td>\n",
       "      <td>7</td>\n",
       "    </tr>\n",
       "    <tr>\n",
       "      <th>1</th>\n",
       "      <td>97</td>\n",
       "      <td>10</td>\n",
       "      <td>9.70</td>\n",
       "      <td>15</td>\n",
       "      <td>3</td>\n",
       "    </tr>\n",
       "    <tr>\n",
       "      <th>2</th>\n",
       "      <td>113</td>\n",
       "      <td>10</td>\n",
       "      <td>11.30</td>\n",
       "      <td>20</td>\n",
       "      <td>5</td>\n",
       "    </tr>\n",
       "    <tr>\n",
       "      <th>3</th>\n",
       "      <td>204</td>\n",
       "      <td>14</td>\n",
       "      <td>14.57</td>\n",
       "      <td>26</td>\n",
       "      <td>7</td>\n",
       "    </tr>\n",
       "    <tr>\n",
       "      <th>4</th>\n",
       "      <td>195</td>\n",
       "      <td>14</td>\n",
       "      <td>13.93</td>\n",
       "      <td>22</td>\n",
       "      <td>6</td>\n",
       "    </tr>\n",
       "    <tr>\n",
       "      <th>...</th>\n",
       "      <td>...</td>\n",
       "      <td>...</td>\n",
       "      <td>...</td>\n",
       "      <td>...</td>\n",
       "      <td>...</td>\n",
       "    </tr>\n",
       "    <tr>\n",
       "      <th>323</th>\n",
       "      <td>440</td>\n",
       "      <td>21</td>\n",
       "      <td>20.95</td>\n",
       "      <td>43</td>\n",
       "      <td>5</td>\n",
       "    </tr>\n",
       "    <tr>\n",
       "      <th>324</th>\n",
       "      <td>1064</td>\n",
       "      <td>49</td>\n",
       "      <td>21.71</td>\n",
       "      <td>57</td>\n",
       "      <td>4</td>\n",
       "    </tr>\n",
       "    <tr>\n",
       "      <th>325</th>\n",
       "      <td>930</td>\n",
       "      <td>54</td>\n",
       "      <td>17.22</td>\n",
       "      <td>77</td>\n",
       "      <td>4</td>\n",
       "    </tr>\n",
       "    <tr>\n",
       "      <th>326</th>\n",
       "      <td>865</td>\n",
       "      <td>32</td>\n",
       "      <td>27.03</td>\n",
       "      <td>64</td>\n",
       "      <td>8</td>\n",
       "    </tr>\n",
       "    <tr>\n",
       "      <th>327</th>\n",
       "      <td>903</td>\n",
       "      <td>36</td>\n",
       "      <td>25.08</td>\n",
       "      <td>46</td>\n",
       "      <td>7</td>\n",
       "    </tr>\n",
       "  </tbody>\n",
       "</table>\n",
       "<p>328 rows × 5 columns</p>\n",
       "</div>"
      ],
      "text/plain": [
       "     total_words  total_sentences  avg_sent_len  max_sent_len  min_sent_len\n",
       "0            126               10         12.60            23             7\n",
       "1             97               10          9.70            15             3\n",
       "2            113               10         11.30            20             5\n",
       "3            204               14         14.57            26             7\n",
       "4            195               14         13.93            22             6\n",
       "..           ...              ...           ...           ...           ...\n",
       "323          440               21         20.95            43             5\n",
       "324         1064               49         21.71            57             4\n",
       "325          930               54         17.22            77             4\n",
       "326          865               32         27.03            64             8\n",
       "327          903               36         25.08            46             7\n",
       "\n",
       "[328 rows x 5 columns]"
      ]
     },
     "execution_count": 22,
     "metadata": {},
     "output_type": "execute_result"
    }
   ],
   "source": [
    "df_stats = pd.DataFrame.from_records(stats, columns =['total_words', 'total_sentences', 'avg_sent_len', 'max_sent_len', 'min_sent_len'])\n",
    "df_stats['avg_sent_len'] = round(df_stats.avg_sent_len, 2)\n",
    "df_stats"
   ]
  },
  {
   "cell_type": "code",
   "execution_count": 23,
   "id": "dc82d3dd-c0ec-490c-a698-7d561d320925",
   "metadata": {},
   "outputs": [
    {
     "data": {
      "text/html": [
       "<div>\n",
       "<style scoped>\n",
       "    .dataframe tbody tr th:only-of-type {\n",
       "        vertical-align: middle;\n",
       "    }\n",
       "\n",
       "    .dataframe tbody tr th {\n",
       "        vertical-align: top;\n",
       "    }\n",
       "\n",
       "    .dataframe thead th {\n",
       "        text-align: right;\n",
       "    }\n",
       "</style>\n",
       "<table border=\"1\" class=\"dataframe\">\n",
       "  <thead>\n",
       "    <tr style=\"text-align: right;\">\n",
       "      <th></th>\n",
       "      <th>documents</th>\n",
       "      <th>cefr_level</th>\n",
       "      <th>total_words</th>\n",
       "      <th>total_sentences</th>\n",
       "      <th>avg_sent_len</th>\n",
       "      <th>max_sent_len</th>\n",
       "      <th>min_sent_len</th>\n",
       "    </tr>\n",
       "  </thead>\n",
       "  <tbody>\n",
       "    <tr>\n",
       "      <th>0</th>\n",
       "      <td>Not many people have seen an otter. These anim...</td>\n",
       "      <td>A2</td>\n",
       "      <td>126</td>\n",
       "      <td>10</td>\n",
       "      <td>12.60</td>\n",
       "      <td>23</td>\n",
       "      <td>7</td>\n",
       "    </tr>\n",
       "    <tr>\n",
       "      <th>1</th>\n",
       "      <td>Dear Sir, I read your advertisement for Englis...</td>\n",
       "      <td>A2</td>\n",
       "      <td>97</td>\n",
       "      <td>10</td>\n",
       "      <td>9.70</td>\n",
       "      <td>15</td>\n",
       "      <td>3</td>\n",
       "    </tr>\n",
       "    <tr>\n",
       "      <th>2</th>\n",
       "      <td>The bicycle is a cheap and clean way to travel...</td>\n",
       "      <td>A2</td>\n",
       "      <td>113</td>\n",
       "      <td>10</td>\n",
       "      <td>11.30</td>\n",
       "      <td>20</td>\n",
       "      <td>5</td>\n",
       "    </tr>\n",
       "    <tr>\n",
       "      <th>3</th>\n",
       "      <td>Bill Prince-Smith was a farmer and a teacher a...</td>\n",
       "      <td>A2</td>\n",
       "      <td>204</td>\n",
       "      <td>14</td>\n",
       "      <td>14.57</td>\n",
       "      <td>26</td>\n",
       "      <td>7</td>\n",
       "    </tr>\n",
       "    <tr>\n",
       "      <th>4</th>\n",
       "      <td>When Esther left school at the age of sixteen,...</td>\n",
       "      <td>A2</td>\n",
       "      <td>195</td>\n",
       "      <td>14</td>\n",
       "      <td>13.93</td>\n",
       "      <td>22</td>\n",
       "      <td>6</td>\n",
       "    </tr>\n",
       "    <tr>\n",
       "      <th>...</th>\n",
       "      <td>...</td>\n",
       "      <td>...</td>\n",
       "      <td>...</td>\n",
       "      <td>...</td>\n",
       "      <td>...</td>\n",
       "      <td>...</td>\n",
       "      <td>...</td>\n",
       "    </tr>\n",
       "    <tr>\n",
       "      <th>323</th>\n",
       "      <td>It may have been a wish for self-adornment tha...</td>\n",
       "      <td>C2</td>\n",
       "      <td>440</td>\n",
       "      <td>21</td>\n",
       "      <td>20.95</td>\n",
       "      <td>43</td>\n",
       "      <td>5</td>\n",
       "    </tr>\n",
       "    <tr>\n",
       "      <th>324</th>\n",
       "      <td>Theodore Zeldin looks at how our working life ...</td>\n",
       "      <td>C2</td>\n",
       "      <td>1064</td>\n",
       "      <td>49</td>\n",
       "      <td>21.71</td>\n",
       "      <td>57</td>\n",
       "      <td>4</td>\n",
       "    </tr>\n",
       "    <tr>\n",
       "      <th>325</th>\n",
       "      <td>When I was at university I decided I wanted to...</td>\n",
       "      <td>C2</td>\n",
       "      <td>930</td>\n",
       "      <td>54</td>\n",
       "      <td>17.22</td>\n",
       "      <td>77</td>\n",
       "      <td>4</td>\n",
       "    </tr>\n",
       "    <tr>\n",
       "      <th>326</th>\n",
       "      <td>'Broadcasting' originally meant sowing seeds b...</td>\n",
       "      <td>C2</td>\n",
       "      <td>865</td>\n",
       "      <td>32</td>\n",
       "      <td>27.03</td>\n",
       "      <td>64</td>\n",
       "      <td>8</td>\n",
       "    </tr>\n",
       "    <tr>\n",
       "      <th>327</th>\n",
       "      <td>The growing trend for historians to rely on or...</td>\n",
       "      <td>C2</td>\n",
       "      <td>903</td>\n",
       "      <td>36</td>\n",
       "      <td>25.08</td>\n",
       "      <td>46</td>\n",
       "      <td>7</td>\n",
       "    </tr>\n",
       "  </tbody>\n",
       "</table>\n",
       "<p>328 rows × 7 columns</p>\n",
       "</div>"
      ],
      "text/plain": [
       "                                             documents cefr_level  \\\n",
       "0    Not many people have seen an otter. These anim...         A2   \n",
       "1    Dear Sir, I read your advertisement for Englis...         A2   \n",
       "2    The bicycle is a cheap and clean way to travel...         A2   \n",
       "3    Bill Prince-Smith was a farmer and a teacher a...         A2   \n",
       "4    When Esther left school at the age of sixteen,...         A2   \n",
       "..                                                 ...        ...   \n",
       "323  It may have been a wish for self-adornment tha...         C2   \n",
       "324  Theodore Zeldin looks at how our working life ...         C2   \n",
       "325  When I was at university I decided I wanted to...         C2   \n",
       "326  'Broadcasting' originally meant sowing seeds b...         C2   \n",
       "327  The growing trend for historians to rely on or...         C2   \n",
       "\n",
       "     total_words  total_sentences  avg_sent_len  max_sent_len  min_sent_len  \n",
       "0            126               10         12.60            23             7  \n",
       "1             97               10          9.70            15             3  \n",
       "2            113               10         11.30            20             5  \n",
       "3            204               14         14.57            26             7  \n",
       "4            195               14         13.93            22             6  \n",
       "..           ...              ...           ...           ...           ...  \n",
       "323          440               21         20.95            43             5  \n",
       "324         1064               49         21.71            57             4  \n",
       "325          930               54         17.22            77             4  \n",
       "326          865               32         27.03            64             8  \n",
       "327          903               36         25.08            46             7  \n",
       "\n",
       "[328 rows x 7 columns]"
      ]
     },
     "execution_count": 23,
     "metadata": {},
     "output_type": "execute_result"
    }
   ],
   "source": [
    "data = pd.merge(df, df_stats, left_index=True, right_index=True) # df.join(df_stats) is the same: AN INNER JOIN\n",
    "data"
   ]
  },
  {
   "cell_type": "code",
   "execution_count": 24,
   "id": "60f5f108-f7b1-4078-877b-a92a2dd55290",
   "metadata": {},
   "outputs": [
    {
     "data": {
      "image/png": "[encoded data removed]",
      "text/plain": [
       "<Figure size 720x432 with 1 Axes>"
      ]
     },
     "metadata": {},
     "output_type": "display_data"
    }
   ],
   "source": [
    "# data[data.cefr_level == 'C2']['max_sent_len']\n",
    "sns.histplot(data=data, x='avg_sent_len', hue='cefr_level', stat=\"density\");\n"
   ]
  },
  {
   "cell_type": "code",
   "execution_count": 25,
   "id": "dc2014c4-3790-4bbb-9ed7-e091b02d8bd3",
   "metadata": {},
   "outputs": [
    {
     "data": {
      "image/png": "[encoded data removed]",
      "text/plain": [
       "<Figure size 720x360 with 1 Axes>"
      ]
     },
     "metadata": {},
     "output_type": "display_data"
    }
   ],
   "source": [
    "numb = data.groupby('cefr_level')['total_sentences'].mean().tolist()\n",
    "\n",
    "num_d = {'A2': numb[0], 'B1': numb[1], 'B2': numb[2], 'C1': numb[3], 'C2': numb[4]}\n",
    "num_d\n",
    "\n",
    "\n",
    "levels = list(num_d.keys())\n",
    "words = list(num_d.values())\n",
    "  \n",
    "fig = plt.figure(figsize = (10, 5))\n",
    " \n",
    "# creating the bar plot\n",
    "plt.bar(levels, words, color ='lightcoral',\n",
    "        width = 0.4)\n",
    " \n",
    "plt.xlabel(\"CEFR Levels\")\n",
    "# plt.ylabel(\"Total Number of Words\")\n",
    "plt.title(\"Average Total Number of Sentences per Document\")\n",
    "plt.show()"
   ]
  },
  {
   "cell_type": "code",
   "execution_count": 26,
   "id": "afb6cd4c-99c1-4ef1-944a-1694e567ec46",
   "metadata": {},
   "outputs": [
    {
     "data": {
      "text/plain": [
       "['A2', 'B1', 'B2', 'C1', 'C2']"
      ]
     },
     "execution_count": 26,
     "metadata": {},
     "output_type": "execute_result"
    }
   ],
   "source": [
    "levels = data.groupby('cefr_level')['total_words'].mean().index.tolist()\n",
    "levels"
   ]
  },
  {
   "cell_type": "code",
   "execution_count": 27,
   "id": "37af728e-10ea-439d-a66a-e79a5afc31d5",
   "metadata": {},
   "outputs": [
    {
     "data": {
      "text/html": [
       "<div>\n",
       "<style scoped>\n",
       "    .dataframe tbody tr th:only-of-type {\n",
       "        vertical-align: middle;\n",
       "    }\n",
       "\n",
       "    .dataframe tbody tr th {\n",
       "        vertical-align: top;\n",
       "    }\n",
       "\n",
       "    .dataframe thead th {\n",
       "        text-align: right;\n",
       "    }\n",
       "</style>\n",
       "<table border=\"1\" class=\"dataframe\">\n",
       "  <thead>\n",
       "    <tr style=\"text-align: right;\">\n",
       "      <th></th>\n",
       "      <th>documents</th>\n",
       "      <th>cefr_level</th>\n",
       "      <th>total_words</th>\n",
       "      <th>total_sentences</th>\n",
       "      <th>avg_sent_len</th>\n",
       "      <th>max_sent_len</th>\n",
       "      <th>min_sent_len</th>\n",
       "    </tr>\n",
       "  </thead>\n",
       "  <tbody>\n",
       "    <tr>\n",
       "      <th>0</th>\n",
       "      <td>Not many people have seen an otter. These anim...</td>\n",
       "      <td>A2</td>\n",
       "      <td>126</td>\n",
       "      <td>10</td>\n",
       "      <td>12.60</td>\n",
       "      <td>23</td>\n",
       "      <td>7</td>\n",
       "    </tr>\n",
       "    <tr>\n",
       "      <th>1</th>\n",
       "      <td>Dear Sir, I read your advertisement for Englis...</td>\n",
       "      <td>A2</td>\n",
       "      <td>97</td>\n",
       "      <td>10</td>\n",
       "      <td>9.70</td>\n",
       "      <td>15</td>\n",
       "      <td>3</td>\n",
       "    </tr>\n",
       "    <tr>\n",
       "      <th>2</th>\n",
       "      <td>The bicycle is a cheap and clean way to travel...</td>\n",
       "      <td>A2</td>\n",
       "      <td>113</td>\n",
       "      <td>10</td>\n",
       "      <td>11.30</td>\n",
       "      <td>20</td>\n",
       "      <td>5</td>\n",
       "    </tr>\n",
       "    <tr>\n",
       "      <th>3</th>\n",
       "      <td>Bill Prince-Smith was a farmer and a teacher a...</td>\n",
       "      <td>A2</td>\n",
       "      <td>204</td>\n",
       "      <td>14</td>\n",
       "      <td>14.57</td>\n",
       "      <td>26</td>\n",
       "      <td>7</td>\n",
       "    </tr>\n",
       "    <tr>\n",
       "      <th>4</th>\n",
       "      <td>When Esther left school at the age of sixteen,...</td>\n",
       "      <td>A2</td>\n",
       "      <td>195</td>\n",
       "      <td>14</td>\n",
       "      <td>13.93</td>\n",
       "      <td>22</td>\n",
       "      <td>6</td>\n",
       "    </tr>\n",
       "    <tr>\n",
       "      <th>...</th>\n",
       "      <td>...</td>\n",
       "      <td>...</td>\n",
       "      <td>...</td>\n",
       "      <td>...</td>\n",
       "      <td>...</td>\n",
       "      <td>...</td>\n",
       "      <td>...</td>\n",
       "    </tr>\n",
       "    <tr>\n",
       "      <th>323</th>\n",
       "      <td>It may have been a wish for self-adornment tha...</td>\n",
       "      <td>C2</td>\n",
       "      <td>440</td>\n",
       "      <td>21</td>\n",
       "      <td>20.95</td>\n",
       "      <td>43</td>\n",
       "      <td>5</td>\n",
       "    </tr>\n",
       "    <tr>\n",
       "      <th>324</th>\n",
       "      <td>Theodore Zeldin looks at how our working life ...</td>\n",
       "      <td>C2</td>\n",
       "      <td>1064</td>\n",
       "      <td>49</td>\n",
       "      <td>21.71</td>\n",
       "      <td>57</td>\n",
       "      <td>4</td>\n",
       "    </tr>\n",
       "    <tr>\n",
       "      <th>325</th>\n",
       "      <td>When I was at university I decided I wanted to...</td>\n",
       "      <td>C2</td>\n",
       "      <td>930</td>\n",
       "      <td>54</td>\n",
       "      <td>17.22</td>\n",
       "      <td>77</td>\n",
       "      <td>4</td>\n",
       "    </tr>\n",
       "    <tr>\n",
       "      <th>326</th>\n",
       "      <td>'Broadcasting' originally meant sowing seeds b...</td>\n",
       "      <td>C2</td>\n",
       "      <td>865</td>\n",
       "      <td>32</td>\n",
       "      <td>27.03</td>\n",
       "      <td>64</td>\n",
       "      <td>8</td>\n",
       "    </tr>\n",
       "    <tr>\n",
       "      <th>327</th>\n",
       "      <td>The growing trend for historians to rely on or...</td>\n",
       "      <td>C2</td>\n",
       "      <td>903</td>\n",
       "      <td>36</td>\n",
       "      <td>25.08</td>\n",
       "      <td>46</td>\n",
       "      <td>7</td>\n",
       "    </tr>\n",
       "  </tbody>\n",
       "</table>\n",
       "<p>328 rows × 7 columns</p>\n",
       "</div>"
      ],
      "text/plain": [
       "                                             documents cefr_level  \\\n",
       "0    Not many people have seen an otter. These anim...         A2   \n",
       "1    Dear Sir, I read your advertisement for Englis...         A2   \n",
       "2    The bicycle is a cheap and clean way to travel...         A2   \n",
       "3    Bill Prince-Smith was a farmer and a teacher a...         A2   \n",
       "4    When Esther left school at the age of sixteen,...         A2   \n",
       "..                                                 ...        ...   \n",
       "323  It may have been a wish for self-adornment tha...         C2   \n",
       "324  Theodore Zeldin looks at how our working life ...         C2   \n",
       "325  When I was at university I decided I wanted to...         C2   \n",
       "326  'Broadcasting' originally meant sowing seeds b...         C2   \n",
       "327  The growing trend for historians to rely on or...         C2   \n",
       "\n",
       "     total_words  total_sentences  avg_sent_len  max_sent_len  min_sent_len  \n",
       "0            126               10         12.60            23             7  \n",
       "1             97               10          9.70            15             3  \n",
       "2            113               10         11.30            20             5  \n",
       "3            204               14         14.57            26             7  \n",
       "4            195               14         13.93            22             6  \n",
       "..           ...              ...           ...           ...           ...  \n",
       "323          440               21         20.95            43             5  \n",
       "324         1064               49         21.71            57             4  \n",
       "325          930               54         17.22            77             4  \n",
       "326          865               32         27.03            64             8  \n",
       "327          903               36         25.08            46             7  \n",
       "\n",
       "[328 rows x 7 columns]"
      ]
     },
     "execution_count": 27,
     "metadata": {},
     "output_type": "execute_result"
    }
   ],
   "source": [
    "data"
   ]
  },
  {
   "cell_type": "code",
   "execution_count": 28,
   "id": "2e52cba9-31b5-41c0-b8fd-d86acaf01bbe",
   "metadata": {
    "tags": []
   },
   "outputs": [
    {
     "data": {
      "image/png": "[encoded data removed]",
      "text/plain": [
       "<Figure size 864x576 with 6 Axes>"
      ]
     },
     "metadata": {},
     "output_type": "display_data"
    }
   ],
   "source": [
    "# set a grey background (use sns.set_theme() if seaborn version 0.11.0 or above) \n",
    "sns.set_theme(style=\"dark\")\n",
    "\n",
    "fig, axs = plt.subplots(2, 3, figsize=(12,8), sharey='row')\n",
    "\n",
    "for i, level in enumerate(levels):\n",
    "    if i in range(3):\n",
    "        j = 0\n",
    "    else:\n",
    "        j = 1\n",
    "        i = i - 2\n",
    "    if level[0] == 'C':\n",
    "        colour = 'skyblue'\n",
    "    elif level[0] == 'B':\n",
    "        colour = 'red'\n",
    "    else:\n",
    "        colour = 'teal'        \n",
    "        \n",
    "    \n",
    "    plot_data = data[data.cefr_level == level]['avg_sent_len']\n",
    "    \n",
    "#     sns.histplot(data=plot_data, color=colour, bins=15, kde=False, ax=axs[j, i], legend=True)\n",
    "    \n",
    "    axs[j, i].hist(plot_data, color=colour)\n",
    "    axs[j, i].set_title(label=level)\n",
    "    axs[j, i].set_xlabel('Total Words')\n",
    "    axs[j, i].set_ylabel('')\n",
    "\n",
    "axs[1, 0].set_facecolor('white')\n",
    "axs[1, 0].set_xticklabels([])\n",
    "axs[1, 0].set_yticklabels([])    \n",
    "\n",
    "fig.tight_layout()\n",
    "plt.show()\n",
    "    \n",
    "# fig.legend(loc='center right')\n",
    "\n",
    "\n",
    "# sns.histplot(data=data[data.cefr_level == 'C2']['total_words'], color=\"skyblue\", label=\"C2\", kde=True)\n",
    "# sns.histplot(data=data[data.cefr_level == 'C1']['total_sentences'], color=\"teal\", label=\"C2\", kde=True)\n",
    "# sns.histplot(data=data[data.cefr_level == 'A2']['total_sentences'], color=\"red\", label=\"A2\", kde=True)"
   ]
  }
 ],
 "metadata": {
  "kernelspec": {
   "display_name": "Python 3 (ipykernel)",
   "language": "python",
   "name": "python3"
  },
  "language_info": {
   "codemirror_mode": {
    "name": "ipython",
    "version": 3
   },
   "file_extension": ".py",
   "mimetype": "text/x-python",
   "name": "python",
   "nbconvert_exporter": "python",
   "pygments_lexer": "ipython3",
   "version": "3.8.8"
  }
 },
 "nbformat": 4,
 "nbformat_minor": 5
}
