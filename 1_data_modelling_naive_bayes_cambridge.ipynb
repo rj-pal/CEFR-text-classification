{
 "cells": [
  {
   "cell_type": "code",
   "execution_count": 1,
   "id": "521c5190-1ec0-4707-a84a-2a2f1701aa02",
   "metadata": {},
   "outputs": [],
   "source": [
    "import pandas as pd\n",
    "import numpy as np\n",
    "import seaborn as sns\n",
    "import matplotlib.pyplot as plt\n",
    "from nlp import preprocessing as pp\n",
    "import nltk"
   ]
  },
  {
   "cell_type": "code",
   "execution_count": 2,
   "id": "5e2fae4a-f57f-4ff6-bb4f-d8fea4cc21cc",
   "metadata": {},
   "outputs": [],
   "source": [
    "df = pd.read_csv('data/cefr_readings.csv')"
   ]
  },
  {
   "cell_type": "code",
   "execution_count": 3,
   "id": "ffdccfbf-f8c5-4fe7-b17c-adae67bedd2a",
   "metadata": {},
   "outputs": [
    {
     "data": {
      "text/html": [
       "<div>\n",
       "<style scoped>\n",
       "    .dataframe tbody tr th:only-of-type {\n",
       "        vertical-align: middle;\n",
       "    }\n",
       "\n",
       "    .dataframe tbody tr th {\n",
       "        vertical-align: top;\n",
       "    }\n",
       "\n",
       "    .dataframe thead th {\n",
       "        text-align: right;\n",
       "    }\n",
       "</style>\n",
       "<table border=\"1\" class=\"dataframe\">\n",
       "  <thead>\n",
       "    <tr style=\"text-align: right;\">\n",
       "      <th></th>\n",
       "      <th>documents</th>\n",
       "      <th>cefr_level</th>\n",
       "    </tr>\n",
       "  </thead>\n",
       "  <tbody>\n",
       "    <tr>\n",
       "      <th>0</th>\n",
       "      <td>Not many people have seen an otter. These anim...</td>\n",
       "      <td>A2</td>\n",
       "    </tr>\n",
       "    <tr>\n",
       "      <th>1</th>\n",
       "      <td>Dear Sir, I read your advertisement for Englis...</td>\n",
       "      <td>A2</td>\n",
       "    </tr>\n",
       "    <tr>\n",
       "      <th>2</th>\n",
       "      <td>The bicycle is a cheap and clean way to travel...</td>\n",
       "      <td>A2</td>\n",
       "    </tr>\n",
       "    <tr>\n",
       "      <th>3</th>\n",
       "      <td>Bill Prince-Smith was a farmer and a teacher a...</td>\n",
       "      <td>A2</td>\n",
       "    </tr>\n",
       "    <tr>\n",
       "      <th>4</th>\n",
       "      <td>When Esther left school at the age of sixteen,...</td>\n",
       "      <td>A2</td>\n",
       "    </tr>\n",
       "  </tbody>\n",
       "</table>\n",
       "</div>"
      ],
      "text/plain": [
       "                                           documents cefr_level\n",
       "0  Not many people have seen an otter. These anim...         A2\n",
       "1  Dear Sir, I read your advertisement for Englis...         A2\n",
       "2  The bicycle is a cheap and clean way to travel...         A2\n",
       "3  Bill Prince-Smith was a farmer and a teacher a...         A2\n",
       "4  When Esther left school at the age of sixteen,...         A2"
      ]
     },
     "execution_count": 3,
     "metadata": {},
     "output_type": "execute_result"
    }
   ],
   "source": [
    "df.head()"
   ]
  },
  {
   "cell_type": "markdown",
   "id": "e69abd07-7bec-4694-9444-0859d7d57f2c",
   "metadata": {},
   "source": [
    "#### This is the original data frame broken up into individual sentences: \n",
    "The original Naive Bayes experiment can be found below using each individual document or reading from the Cambridge Readability Data Set"
   ]
  },
  {
   "cell_type": "code",
   "execution_count": 4,
   "id": "a1ea993d-91a8-44b8-996a-8072dcc0b862",
   "metadata": {},
   "outputs": [],
   "source": [
    "sent_df = pp.get_sentences(df, 'documents', 'cefr_level')\n",
    "new_df = pd.DataFrame.from_records(sent_df, columns=['text', 'num_of_sent', 'avg_len_word', 'level', 'doc_id'])"
   ]
  },
  {
   "cell_type": "code",
   "execution_count": 5,
   "id": "a0e85139-b48c-4949-95a5-550fc0e7d29c",
   "metadata": {},
   "outputs": [
    {
     "data": {
      "text/html": [
       "<div>\n",
       "<style scoped>\n",
       "    .dataframe tbody tr th:only-of-type {\n",
       "        vertical-align: middle;\n",
       "    }\n",
       "\n",
       "    .dataframe tbody tr th {\n",
       "        vertical-align: top;\n",
       "    }\n",
       "\n",
       "    .dataframe thead th {\n",
       "        text-align: right;\n",
       "    }\n",
       "</style>\n",
       "<table border=\"1\" class=\"dataframe\">\n",
       "  <thead>\n",
       "    <tr style=\"text-align: right;\">\n",
       "      <th></th>\n",
       "      <th>text</th>\n",
       "      <th>num_of_sent</th>\n",
       "      <th>avg_len_word</th>\n",
       "      <th>level</th>\n",
       "      <th>doc_id</th>\n",
       "    </tr>\n",
       "  </thead>\n",
       "  <tbody>\n",
       "    <tr>\n",
       "      <th>0</th>\n",
       "      <td>Not many people have seen an otter.</td>\n",
       "      <td>7</td>\n",
       "      <td>4.00</td>\n",
       "      <td>A2</td>\n",
       "      <td>0</td>\n",
       "    </tr>\n",
       "    <tr>\n",
       "      <th>1</th>\n",
       "      <td>These animals live near rivers and make their ...</td>\n",
       "      <td>14</td>\n",
       "      <td>4.57</td>\n",
       "      <td>A2</td>\n",
       "      <td>0</td>\n",
       "    </tr>\n",
       "    <tr>\n",
       "      <th>2</th>\n",
       "      <td>They usually come out of their homes at night.</td>\n",
       "      <td>9</td>\n",
       "      <td>4.11</td>\n",
       "      <td>A2</td>\n",
       "      <td>0</td>\n",
       "    </tr>\n",
       "    <tr>\n",
       "      <th>3</th>\n",
       "      <td>Otters are very good in the water and can swim...</td>\n",
       "      <td>17</td>\n",
       "      <td>3.82</td>\n",
       "      <td>A2</td>\n",
       "      <td>0</td>\n",
       "    </tr>\n",
       "    <tr>\n",
       "      <th>4</th>\n",
       "      <td>They have thick brown hair and this keeps them...</td>\n",
       "      <td>13</td>\n",
       "      <td>4.00</td>\n",
       "      <td>A2</td>\n",
       "      <td>0</td>\n",
       "    </tr>\n",
       "    <tr>\n",
       "      <th>...</th>\n",
       "      <td>...</td>\n",
       "      <td>...</td>\n",
       "      <td>...</td>\n",
       "      <td>...</td>\n",
       "      <td>...</td>\n",
       "    </tr>\n",
       "    <tr>\n",
       "      <th>9429</th>\n",
       "      <td>Utility and Function are not part of this defi...</td>\n",
       "      <td>43</td>\n",
       "      <td>4.98</td>\n",
       "      <td>C2</td>\n",
       "      <td>327</td>\n",
       "    </tr>\n",
       "    <tr>\n",
       "      <th>9430</th>\n",
       "      <td>The origins of classical architecture are comp...</td>\n",
       "      <td>7</td>\n",
       "      <td>6.14</td>\n",
       "      <td>C2</td>\n",
       "      <td>327</td>\n",
       "    </tr>\n",
       "    <tr>\n",
       "      <th>9431</th>\n",
       "      <td>There was obviously a long prehistory of basic...</td>\n",
       "      <td>31</td>\n",
       "      <td>5.13</td>\n",
       "      <td>C2</td>\n",
       "      <td>327</td>\n",
       "    </tr>\n",
       "    <tr>\n",
       "      <th>9432</th>\n",
       "      <td>Though these were, by definition, inartistic t...</td>\n",
       "      <td>22</td>\n",
       "      <td>6.73</td>\n",
       "      <td>C2</td>\n",
       "      <td>327</td>\n",
       "    </tr>\n",
       "    <tr>\n",
       "      <th>9433</th>\n",
       "      <td>However orate it may appear from the outside, ...</td>\n",
       "      <td>19</td>\n",
       "      <td>4.63</td>\n",
       "      <td>C2</td>\n",
       "      <td>327</td>\n",
       "    </tr>\n",
       "  </tbody>\n",
       "</table>\n",
       "<p>9434 rows × 5 columns</p>\n",
       "</div>"
      ],
      "text/plain": [
       "                                                   text  num_of_sent  \\\n",
       "0                   Not many people have seen an otter.            7   \n",
       "1     These animals live near rivers and make their ...           14   \n",
       "2        They usually come out of their homes at night.            9   \n",
       "3     Otters are very good in the water and can swim...           17   \n",
       "4     They have thick brown hair and this keeps them...           13   \n",
       "...                                                 ...          ...   \n",
       "9429  Utility and Function are not part of this defi...           43   \n",
       "9430  The origins of classical architecture are comp...            7   \n",
       "9431  There was obviously a long prehistory of basic...           31   \n",
       "9432  Though these were, by definition, inartistic t...           22   \n",
       "9433  However orate it may appear from the outside, ...           19   \n",
       "\n",
       "      avg_len_word level  doc_id  \n",
       "0             4.00    A2       0  \n",
       "1             4.57    A2       0  \n",
       "2             4.11    A2       0  \n",
       "3             3.82    A2       0  \n",
       "4             4.00    A2       0  \n",
       "...            ...   ...     ...  \n",
       "9429          4.98    C2     327  \n",
       "9430          6.14    C2     327  \n",
       "9431          5.13    C2     327  \n",
       "9432          6.73    C2     327  \n",
       "9433          4.63    C2     327  \n",
       "\n",
       "[9434 rows x 5 columns]"
      ]
     },
     "execution_count": 5,
     "metadata": {},
     "output_type": "execute_result"
    }
   ],
   "source": [
    "new_df"
   ]
  },
  {
   "cell_type": "markdown",
   "id": "91eb40d0-c5d5-4f7c-b19f-1ec573ba79a4",
   "metadata": {
    "tags": []
   },
   "source": [
    "#### New Attempt at Naive Bayes using each sentence as a data point"
   ]
  },
  {
   "cell_type": "code",
   "execution_count": 6,
   "id": "c525f169-9dd8-46c7-80ff-e4bdc5b08259",
   "metadata": {},
   "outputs": [],
   "source": [
    "df_processed =  pp.preprocess_all(new_df, 'text')"
   ]
  },
  {
   "cell_type": "code",
   "execution_count": 7,
   "id": "fea16ce0-edb7-449c-ba54-cd4d2d66827e",
   "metadata": {},
   "outputs": [
    {
     "data": {
      "text/html": [
       "<div>\n",
       "<style scoped>\n",
       "    .dataframe tbody tr th:only-of-type {\n",
       "        vertical-align: middle;\n",
       "    }\n",
       "\n",
       "    .dataframe tbody tr th {\n",
       "        vertical-align: top;\n",
       "    }\n",
       "\n",
       "    .dataframe thead th {\n",
       "        text-align: right;\n",
       "    }\n",
       "</style>\n",
       "<table border=\"1\" class=\"dataframe\">\n",
       "  <thead>\n",
       "    <tr style=\"text-align: right;\">\n",
       "      <th></th>\n",
       "      <th>text</th>\n",
       "      <th>num_of_sent</th>\n",
       "      <th>avg_len_word</th>\n",
       "      <th>level</th>\n",
       "      <th>doc_id</th>\n",
       "      <th>text_clean</th>\n",
       "      <th>Lemmatized</th>\n",
       "      <th>Stemmed</th>\n",
       "    </tr>\n",
       "  </thead>\n",
       "  <tbody>\n",
       "    <tr>\n",
       "      <th>0</th>\n",
       "      <td>Not many people have seen an otter.</td>\n",
       "      <td>7</td>\n",
       "      <td>4.00</td>\n",
       "      <td>A2</td>\n",
       "      <td>0</td>\n",
       "      <td>many people seen otter</td>\n",
       "      <td>many people seen otter</td>\n",
       "      <td>mani peopl seen otter</td>\n",
       "    </tr>\n",
       "    <tr>\n",
       "      <th>1</th>\n",
       "      <td>These animals live near rivers and make their ...</td>\n",
       "      <td>14</td>\n",
       "      <td>4.57</td>\n",
       "      <td>A2</td>\n",
       "      <td>0</td>\n",
       "      <td>animals live near rivers make homes small piec...</td>\n",
       "      <td>animal live near river make home small piece wood</td>\n",
       "      <td>anim live near river make home small piec wood</td>\n",
       "    </tr>\n",
       "    <tr>\n",
       "      <th>2</th>\n",
       "      <td>They usually come out of their homes at night.</td>\n",
       "      <td>9</td>\n",
       "      <td>4.11</td>\n",
       "      <td>A2</td>\n",
       "      <td>0</td>\n",
       "      <td>usually come homes night</td>\n",
       "      <td>usually come home night</td>\n",
       "      <td>usual come home night</td>\n",
       "    </tr>\n",
       "    <tr>\n",
       "      <th>3</th>\n",
       "      <td>Otters are very good in the water and can swim...</td>\n",
       "      <td>17</td>\n",
       "      <td>3.82</td>\n",
       "      <td>A2</td>\n",
       "      <td>0</td>\n",
       "      <td>otters good water swim thankilometres hour</td>\n",
       "      <td>otter good water swim thankilometres hour</td>\n",
       "      <td>otter good water swim thankilometr hour</td>\n",
       "    </tr>\n",
       "    <tr>\n",
       "      <th>4</th>\n",
       "      <td>They have thick brown hair and this keeps them...</td>\n",
       "      <td>13</td>\n",
       "      <td>4.00</td>\n",
       "      <td>A2</td>\n",
       "      <td>0</td>\n",
       "      <td>thick brown hair keeps warm water</td>\n",
       "      <td>thick brown hair keep warm water</td>\n",
       "      <td>thick brown hair keep warm water</td>\n",
       "    </tr>\n",
       "  </tbody>\n",
       "</table>\n",
       "</div>"
      ],
      "text/plain": [
       "                                                text  num_of_sent  \\\n",
       "0                Not many people have seen an otter.            7   \n",
       "1  These animals live near rivers and make their ...           14   \n",
       "2     They usually come out of their homes at night.            9   \n",
       "3  Otters are very good in the water and can swim...           17   \n",
       "4  They have thick brown hair and this keeps them...           13   \n",
       "\n",
       "   avg_len_word level  doc_id  \\\n",
       "0          4.00    A2       0   \n",
       "1          4.57    A2       0   \n",
       "2          4.11    A2       0   \n",
       "3          3.82    A2       0   \n",
       "4          4.00    A2       0   \n",
       "\n",
       "                                          text_clean  \\\n",
       "0                             many people seen otter   \n",
       "1  animals live near rivers make homes small piec...   \n",
       "2                           usually come homes night   \n",
       "3         otters good water swim thankilometres hour   \n",
       "4                  thick brown hair keeps warm water   \n",
       "\n",
       "                                          Lemmatized  \\\n",
       "0                             many people seen otter   \n",
       "1  animal live near river make home small piece wood   \n",
       "2                            usually come home night   \n",
       "3          otter good water swim thankilometres hour   \n",
       "4                   thick brown hair keep warm water   \n",
       "\n",
       "                                          Stemmed  \n",
       "0                           mani peopl seen otter  \n",
       "1  anim live near river make home small piec wood  \n",
       "2                           usual come home night  \n",
       "3         otter good water swim thankilometr hour  \n",
       "4                thick brown hair keep warm water  "
      ]
     },
     "execution_count": 7,
     "metadata": {},
     "output_type": "execute_result"
    }
   ],
   "source": [
    "df_processed.head()"
   ]
  },
  {
   "cell_type": "code",
   "execution_count": 8,
   "id": "ddca8666-362b-4dd6-ba0d-a3dd64e5332c",
   "metadata": {},
   "outputs": [],
   "source": [
    "data = df_processed[['Lemmatized','level']]"
   ]
  },
  {
   "cell_type": "code",
   "execution_count": 9,
   "id": "141ded72-a921-4b42-98e2-8a3a486adf4f",
   "metadata": {},
   "outputs": [
    {
     "data": {
      "text/html": [
       "<div>\n",
       "<style scoped>\n",
       "    .dataframe tbody tr th:only-of-type {\n",
       "        vertical-align: middle;\n",
       "    }\n",
       "\n",
       "    .dataframe tbody tr th {\n",
       "        vertical-align: top;\n",
       "    }\n",
       "\n",
       "    .dataframe thead th {\n",
       "        text-align: right;\n",
       "    }\n",
       "</style>\n",
       "<table border=\"1\" class=\"dataframe\">\n",
       "  <thead>\n",
       "    <tr style=\"text-align: right;\">\n",
       "      <th></th>\n",
       "      <th>Lemmatized</th>\n",
       "      <th>level</th>\n",
       "    </tr>\n",
       "  </thead>\n",
       "  <tbody>\n",
       "    <tr>\n",
       "      <th>0</th>\n",
       "      <td>many people seen otter</td>\n",
       "      <td>A2</td>\n",
       "    </tr>\n",
       "    <tr>\n",
       "      <th>1</th>\n",
       "      <td>animal live near river make home small piece wood</td>\n",
       "      <td>A2</td>\n",
       "    </tr>\n",
       "    <tr>\n",
       "      <th>2</th>\n",
       "      <td>usually come home night</td>\n",
       "      <td>A2</td>\n",
       "    </tr>\n",
       "    <tr>\n",
       "      <th>3</th>\n",
       "      <td>otter good water swim thankilometres hour</td>\n",
       "      <td>A2</td>\n",
       "    </tr>\n",
       "    <tr>\n",
       "      <th>4</th>\n",
       "      <td>thick brown hair keep warm water</td>\n",
       "      <td>A2</td>\n",
       "    </tr>\n",
       "    <tr>\n",
       "      <th>...</th>\n",
       "      <td>...</td>\n",
       "      <td>...</td>\n",
       "    </tr>\n",
       "    <tr>\n",
       "      <th>9429</th>\n",
       "      <td>utility function part definition though book v...</td>\n",
       "      <td>C2</td>\n",
       "    </tr>\n",
       "    <tr>\n",
       "      <th>9430</th>\n",
       "      <td>origin classical architecture complex</td>\n",
       "      <td>C2</td>\n",
       "    </tr>\n",
       "    <tr>\n",
       "      <th>9431</th>\n",
       "      <td>obviously long prehistory basic construction h...</td>\n",
       "      <td>C2</td>\n",
       "    </tr>\n",
       "    <tr>\n",
       "      <th>9432</th>\n",
       "      <td>though definition inartistic nevertheless cont...</td>\n",
       "      <td>C2</td>\n",
       "    </tr>\n",
       "    <tr>\n",
       "      <th>9433</th>\n",
       "      <td>however orate may appear outside essence class...</td>\n",
       "      <td>C2</td>\n",
       "    </tr>\n",
       "  </tbody>\n",
       "</table>\n",
       "<p>9434 rows × 2 columns</p>\n",
       "</div>"
      ],
      "text/plain": [
       "                                             Lemmatized level\n",
       "0                                many people seen otter    A2\n",
       "1     animal live near river make home small piece wood    A2\n",
       "2                               usually come home night    A2\n",
       "3             otter good water swim thankilometres hour    A2\n",
       "4                      thick brown hair keep warm water    A2\n",
       "...                                                 ...   ...\n",
       "9429  utility function part definition though book v...    C2\n",
       "9430              origin classical architecture complex    C2\n",
       "9431  obviously long prehistory basic construction h...    C2\n",
       "9432  though definition inartistic nevertheless cont...    C2\n",
       "9433  however orate may appear outside essence class...    C2\n",
       "\n",
       "[9434 rows x 2 columns]"
      ]
     },
     "execution_count": 9,
     "metadata": {},
     "output_type": "execute_result"
    }
   ],
   "source": [
    "data"
   ]
  },
  {
   "cell_type": "markdown",
   "id": "a8e4044b-0c24-4fd6-854c-8b34c5090b13",
   "metadata": {},
   "source": [
    "#### Data prepared for testing with one feature: Lemmatized data to be vectorized into Bag-of-Words"
   ]
  },
  {
   "cell_type": "code",
   "execution_count": 12,
   "id": "cbc31b46-f8d8-4921-984c-4de1408f3da4",
   "metadata": {},
   "outputs": [],
   "source": [
    "documents = data.Lemmatized\n",
    "target = data.level\n",
    "\n",
    "from sklearn.model_selection import train_test_split\n",
    "\n",
    "X_train, X_test, y_train, y_test = train_test_split(documents, target, test_size=0.3, random_state=29)"
   ]
  },
  {
   "cell_type": "code",
   "execution_count": 13,
   "id": "3164ee20-90e8-4207-9c35-67790d62a3ff",
   "metadata": {},
   "outputs": [],
   "source": [
    "from sklearn.feature_extraction.text import CountVectorizer\n",
    "\n",
    "cv = CountVectorizer()\n",
    "\n",
    "X_train_vectors = cv.fit_transform(X_train).toarray()\n",
    "X_test_vectors = cv.transform(X_test).toarray()\n",
    "# print(X_train_vectors)"
   ]
  },
  {
   "cell_type": "code",
   "execution_count": 14,
   "id": "6071062f-1dac-49d8-839e-bfe0315b2054",
   "metadata": {},
   "outputs": [],
   "source": [
    "# cv.vocabulary_"
   ]
  },
  {
   "cell_type": "code",
   "execution_count": 15,
   "id": "c7b0f98a-dff5-43d9-b860-4cbdc363e39f",
   "metadata": {},
   "outputs": [
    {
     "data": {
      "text/plain": [
       "(6603, 10069)"
      ]
     },
     "execution_count": 15,
     "metadata": {},
     "output_type": "execute_result"
    }
   ],
   "source": [
    "X_train_vectors.shape"
   ]
  },
  {
   "cell_type": "code",
   "execution_count": 16,
   "id": "7ebc8bb7-2ce8-4a60-ad2d-8785717afdc8",
   "metadata": {},
   "outputs": [
    {
     "data": {
      "text/plain": [
       "(2831, 10069)"
      ]
     },
     "execution_count": 16,
     "metadata": {},
     "output_type": "execute_result"
    }
   ],
   "source": [
    "X_test_vectors.shape"
   ]
  },
  {
   "cell_type": "code",
   "execution_count": 17,
   "id": "a95447c2-5bd5-488f-9223-2857efec7664",
   "metadata": {},
   "outputs": [],
   "source": [
    "from sklearn.preprocessing import LabelEncoder\n",
    "\n",
    "le = LabelEncoder()\n",
    "\n",
    "y_train_labels = le.fit_transform(y_train)\n",
    "y_test_labels = le.transform(y_test)"
   ]
  },
  {
   "cell_type": "code",
   "execution_count": 18,
   "id": "f16edd84-e167-4067-a2ad-a5c480f4d3bc",
   "metadata": {},
   "outputs": [
    {
     "name": "stdout",
     "output_type": "stream",
     "text": [
      "Training Acc.:  0.7987278509768287\n",
      "Valid Acc.:  0.4994701518897916\n"
     ]
    }
   ],
   "source": [
    "from sklearn.pipeline import make_pipeline\n",
    "from sklearn.naive_bayes import MultinomialNB\n",
    "\n",
    "pipe_nb = make_pipeline(CountVectorizer(), MultinomialNB())\n",
    "pipe_nb.fit(X_train, y_train)\n",
    "print(\"Training Acc.: \", pipe_nb.score(X_train, y_train))\n",
    "print(\"Valid Acc.: \", pipe_nb.score(X_test, y_test))"
   ]
  },
  {
   "cell_type": "code",
   "execution_count": 20,
   "id": "2942249f-ad08-46e8-8d34-9cc7837d3f99",
   "metadata": {},
   "outputs": [
    {
     "data": {
      "text/plain": [
       "array([0.45297592, 0.44298046, 0.46706043])"
      ]
     },
     "execution_count": 20,
     "metadata": {},
     "output_type": "execute_result"
    }
   ],
   "source": [
    "# Re-do the test after cross-validation\n",
    "\n",
    "from sklearn.naive_bayes import MultinomialNB\n",
    "from sklearn.model_selection import cross_validate\n",
    "\n",
    "nb = MultinomialNB()\n",
    "\n",
    "cv_results = cross_validate(nb, X_train_vectors, y_train_labels, cv=3)\n",
    "sorted(cv_results.keys())\n",
    "\n",
    "cv_results['test_score']"
   ]
  },
  {
   "cell_type": "code",
   "execution_count": 21,
   "id": "4f10977e-5d5f-4be9-a553-c305292ba5f1",
   "metadata": {},
   "outputs": [
    {
     "data": {
      "text/plain": [
       "MultinomialNB()"
      ]
     },
     "execution_count": 21,
     "metadata": {},
     "output_type": "execute_result"
    }
   ],
   "source": [
    "nb.fit(X_train_vectors, y_train_labels)"
   ]
  },
  {
   "cell_type": "code",
   "execution_count": 22,
   "id": "435b351f-7f54-4dab-8caf-5bb47f93794a",
   "metadata": {},
   "outputs": [
    {
     "name": "stdout",
     "output_type": "stream",
     "text": [
      "Training Acc.:  0.7987278509768287\n",
      "Valid Acc.:  0.4994701518897916\n"
     ]
    }
   ],
   "source": [
    "# Confirm: same result as the pipeline\n",
    "\n",
    "print(\"Training Acc.: \", nb.score(X_train_vectors, y_train_labels))\n",
    "print(\"Valid Acc.: \", nb.score(X_test_vectors, y_test_labels))"
   ]
  },
  {
   "cell_type": "code",
   "execution_count": 23,
   "id": "41e8b219-842d-40e9-80c9-d75db77ed514",
   "metadata": {},
   "outputs": [],
   "source": [
    "test_pred = nb.predict(X_test_vectors)"
   ]
  },
  {
   "cell_type": "code",
   "execution_count": 24,
   "id": "24c67a47-1427-48ae-9f84-6230fe185c8b",
   "metadata": {},
   "outputs": [
    {
     "data": {
      "text/plain": [
       "array([0, 1, 2, 3, 4])"
      ]
     },
     "execution_count": 24,
     "metadata": {},
     "output_type": "execute_result"
    }
   ],
   "source": [
    "nb.classes_"
   ]
  },
  {
   "cell_type": "code",
   "execution_count": 25,
   "id": "fefe66e8-664d-4012-abcb-e214ef2ece06",
   "metadata": {},
   "outputs": [
    {
     "name": "stdout",
     "output_type": "stream",
     "text": [
      "Confusion Matrix\n"
     ]
    },
    {
     "data": {
      "image/png": "[encoded data removed]",
      "text/plain": [
       "<Figure size 432x288 with 2 Axes>"
      ]
     },
     "metadata": {
      "needs_background": "light"
     },
     "output_type": "display_data"
    }
   ],
   "source": [
    "from sklearn.metrics import f1_score, classification_report, accuracy_score \n",
    "from sklearn.metrics import RocCurveDisplay, plot_roc_curve, plot_precision_recall_curve, plot_confusion_matrix\n",
    "from sklearn import metrics\n",
    "\n",
    "print('Confusion Matrix')\n",
    "# plot_confusion_matrix(clf, X_test, y_test)\n",
    "\n",
    "\n",
    "cm = metrics.confusion_matrix(y_test_labels, test_pred, labels=nb.classes_)\n",
    "disp = metrics.ConfusionMatrixDisplay(confusion_matrix=cm,\n",
    "                               display_labels=nb.classes_)\n",
    "disp.plot()\n",
    "plt.show()"
   ]
  },
  {
   "cell_type": "code",
   "execution_count": 27,
   "id": "09b88ebb-9947-4cdd-a0c4-494cc8684af4",
   "metadata": {},
   "outputs": [
    {
     "name": "stdout",
     "output_type": "stream",
     "text": [
      "              precision    recall  f1-score   support\n",
      "\n",
      "           0       0.75      0.21      0.33       214\n",
      "           1       0.61      0.26      0.36       278\n",
      "           2       0.44      0.62      0.52       721\n",
      "           3       0.51      0.50      0.51       830\n",
      "           4       0.52      0.55      0.53       788\n",
      "\n",
      "    accuracy                           0.50      2831\n",
      "   macro avg       0.57      0.43      0.45      2831\n",
      "weighted avg       0.52      0.50      0.49      2831\n",
      "\n"
     ]
    }
   ],
   "source": [
    "print(classification_report(y_test_labels, test_pred))"
   ]
  },
  {
   "cell_type": "markdown",
   "id": "07c25094-9484-4869-9310-92088993fa54",
   "metadata": {},
   "source": [
    "## Original Naive Attempt using full documents"
   ]
  },
  {
   "cell_type": "code",
   "execution_count": 28,
   "id": "6a9529ec-f89a-4609-ad53-028fae6a0d72",
   "metadata": {},
   "outputs": [],
   "source": [
    "df_processed =  pp.preprocess_all(df, 'documents')"
   ]
  },
  {
   "cell_type": "code",
   "execution_count": 29,
   "id": "b7cbd8ba-2de0-42b6-8530-f6bb5fdfc876",
   "metadata": {},
   "outputs": [],
   "source": [
    "data = df_processed[['Lemmatized','cefr_level']]"
   ]
  },
  {
   "cell_type": "code",
   "execution_count": 30,
   "id": "e17ba713-bd48-4c11-bf4b-d0e23f74991f",
   "metadata": {},
   "outputs": [
    {
     "data": {
      "text/html": [
       "<div>\n",
       "<style scoped>\n",
       "    .dataframe tbody tr th:only-of-type {\n",
       "        vertical-align: middle;\n",
       "    }\n",
       "\n",
       "    .dataframe tbody tr th {\n",
       "        vertical-align: top;\n",
       "    }\n",
       "\n",
       "    .dataframe thead th {\n",
       "        text-align: right;\n",
       "    }\n",
       "</style>\n",
       "<table border=\"1\" class=\"dataframe\">\n",
       "  <thead>\n",
       "    <tr style=\"text-align: right;\">\n",
       "      <th></th>\n",
       "      <th>Lemmatized</th>\n",
       "      <th>cefr_level</th>\n",
       "    </tr>\n",
       "  </thead>\n",
       "  <tbody>\n",
       "    <tr>\n",
       "      <th>0</th>\n",
       "      <td>many people seen otter animal live near river ...</td>\n",
       "      <td>A2</td>\n",
       "    </tr>\n",
       "    <tr>\n",
       "      <th>1</th>\n",
       "      <td>dear sir read advertisement english course new...</td>\n",
       "      <td>A2</td>\n",
       "    </tr>\n",
       "    <tr>\n",
       "      <th>2</th>\n",
       "      <td>bicycle cheap clean way travel first bicycle m...</td>\n",
       "      <td>A2</td>\n",
       "    </tr>\n",
       "    <tr>\n",
       "      <th>3</th>\n",
       "      <td>bill farmer teacher dentist became writer book...</td>\n",
       "      <td>A2</td>\n",
       "    </tr>\n",
       "    <tr>\n",
       "      <th>4</th>\n",
       "      <td>esther left school age sixteen aunt flory gave...</td>\n",
       "      <td>A2</td>\n",
       "    </tr>\n",
       "  </tbody>\n",
       "</table>\n",
       "</div>"
      ],
      "text/plain": [
       "                                          Lemmatized cefr_level\n",
       "0  many people seen otter animal live near river ...         A2\n",
       "1  dear sir read advertisement english course new...         A2\n",
       "2  bicycle cheap clean way travel first bicycle m...         A2\n",
       "3  bill farmer teacher dentist became writer book...         A2\n",
       "4  esther left school age sixteen aunt flory gave...         A2"
      ]
     },
     "execution_count": 30,
     "metadata": {},
     "output_type": "execute_result"
    }
   ],
   "source": [
    "data.head()"
   ]
  },
  {
   "cell_type": "code",
   "execution_count": 31,
   "id": "9baf4fb0-7016-42ee-9e8c-046d2e01f547",
   "metadata": {},
   "outputs": [],
   "source": [
    "documents = data.Lemmatized\n",
    "target = data.cefr_level\n",
    "\n",
    "from sklearn.model_selection import train_test_split\n",
    "\n",
    "X_train, X_test, y_train, y_test = train_test_split(documents, target, test_size=0.3, random_state=29 )"
   ]
  },
  {
   "cell_type": "code",
   "execution_count": 33,
   "id": "608cedf0-56de-456c-a896-19c59ebe97af",
   "metadata": {},
   "outputs": [
    {
     "name": "stdout",
     "output_type": "stream",
     "text": [
      "Training Acc.:  0.982532751091703\n",
      "Valid Acc.:  0.3434343434343434\n"
     ]
    }
   ],
   "source": [
    "from sklearn.pipeline import make_pipeline\n",
    "from sklearn.naive_bayes import MultinomialNB\n",
    "\n",
    "pipe_nb = make_pipeline(CountVectorizer(), MultinomialNB())\n",
    "pipe_nb.fit(X_train, y_train)\n",
    "print(\"Training Acc.: \", pipe_nb.score(X_train,y_train))\n",
    "print(\"Valid Acc.: \", pipe_nb.score(X_test,y_test))"
   ]
  },
  {
   "cell_type": "code",
   "execution_count": 34,
   "id": "579049bd-83e6-43af-bf43-33f665e1517d",
   "metadata": {},
   "outputs": [],
   "source": [
    "test_pred = pipe_nb.predict(X_test)"
   ]
  },
  {
   "cell_type": "code",
   "execution_count": 35,
   "id": "133c8f84-572c-407d-ab20-72193cfb96a2",
   "metadata": {},
   "outputs": [
    {
     "name": "stdout",
     "output_type": "stream",
     "text": [
      "Confusion Matrix\n"
     ]
    },
    {
     "data": {
      "image/png": "[encoded data removed]",
      "text/plain": [
       "<Figure size 432x288 with 2 Axes>"
      ]
     },
     "metadata": {
      "needs_background": "light"
     },
     "output_type": "display_data"
    }
   ],
   "source": [
    "print('Confusion Matrix')\n",
    "\n",
    "cm = metrics.confusion_matrix(y_test, test_pred, labels=pipe_nb.classes_)\n",
    "disp = metrics.ConfusionMatrixDisplay(confusion_matrix=cm,\n",
    "                               display_labels=pipe_nb.classes_)\n",
    "disp.plot()\n",
    "plt.show()"
   ]
  },
  {
   "cell_type": "code",
   "execution_count": 37,
   "id": "0c9c7bb4-6a15-4cec-8ae0-a10cd0826367",
   "metadata": {},
   "outputs": [
    {
     "name": "stdout",
     "output_type": "stream",
     "text": [
      "              precision    recall  f1-score   support\n",
      "\n",
      "          A2       1.00      0.04      0.08        25\n",
      "          B1       0.25      0.06      0.10        16\n",
      "          B2       0.25      0.62      0.36        21\n",
      "          C1       0.32      0.38      0.34        16\n",
      "          C2       0.57      0.62      0.59        21\n",
      "\n",
      "    accuracy                           0.34        99\n",
      "   macro avg       0.48      0.34      0.29        99\n",
      "weighted avg       0.52      0.34      0.29        99\n",
      "\n"
     ]
    }
   ],
   "source": [
    "print(classification_report(y_test, test_pred))"
   ]
  },
  {
   "cell_type": "markdown",
   "id": "faf21d46-1e88-44a0-9c47-2f9b42b10ffd",
   "metadata": {},
   "source": [
    "#### Take a look at the confusion matrix for the training data to see the overfitting"
   ]
  },
  {
   "cell_type": "code",
   "execution_count": 38,
   "id": "2eba7d8f-081f-4389-a947-3a3402a9f1b4",
   "metadata": {},
   "outputs": [],
   "source": [
    "train_pred = pipe_nb.predict(X_train)"
   ]
  },
  {
   "cell_type": "markdown",
   "id": "f9d671fc-e269-4f9b-8be5-a0af77892034",
   "metadata": {},
   "source": [
    "cm = metrics.confusion_matrix(y_train, train_pred, labels=pipe_nb.classes_)\n",
    "disp = metrics.ConfusionMatrixDisplay(confusion_matrix=cm,\n",
    "                               display_labels=pipe_nb.classes_)\n",
    "disp.plot()\n",
    "plt.show()"
   ]
  },
  {
   "cell_type": "markdown",
   "id": "ac268351-4b52-48f5-9cdb-cd8d6ace8c2a",
   "metadata": {},
   "source": [
    "### Three Book Excerpts for testing"
   ]
  },
  {
   "cell_type": "code",
   "execution_count": 41,
   "id": "0d86b441-ecb1-4bba-9d92-902472713dad",
   "metadata": {},
   "outputs": [],
   "source": [
    "# Twighlight Excerpt\n",
    "twilight = \"Tyler, trying to win back her attention, asked Lauren's opinion on a CD he held. She was distracted. I stared at the \\\n",
    "deep-voiced boy, taken aback, but he was looking away toward the dark forest behind us. He'd said that the Cullens didn't come here, \\\n",
    "but his tone had implied something more—that they weren't allowed; they were prohibited. His manner left a strange impression on me, \\\n",
    "and I tried toignore it without success.\""
   ]
  },
  {
   "cell_type": "code",
   "execution_count": 42,
   "id": "4426526d-e09b-4223-8ce2-17e1ca453f44",
   "metadata": {},
   "outputs": [],
   "source": [
    "# Great Gatsby Excerpt\n",
    "gg = \"He smiled understandingly-much more than understandingly. It was one of those rare smiles with a quality of eternal reassurance \\\n",
    "in it, that you may come across four or five times in life. It faced--or seemed to face--the whole eternal world for an instant, and \\\n",
    "then concentrated on you with an irresistible prejudice in your favor. It understood you just as far as you wanted to be understood, \\\n",
    "believed in you as you would like to believe in yourself, and assured you that it had precisely the impression of you that, at your \\\n",
    "best, you hoped to convey\""
   ]
  },
  {
   "cell_type": "code",
   "execution_count": 43,
   "id": "ea15b9a6-6da3-4dbe-afd8-f4bc92fd5ac9",
   "metadata": {},
   "outputs": [],
   "source": [
    "# Charlie and the Chocolate Factory Exerpt\n",
    "cc = \"Mr Willy Wonka can make marshmallows that taste of violets, and rich caramels that change colour every ten seconds as you suck \\\n",
    "them, and little feathery sweets that melt away deliciously the moment you put them between your lips. He can make chewing-gum that \\\n",
    "never loses its taste, and sugar balloons that you can blow up to enormous sizes before you pop them with a pin and gobble them up. \\\n",
    "And, by a most secret method, he can make lovely blue birds' eggs with black spots on them, and when you put one of these in your \\\n",
    "mouth, it gradually gets smaller and smaller until suddenly there is nothing left except a tiny little DARKRED sugary baby bird \\\n",
    "sitting on the tip of your tongue.\""
   ]
  },
  {
   "cell_type": "markdown",
   "id": "e053df94-5ced-4fc8-bd7e-6a971348a910",
   "metadata": {},
   "source": [
    "Process each excerpt in the same way as the original data"
   ]
  },
  {
   "cell_type": "code",
   "execution_count": 45,
   "id": "fce2fe7a-0409-4496-bb45-ef1123195ea5",
   "metadata": {},
   "outputs": [],
   "source": [
    "cc_cleaned= pp.remove_stopwords(pp.to_lower(pp.remove_punct(cc)))\n",
    "charlie_test = pp.lemmatization(cc_cleaned)"
   ]
  },
  {
   "cell_type": "code",
   "execution_count": 46,
   "id": "e7c6f8a9-c1aa-4fdc-9b7b-b54c6691dba6",
   "metadata": {},
   "outputs": [
    {
     "data": {
      "text/plain": [
       "'mr willy wonka make marshmallow taste violet rich caramel change colour every ten second suck little feathery sweet melt away deliciously moment put lip make chewing gum never loses taste sugar balloon blow enormous size pop pin gobble secret method make lovely blue bird egg black spot put one mouth gradually get smaller smaller suddenly nothing left except tiny little darkred sugary baby bird sitting tip tongue'"
      ]
     },
     "execution_count": 46,
     "metadata": {},
     "output_type": "execute_result"
    }
   ],
   "source": [
    "charlie_test"
   ]
  },
  {
   "cell_type": "code",
   "execution_count": 47,
   "id": "56afcc46-18f3-41e4-b718-e61a8446621b",
   "metadata": {},
   "outputs": [],
   "source": [
    "gg_cleaned= pp.remove_stopwords(pp.to_lower(pp.remove_punct(gg)))\n",
    "gatsby_test = pp.lemmatization(gg_cleaned)"
   ]
  },
  {
   "cell_type": "code",
   "execution_count": 48,
   "id": "eaa2bb95-7972-4c13-82ac-c5e21518d4b8",
   "metadata": {},
   "outputs": [],
   "source": [
    "twil_cleaned= pp.remove_stopwords(pp.to_lower(pp.remove_punct(twilight)))\n",
    "twilight_test = pp.lemmatization(twil_cleaned)"
   ]
  },
  {
   "cell_type": "code",
   "execution_count": 49,
   "id": "d2fd6c80-3ae5-4125-9722-3f6cc779c975",
   "metadata": {},
   "outputs": [
    {
     "name": "stdout",
     "output_type": "stream",
     "text": [
      "['B2']\n",
      "['C2']\n",
      "['B2']\n"
     ]
    }
   ],
   "source": [
    "# Predict the three test points\n",
    "print(pipe_nb.predict([charlie_test]))\n",
    "print(pipe_nb.predict([gatsby_test]))\n",
    "print(pipe_nb.predict([twilight_test]))"
   ]
  },
  {
   "cell_type": "markdown",
   "id": "6d917e5c-a1c1-46ec-88b5-1907095b7343",
   "metadata": {},
   "source": [
    "#### One versus the Rest experiment with vectorized data"
   ]
  },
  {
   "cell_type": "code",
   "execution_count": 53,
   "id": "ae4d2c98-2519-4ba2-908e-659a72bd661d",
   "metadata": {},
   "outputs": [
    {
     "name": "stdout",
     "output_type": "stream",
     "text": [
      "Training Acc.:  1.0\n",
      "Valid Acc.:  0.5353535353535354\n"
     ]
    }
   ],
   "source": [
    "from sklearn.multiclass import OneVsRestClassifier\n",
    "from sklearn.linear_model import LogisticRegression\n",
    "\n",
    "pipe_nb = make_pipeline(CountVectorizer(), OneVsRestClassifier(LogisticRegression(max_iter=1000)))\n",
    "pipe_nb.fit(X_train, y_train)\n",
    "print(\"Training Acc.: \", pipe_nb.score(X_train, y_train))\n",
    "print(\"Valid Acc.: \", pipe_nb.score(X_test, y_test))"
   ]
  },
  {
   "cell_type": "code",
   "execution_count": 55,
   "id": "9539cf20-b73d-4711-a394-3f5e6b64ece0",
   "metadata": {},
   "outputs": [],
   "source": [
    "test_pred = pipe_nb.predict(X_test)"
   ]
  },
  {
   "cell_type": "code",
   "execution_count": 56,
   "id": "3b0438c5-83a6-416a-a940-6d56bd0b5f83",
   "metadata": {},
   "outputs": [
    {
     "name": "stdout",
     "output_type": "stream",
     "text": [
      "Confusion Matrix\n"
     ]
    },
    {
     "data": {
      "image/png": "[encoded data removed]",
      "text/plain": [
       "<Figure size 432x288 with 2 Axes>"
      ]
     },
     "metadata": {
      "needs_background": "light"
     },
     "output_type": "display_data"
    }
   ],
   "source": [
    "print('Confusion Matrix')\n",
    "\n",
    "cm = metrics.confusion_matrix(y_test, test_pred, labels=pipe_nb.classes_)\n",
    "disp = metrics.ConfusionMatrixDisplay(confusion_matrix=cm,\n",
    "                               display_labels=pipe_nb.classes_)\n",
    "disp.plot()\n",
    "plt.show()"
   ]
  }
 ],
 "metadata": {
  "kernelspec": {
   "display_name": "Python 3 (ipykernel)",
   "language": "python",
   "name": "python3"
  },
  "language_info": {
   "codemirror_mode": {
    "name": "ipython",
    "version": 3
   },
   "file_extension": ".py",
   "mimetype": "text/x-python",
   "name": "python",
   "nbconvert_exporter": "python",
   "pygments_lexer": "ipython3",
   "version": "3.8.8"
  }
 },
 "nbformat": 4,
 "nbformat_minor": 5
}
