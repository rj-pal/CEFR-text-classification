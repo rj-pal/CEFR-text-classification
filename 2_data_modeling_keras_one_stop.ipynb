{
 "cells": [
  {
   "cell_type": "markdown",
   "id": "e68b80f7",
   "metadata": {
    "colab_type": "text",
    "id": "view-in-github"
   },
   "source": [
    "<a href=\"https://colab.research.google.com/github/rj-pal/CEFR-text-classification/blob/main/2_data_modeling_keras_one_stop.ipynb\" target=\"_parent\"><img src=\"https://colab.research.google.com/assets/colab-badge.svg\" alt=\"Open In Colab\"/></a>"
   ]
  },
  {
   "cell_type": "code",
   "execution_count": null,
   "id": "FoDMNdvg5lHC",
   "metadata": {
    "colab": {
     "base_uri": "https://localhost:8080/"
    },
    "id": "FoDMNdvg5lHC",
    "outputId": "3bdef94c-cb6f-4e29-fac4-0856a20dd449"
   },
   "outputs": [
    {
     "name": "stdout",
     "output_type": "stream",
     "text": [
      "Mounted at /content/drive\n"
     ]
    }
   ],
   "source": [
    "from google.colab import drive\n",
    "drive.mount('/content/drive')"
   ]
  },
  {
   "cell_type": "code",
   "execution_count": null,
   "id": "ZHnnUXBwo4pt",
   "metadata": {
    "colab": {
     "base_uri": "https://localhost:8080/"
    },
    "id": "ZHnnUXBwo4pt",
    "outputId": "61b07ac3-4bb1-49c6-b7ba-50a28766e895"
   },
   "outputs": [
    {
     "name": "stdout",
     "output_type": "stream",
     "text": [
      "Wed Mar  2 14:06:19 2022       \n",
      "+-----------------------------------------------------------------------------+\n",
      "| NVIDIA-SMI 460.32.03    Driver Version: 460.32.03    CUDA Version: 11.2     |\n",
      "|-------------------------------+----------------------+----------------------+\n",
      "| GPU  Name        Persistence-M| Bus-Id        Disp.A | Volatile Uncorr. ECC |\n",
      "| Fan  Temp  Perf  Pwr:Usage/Cap|         Memory-Usage | GPU-Util  Compute M. |\n",
      "|                               |                      |               MIG M. |\n",
      "|===============================+======================+======================|\n",
      "|   0  Tesla P100-PCIE...  Off  | 00000000:00:04.0 Off |                    0 |\n",
      "| N/A   35C    P0    27W / 250W |      0MiB / 16280MiB |      0%      Default |\n",
      "|                               |                      |                  N/A |\n",
      "+-------------------------------+----------------------+----------------------+\n",
      "                                                                               \n",
      "+-----------------------------------------------------------------------------+\n",
      "| Processes:                                                                  |\n",
      "|  GPU   GI   CI        PID   Type   Process name                  GPU Memory |\n",
      "|        ID   ID                                                   Usage      |\n",
      "|=============================================================================|\n",
      "|  No running processes found                                                 |\n",
      "+-----------------------------------------------------------------------------+\n"
     ]
    }
   ],
   "source": [
    "gpu_info = !nvidia-smi\n",
    "gpu_info = '\\n'.join(gpu_info)\n",
    "if gpu_info.find('failed') >= 0:\n",
    "  print('Not connected to a GPU')\n",
    "else:\n",
    "  print(gpu_info)"
   ]
  },
  {
   "cell_type": "code",
   "execution_count": null,
   "id": "-2wV_WKQ6IWp",
   "metadata": {
    "id": "-2wV_WKQ6IWp"
   },
   "outputs": [],
   "source": [
    "# !cp /content/drive/My\\ Drive/data/English/preprocessing_nlp.py"
   ]
  },
  {
   "cell_type": "code",
   "execution_count": null,
   "id": "HG-fEG707ltw",
   "metadata": {
    "id": "HG-fEG707ltw"
   },
   "outputs": [],
   "source": [
    "import sys\n",
    "sys.path.append('drive/MyDrive/data/English')"
   ]
  },
  {
   "cell_type": "code",
   "execution_count": null,
   "id": "L88MMhyB5sqV",
   "metadata": {
    "colab": {
     "base_uri": "https://localhost:8080/"
    },
    "id": "L88MMhyB5sqV",
    "outputId": "c9df573a-0daa-4494-934c-5be497f5e5e8"
   },
   "outputs": [
    {
     "name": "stdout",
     "output_type": "stream",
     "text": [
      "[nltk_data] Downloading package stopwords to /root/nltk_data...\n",
      "[nltk_data]   Unzipping corpora/stopwords.zip.\n",
      "[nltk_data] Downloading package punkt to /root/nltk_data...\n",
      "[nltk_data]   Unzipping tokenizers/punkt.zip.\n",
      "[nltk_data] Downloading package wordnet to /root/nltk_data...\n",
      "[nltk_data]   Unzipping corpora/wordnet.zip.\n"
     ]
    }
   ],
   "source": [
    "# !pip install -r requirements.txt\n",
    "import pandas as pd\n",
    "import numpy as np\n",
    "import matplotlib.pyplot as plt\n",
    "\n",
    "import nltk\n",
    "nltk.download('stopwords')\n",
    "nltk.download('punkt')\n",
    "nltk.download('wordnet')\n",
    "\n",
    "import preprocessing_nlp as pp\n",
    "# import cleaning_nlp as cc"
   ]
  },
  {
   "cell_type": "code",
   "execution_count": null,
   "id": "H1evx7h6Ydl5",
   "metadata": {
    "id": "H1evx7h6Ydl5"
   },
   "outputs": [],
   "source": [
    "url_train = 'https://raw.githubusercontent.com/rj-pal/CEFR-text-classification/main/data/one_stop_train.csv'\n",
    "url_test = 'https://raw.githubusercontent.com/rj-pal/CEFR-text-classification/main/data/one_stop_test.csv'\n",
    "df_train = pd.read_csv(url_train)\n",
    "df_test = pd.read_csv(url_test)\n"
   ]
  },
  {
   "cell_type": "code",
   "execution_count": null,
   "id": "V6sF8jt65mOg",
   "metadata": {
    "colab": {
     "base_uri": "https://localhost:8080/",
     "height": 641
    },
    "id": "V6sF8jt65mOg",
    "outputId": "232523e3-399c-4c55-c5b8-9b67eb2790c3"
   },
   "outputs": [
    {
     "data": {
      "text/html": [
       "\n",
       "  <div id=\"df-1d9c880a-0d8d-48c0-8b0b-a9e30f9f78a6\">\n",
       "    <div class=\"colab-df-container\">\n",
       "      <div>\n",
       "<style scoped>\n",
       "    .dataframe tbody tr th:only-of-type {\n",
       "        vertical-align: middle;\n",
       "    }\n",
       "\n",
       "    .dataframe tbody tr th {\n",
       "        vertical-align: top;\n",
       "    }\n",
       "\n",
       "    .dataframe thead th {\n",
       "        text-align: right;\n",
       "    }\n",
       "</style>\n",
       "<table border=\"1\" class=\"dataframe\">\n",
       "  <thead>\n",
       "    <tr style=\"text-align: right;\">\n",
       "      <th></th>\n",
       "      <th>index</th>\n",
       "      <th>documents</th>\n",
       "      <th>doc_list</th>\n",
       "      <th>avg_num_words</th>\n",
       "      <th>total_num_sents</th>\n",
       "      <th>total_num_words</th>\n",
       "      <th>words_per_sents</th>\n",
       "      <th>level</th>\n",
       "      <th>doc_id</th>\n",
       "    </tr>\n",
       "  </thead>\n",
       "  <tbody>\n",
       "    <tr>\n",
       "      <th>0</th>\n",
       "      <td>0</td>\n",
       "      <td>SeaWorld's profits fell by 84% and customers a...</td>\n",
       "      <td>['SeaWorld’s profits fell by 84% and customers...</td>\n",
       "      <td>25.00</td>\n",
       "      <td>1</td>\n",
       "      <td>25</td>\n",
       "      <td>[25]</td>\n",
       "      <td>Ele</td>\n",
       "      <td>0</td>\n",
       "    </tr>\n",
       "    <tr>\n",
       "      <th>1</th>\n",
       "      <td>1</td>\n",
       "      <td>The company teaches dolphins and killer whales...</td>\n",
       "      <td>['The company teaches dolphins and killer whal...</td>\n",
       "      <td>17.00</td>\n",
       "      <td>1</td>\n",
       "      <td>17</td>\n",
       "      <td>[17]</td>\n",
       "      <td>Ele</td>\n",
       "      <td>0</td>\n",
       "    </tr>\n",
       "    <tr>\n",
       "      <th>2</th>\n",
       "      <td>2</td>\n",
       "      <td>It says fewer people are going to its parks an...</td>\n",
       "      <td>['It says fewer people are going to its parks ...</td>\n",
       "      <td>13.00</td>\n",
       "      <td>1</td>\n",
       "      <td>13</td>\n",
       "      <td>[13]</td>\n",
       "      <td>Ele</td>\n",
       "      <td>0</td>\n",
       "    </tr>\n",
       "    <tr>\n",
       "      <th>3</th>\n",
       "      <td>3</td>\n",
       "      <td>SeaWorld has been in the news since the 2013 d...</td>\n",
       "      <td>['SeaWorld has been in the news since the 2013...</td>\n",
       "      <td>33.00</td>\n",
       "      <td>1</td>\n",
       "      <td>33</td>\n",
       "      <td>[33]</td>\n",
       "      <td>Ele</td>\n",
       "      <td>0</td>\n",
       "    </tr>\n",
       "    <tr>\n",
       "      <th>4</th>\n",
       "      <td>4</td>\n",
       "      <td>Animal rights organizations say that orcas kep...</td>\n",
       "      <td>['Animal rights organizations say that orcas k...</td>\n",
       "      <td>14.00</td>\n",
       "      <td>2</td>\n",
       "      <td>28</td>\n",
       "      <td>[17, 11]</td>\n",
       "      <td>Ele</td>\n",
       "      <td>0</td>\n",
       "    </tr>\n",
       "    <tr>\n",
       "      <th>...</th>\n",
       "      <td>...</td>\n",
       "      <td>...</td>\n",
       "      <td>...</td>\n",
       "      <td>...</td>\n",
       "      <td>...</td>\n",
       "      <td>...</td>\n",
       "      <td>...</td>\n",
       "      <td>...</td>\n",
       "      <td>...</td>\n",
       "    </tr>\n",
       "    <tr>\n",
       "      <th>6545</th>\n",
       "      <td>7390</td>\n",
       "      <td>One major problem is complicity between senior...</td>\n",
       "      <td>['One major problem is complicity between seni...</td>\n",
       "      <td>26.00</td>\n",
       "      <td>3</td>\n",
       "      <td>78</td>\n",
       "      <td>[15, 32, 31]</td>\n",
       "      <td>Adv</td>\n",
       "      <td>566</td>\n",
       "    </tr>\n",
       "    <tr>\n",
       "      <th>6546</th>\n",
       "      <td>7391</td>\n",
       "      <td>As the number of tigers has increased over the...</td>\n",
       "      <td>['As the number of tigers has increased over t...</td>\n",
       "      <td>19.25</td>\n",
       "      <td>4</td>\n",
       "      <td>77</td>\n",
       "      <td>[17, 21, 14, 25]</td>\n",
       "      <td>Adv</td>\n",
       "      <td>566</td>\n",
       "    </tr>\n",
       "    <tr>\n",
       "      <th>6547</th>\n",
       "      <td>7392</td>\n",
       "      <td>Wildlife authorities captured a tiger in Chitw...</td>\n",
       "      <td>['Wildlife authorities captured a tiger in Chi...</td>\n",
       "      <td>19.00</td>\n",
       "      <td>4</td>\n",
       "      <td>76</td>\n",
       "      <td>[23, 12, 14, 27]</td>\n",
       "      <td>Adv</td>\n",
       "      <td>566</td>\n",
       "    </tr>\n",
       "    <tr>\n",
       "      <th>6548</th>\n",
       "      <td>7393</td>\n",
       "      <td>Diwakar Chapagain, who heads a World Wildlife ...</td>\n",
       "      <td>['Diwakar Chapagain, who heads a World Wildlif...</td>\n",
       "      <td>30.00</td>\n",
       "      <td>1</td>\n",
       "      <td>30</td>\n",
       "      <td>[30]</td>\n",
       "      <td>Adv</td>\n",
       "      <td>566</td>\n",
       "    </tr>\n",
       "    <tr>\n",
       "      <th>6549</th>\n",
       "      <td>7394</td>\n",
       "      <td>In Nepal, kings used to stand on tiger skins i...</td>\n",
       "      <td>['In Nepal, kings used to stand on tiger skins...</td>\n",
       "      <td>21.67</td>\n",
       "      <td>3</td>\n",
       "      <td>65</td>\n",
       "      <td>[17, 14, 34]</td>\n",
       "      <td>Adv</td>\n",
       "      <td>566</td>\n",
       "    </tr>\n",
       "  </tbody>\n",
       "</table>\n",
       "<p>6550 rows × 9 columns</p>\n",
       "</div>\n",
       "      <button class=\"colab-df-convert\" onclick=\"convertToInteractive('df-1d9c880a-0d8d-48c0-8b0b-a9e30f9f78a6')\"\n",
       "              title=\"Convert this dataframe to an interactive table.\"\n",
       "              style=\"display:none;\">\n",
       "        \n",
       "  <svg xmlns=\"http://www.w3.org/2000/svg\" height=\"24px\"viewBox=\"0 0 24 24\"\n",
       "       width=\"24px\">\n",
       "    <path d=\"M0 0h24v24H0V0z\" fill=\"none\"/>\n",
       "    <path d=\"M18.56 5.44l.94 2.06.94-2.06 2.06-.94-2.06-.94-.94-2.06-.94 2.06-2.06.94zm-11 1L8.5 8.5l.94-2.06 2.06-.94-2.06-.94L8.5 2.5l-.94 2.06-2.06.94zm10 10l.94 2.06.94-2.06 2.06-.94-2.06-.94-.94-2.06-.94 2.06-2.06.94z\"/><path d=\"M17.41 7.96l-1.37-1.37c-.4-.4-.92-.59-1.43-.59-.52 0-1.04.2-1.43.59L10.3 9.45l-7.72 7.72c-.78.78-.78 2.05 0 2.83L4 21.41c.39.39.9.59 1.41.59.51 0 1.02-.2 1.41-.59l7.78-7.78 2.81-2.81c.8-.78.8-2.07 0-2.86zM5.41 20L4 18.59l7.72-7.72 1.47 1.35L5.41 20z\"/>\n",
       "  </svg>\n",
       "      </button>\n",
       "      \n",
       "  <style>\n",
       "    .colab-df-container {\n",
       "      display:flex;\n",
       "      flex-wrap:wrap;\n",
       "      gap: 12px;\n",
       "    }\n",
       "\n",
       "    .colab-df-convert {\n",
       "      background-color: #E8F0FE;\n",
       "      border: none;\n",
       "      border-radius: 50%;\n",
       "      cursor: pointer;\n",
       "      display: none;\n",
       "      fill: #1967D2;\n",
       "      height: 32px;\n",
       "      padding: 0 0 0 0;\n",
       "      width: 32px;\n",
       "    }\n",
       "\n",
       "    .colab-df-convert:hover {\n",
       "      background-color: #E2EBFA;\n",
       "      box-shadow: 0px 1px 2px rgba(60, 64, 67, 0.3), 0px 1px 3px 1px rgba(60, 64, 67, 0.15);\n",
       "      fill: #174EA6;\n",
       "    }\n",
       "\n",
       "    [theme=dark] .colab-df-convert {\n",
       "      background-color: #3B4455;\n",
       "      fill: #D2E3FC;\n",
       "    }\n",
       "\n",
       "    [theme=dark] .colab-df-convert:hover {\n",
       "      background-color: #434B5C;\n",
       "      box-shadow: 0px 1px 3px 1px rgba(0, 0, 0, 0.15);\n",
       "      filter: drop-shadow(0px 1px 2px rgba(0, 0, 0, 0.3));\n",
       "      fill: #FFFFFF;\n",
       "    }\n",
       "  </style>\n",
       "\n",
       "      <script>\n",
       "        const buttonEl =\n",
       "          document.querySelector('#df-1d9c880a-0d8d-48c0-8b0b-a9e30f9f78a6 button.colab-df-convert');\n",
       "        buttonEl.style.display =\n",
       "          google.colab.kernel.accessAllowed ? 'block' : 'none';\n",
       "\n",
       "        async function convertToInteractive(key) {\n",
       "          const element = document.querySelector('#df-1d9c880a-0d8d-48c0-8b0b-a9e30f9f78a6');\n",
       "          const dataTable =\n",
       "            await google.colab.kernel.invokeFunction('convertToInteractive',\n",
       "                                                     [key], {});\n",
       "          if (!dataTable) return;\n",
       "\n",
       "          const docLinkHtml = 'Like what you see? Visit the ' +\n",
       "            '<a target=\"_blank\" href=https://colab.research.google.com/notebooks/data_table.ipynb>data table notebook</a>'\n",
       "            + ' to learn more about interactive tables.';\n",
       "          element.innerHTML = '';\n",
       "          dataTable['output_type'] = 'display_data';\n",
       "          await google.colab.output.renderOutput(dataTable, element);\n",
       "          const docLink = document.createElement('div');\n",
       "          docLink.innerHTML = docLinkHtml;\n",
       "          element.appendChild(docLink);\n",
       "        }\n",
       "      </script>\n",
       "    </div>\n",
       "  </div>\n",
       "  "
      ],
      "text/plain": [
       "      index                                          documents  ... level  doc_id\n",
       "0         0  SeaWorld's profits fell by 84% and customers a...  ...   Ele       0\n",
       "1         1  The company teaches dolphins and killer whales...  ...   Ele       0\n",
       "2         2  It says fewer people are going to its parks an...  ...   Ele       0\n",
       "3         3  SeaWorld has been in the news since the 2013 d...  ...   Ele       0\n",
       "4         4  Animal rights organizations say that orcas kep...  ...   Ele       0\n",
       "...     ...                                                ...  ...   ...     ...\n",
       "6545   7390  One major problem is complicity between senior...  ...   Adv     566\n",
       "6546   7391  As the number of tigers has increased over the...  ...   Adv     566\n",
       "6547   7392  Wildlife authorities captured a tiger in Chitw...  ...   Adv     566\n",
       "6548   7393  Diwakar Chapagain, who heads a World Wildlife ...  ...   Adv     566\n",
       "6549   7394  In Nepal, kings used to stand on tiger skins i...  ...   Adv     566\n",
       "\n",
       "[6550 rows x 9 columns]"
      ]
     },
     "execution_count": 8,
     "metadata": {},
     "output_type": "execute_result"
    }
   ],
   "source": [
    "df_train"
   ]
  },
  {
   "cell_type": "code",
   "execution_count": null,
   "id": "vYeU3yaVZu5D",
   "metadata": {
    "id": "vYeU3yaVZu5D"
   },
   "outputs": [],
   "source": [
    "d_train = df_train[['documents', 'level']]\n",
    "d_test = df_test[['documents', 'level']]"
   ]
  },
  {
   "cell_type": "code",
   "execution_count": null,
   "id": "xpsaWX9UZuk2",
   "metadata": {
    "colab": {
     "base_uri": "https://localhost:8080/"
    },
    "id": "xpsaWX9UZuk2",
    "outputId": "d351e67d-5418-4e5a-cf07-58123c113834"
   },
   "outputs": [
    {
     "data": {
      "text/plain": [
       "((6550, 2), (845, 2))"
      ]
     },
     "execution_count": 10,
     "metadata": {},
     "output_type": "execute_result"
    }
   ],
   "source": [
    "d_train.shape, d_test.shape"
   ]
  },
  {
   "cell_type": "code",
   "execution_count": null,
   "id": "cbe98124-2d3e-4bd7-aa59-cdba45caed66",
   "metadata": {
    "id": "cbe98124-2d3e-4bd7-aa59-cdba45caed66"
   },
   "outputs": [],
   "source": [
    "sentence_data_train = pp.get_sentences_dataframe(d_train, 'documents', 'level')\n",
    "sentence_data_test = pp.get_sentences_dataframe(d_test, 'documents', 'level')"
   ]
  },
  {
   "cell_type": "code",
   "execution_count": null,
   "id": "d039fbd7-fcf7-4b31-a87d-068b05be3bda",
   "metadata": {
    "id": "d039fbd7-fcf7-4b31-a87d-068b05be3bda"
   },
   "outputs": [],
   "source": [
    "df_processed_train = pp.preprocess_all(sentence_data_train, 'documents', stop_words=True)\n",
    "df_processed_test = pp.preprocess_all(sentence_data_test, 'documents', stop_words=True)"
   ]
  },
  {
   "cell_type": "code",
   "execution_count": null,
   "id": "Vt1uoqEBbopl",
   "metadata": {
    "colab": {
     "base_uri": "https://localhost:8080/",
     "height": 641
    },
    "id": "Vt1uoqEBbopl",
    "outputId": "47d1c8cc-cf8a-4290-a645-93d02eae3b6c"
   },
   "outputs": [
    {
     "data": {
      "text/html": [
       "\n",
       "  <div id=\"df-f4843296-eeae-4e26-9976-43911431e9ae\">\n",
       "    <div class=\"colab-df-container\">\n",
       "      <div>\n",
       "<style scoped>\n",
       "    .dataframe tbody tr th:only-of-type {\n",
       "        vertical-align: middle;\n",
       "    }\n",
       "\n",
       "    .dataframe tbody tr th {\n",
       "        vertical-align: top;\n",
       "    }\n",
       "\n",
       "    .dataframe thead th {\n",
       "        text-align: right;\n",
       "    }\n",
       "</style>\n",
       "<table border=\"1\" class=\"dataframe\">\n",
       "  <thead>\n",
       "    <tr style=\"text-align: right;\">\n",
       "      <th></th>\n",
       "      <th>documents</th>\n",
       "      <th>num_of_words</th>\n",
       "      <th>level</th>\n",
       "      <th>doc_id</th>\n",
       "      <th>documents_clean</th>\n",
       "      <th>Lemmatized</th>\n",
       "      <th>Stemmed</th>\n",
       "    </tr>\n",
       "  </thead>\n",
       "  <tbody>\n",
       "    <tr>\n",
       "      <th>0</th>\n",
       "      <td>SeaWorld's profits fell by 84% and customers a...</td>\n",
       "      <td>25</td>\n",
       "      <td>Ele</td>\n",
       "      <td>0</td>\n",
       "      <td>seaworld profits fell customers staying away w...</td>\n",
       "      <td>seaworld profit fell customer staying away wat...</td>\n",
       "      <td>seaworld profit fell custom stay away water th...</td>\n",
       "    </tr>\n",
       "    <tr>\n",
       "      <th>1</th>\n",
       "      <td>The company teaches dolphins and killer whales...</td>\n",
       "      <td>17</td>\n",
       "      <td>Ele</td>\n",
       "      <td>1</td>\n",
       "      <td>company teaches dolphins killer whales tricks ...</td>\n",
       "      <td>company teach dolphin killer whale trick front...</td>\n",
       "      <td>compani teach dolphin killer whale trick front...</td>\n",
       "    </tr>\n",
       "    <tr>\n",
       "      <th>2</th>\n",
       "      <td>It says fewer people are going to its parks an...</td>\n",
       "      <td>13</td>\n",
       "      <td>Ele</td>\n",
       "      <td>2</td>\n",
       "      <td>says fewer people going parks profits reduced</td>\n",
       "      <td>say fewer people going park profit reduced</td>\n",
       "      <td>say fewer peopl go park profit reduc</td>\n",
       "    </tr>\n",
       "    <tr>\n",
       "      <th>3</th>\n",
       "      <td>SeaWorld has been in the news since the 2013 d...</td>\n",
       "      <td>33</td>\n",
       "      <td>Ele</td>\n",
       "      <td>3</td>\n",
       "      <td>seaworld news since thedocumentary film blackf...</td>\n",
       "      <td>seaworld news since thedocumentary film blackf...</td>\n",
       "      <td>seaworld news sinc thedocumentari film blackfi...</td>\n",
       "    </tr>\n",
       "    <tr>\n",
       "      <th>4</th>\n",
       "      <td>Animal rights organizations say that orcas kep...</td>\n",
       "      <td>17</td>\n",
       "      <td>Ele</td>\n",
       "      <td>4</td>\n",
       "      <td>animal rights organizations say orcas kept tan...</td>\n",
       "      <td>animal right organization say orca kept tank d...</td>\n",
       "      <td>anim right organ say orca kept tank die younge...</td>\n",
       "    </tr>\n",
       "    <tr>\n",
       "      <th>...</th>\n",
       "      <td>...</td>\n",
       "      <td>...</td>\n",
       "      <td>...</td>\n",
       "      <td>...</td>\n",
       "      <td>...</td>\n",
       "      <td>...</td>\n",
       "      <td>...</td>\n",
       "    </tr>\n",
       "    <tr>\n",
       "      <th>17718</th>\n",
       "      <td>Chitwan National Park in central Nepal has the...</td>\n",
       "      <td>27</td>\n",
       "      <td>Adv</td>\n",
       "      <td>6547</td>\n",
       "      <td>chitwan national park central nepal highest nu...</td>\n",
       "      <td>chitwan national park central nepal highest nu...</td>\n",
       "      <td>chitwan nation park central nepal highest numb...</td>\n",
       "    </tr>\n",
       "    <tr>\n",
       "      <th>17719</th>\n",
       "      <td>Diwakar Chapagain, who heads a World Wildlife ...</td>\n",
       "      <td>30</td>\n",
       "      <td>Adv</td>\n",
       "      <td>6548</td>\n",
       "      <td>diwakar chapagain heads world wildlife fund ne...</td>\n",
       "      <td>diwakar chapagain head world wildlife fund nep...</td>\n",
       "      <td>diwakar chapagain head world wildlif fund nepa...</td>\n",
       "    </tr>\n",
       "    <tr>\n",
       "      <th>17720</th>\n",
       "      <td>In Nepal, kings used to stand on tiger skins i...</td>\n",
       "      <td>17</td>\n",
       "      <td>Adv</td>\n",
       "      <td>6549</td>\n",
       "      <td>nepal kings used stand tiger skins front stuff...</td>\n",
       "      <td>nepal king used stand tiger skin front stuffed...</td>\n",
       "      <td>nepal king use stand tiger skin front stuf tig...</td>\n",
       "    </tr>\n",
       "    <tr>\n",
       "      <th>17721</th>\n",
       "      <td>Some affluent Nepali have mounted tiger heads ...</td>\n",
       "      <td>14</td>\n",
       "      <td>Adv</td>\n",
       "      <td>6549</td>\n",
       "      <td>affluent nepali mounted tiger heads walls livi...</td>\n",
       "      <td>affluent nepali mounted tiger head wall living...</td>\n",
       "      <td>affluent nepali mount tiger head wall live room</td>\n",
       "    </tr>\n",
       "    <tr>\n",
       "      <th>17722</th>\n",
       "      <td>Tiger bones are in high demand for use in trad...</td>\n",
       "      <td>34</td>\n",
       "      <td>Adv</td>\n",
       "      <td>6549</td>\n",
       "      <td>tiger bones high demand use traditional chines...</td>\n",
       "      <td>tiger bone high demand use traditional chinese...</td>\n",
       "      <td>tiger bone high demand use tradit chines medic...</td>\n",
       "    </tr>\n",
       "  </tbody>\n",
       "</table>\n",
       "<p>17723 rows × 7 columns</p>\n",
       "</div>\n",
       "      <button class=\"colab-df-convert\" onclick=\"convertToInteractive('df-f4843296-eeae-4e26-9976-43911431e9ae')\"\n",
       "              title=\"Convert this dataframe to an interactive table.\"\n",
       "              style=\"display:none;\">\n",
       "        \n",
       "  <svg xmlns=\"http://www.w3.org/2000/svg\" height=\"24px\"viewBox=\"0 0 24 24\"\n",
       "       width=\"24px\">\n",
       "    <path d=\"M0 0h24v24H0V0z\" fill=\"none\"/>\n",
       "    <path d=\"M18.56 5.44l.94 2.06.94-2.06 2.06-.94-2.06-.94-.94-2.06-.94 2.06-2.06.94zm-11 1L8.5 8.5l.94-2.06 2.06-.94-2.06-.94L8.5 2.5l-.94 2.06-2.06.94zm10 10l.94 2.06.94-2.06 2.06-.94-2.06-.94-.94-2.06-.94 2.06-2.06.94z\"/><path d=\"M17.41 7.96l-1.37-1.37c-.4-.4-.92-.59-1.43-.59-.52 0-1.04.2-1.43.59L10.3 9.45l-7.72 7.72c-.78.78-.78 2.05 0 2.83L4 21.41c.39.39.9.59 1.41.59.51 0 1.02-.2 1.41-.59l7.78-7.78 2.81-2.81c.8-.78.8-2.07 0-2.86zM5.41 20L4 18.59l7.72-7.72 1.47 1.35L5.41 20z\"/>\n",
       "  </svg>\n",
       "      </button>\n",
       "      \n",
       "  <style>\n",
       "    .colab-df-container {\n",
       "      display:flex;\n",
       "      flex-wrap:wrap;\n",
       "      gap: 12px;\n",
       "    }\n",
       "\n",
       "    .colab-df-convert {\n",
       "      background-color: #E8F0FE;\n",
       "      border: none;\n",
       "      border-radius: 50%;\n",
       "      cursor: pointer;\n",
       "      display: none;\n",
       "      fill: #1967D2;\n",
       "      height: 32px;\n",
       "      padding: 0 0 0 0;\n",
       "      width: 32px;\n",
       "    }\n",
       "\n",
       "    .colab-df-convert:hover {\n",
       "      background-color: #E2EBFA;\n",
       "      box-shadow: 0px 1px 2px rgba(60, 64, 67, 0.3), 0px 1px 3px 1px rgba(60, 64, 67, 0.15);\n",
       "      fill: #174EA6;\n",
       "    }\n",
       "\n",
       "    [theme=dark] .colab-df-convert {\n",
       "      background-color: #3B4455;\n",
       "      fill: #D2E3FC;\n",
       "    }\n",
       "\n",
       "    [theme=dark] .colab-df-convert:hover {\n",
       "      background-color: #434B5C;\n",
       "      box-shadow: 0px 1px 3px 1px rgba(0, 0, 0, 0.15);\n",
       "      filter: drop-shadow(0px 1px 2px rgba(0, 0, 0, 0.3));\n",
       "      fill: #FFFFFF;\n",
       "    }\n",
       "  </style>\n",
       "\n",
       "      <script>\n",
       "        const buttonEl =\n",
       "          document.querySelector('#df-f4843296-eeae-4e26-9976-43911431e9ae button.colab-df-convert');\n",
       "        buttonEl.style.display =\n",
       "          google.colab.kernel.accessAllowed ? 'block' : 'none';\n",
       "\n",
       "        async function convertToInteractive(key) {\n",
       "          const element = document.querySelector('#df-f4843296-eeae-4e26-9976-43911431e9ae');\n",
       "          const dataTable =\n",
       "            await google.colab.kernel.invokeFunction('convertToInteractive',\n",
       "                                                     [key], {});\n",
       "          if (!dataTable) return;\n",
       "\n",
       "          const docLinkHtml = 'Like what you see? Visit the ' +\n",
       "            '<a target=\"_blank\" href=https://colab.research.google.com/notebooks/data_table.ipynb>data table notebook</a>'\n",
       "            + ' to learn more about interactive tables.';\n",
       "          element.innerHTML = '';\n",
       "          dataTable['output_type'] = 'display_data';\n",
       "          await google.colab.output.renderOutput(dataTable, element);\n",
       "          const docLink = document.createElement('div');\n",
       "          docLink.innerHTML = docLinkHtml;\n",
       "          element.appendChild(docLink);\n",
       "        }\n",
       "      </script>\n",
       "    </div>\n",
       "  </div>\n",
       "  "
      ],
      "text/plain": [
       "                                               documents  ...                                            Stemmed\n",
       "0      SeaWorld's profits fell by 84% and customers a...  ...  seaworld profit fell custom stay away water th...\n",
       "1      The company teaches dolphins and killer whales...  ...  compani teach dolphin killer whale trick front...\n",
       "2      It says fewer people are going to its parks an...  ...               say fewer peopl go park profit reduc\n",
       "3      SeaWorld has been in the news since the 2013 d...  ...  seaworld news sinc thedocumentari film blackfi...\n",
       "4      Animal rights organizations say that orcas kep...  ...  anim right organ say orca kept tank die younge...\n",
       "...                                                  ...  ...                                                ...\n",
       "17718  Chitwan National Park in central Nepal has the...  ...  chitwan nation park central nepal highest numb...\n",
       "17719  Diwakar Chapagain, who heads a World Wildlife ...  ...  diwakar chapagain head world wildlif fund nepa...\n",
       "17720  In Nepal, kings used to stand on tiger skins i...  ...  nepal king use stand tiger skin front stuf tig...\n",
       "17721  Some affluent Nepali have mounted tiger heads ...  ...    affluent nepali mount tiger head wall live room\n",
       "17722  Tiger bones are in high demand for use in trad...  ...  tiger bone high demand use tradit chines medic...\n",
       "\n",
       "[17723 rows x 7 columns]"
      ]
     },
     "execution_count": 13,
     "metadata": {},
     "output_type": "execute_result"
    }
   ],
   "source": [
    "df_processed_train"
   ]
  },
  {
   "cell_type": "code",
   "execution_count": null,
   "id": "4203cb23-f1bb-45e4-a94a-d50b2f9cd26c",
   "metadata": {
    "id": "4203cb23-f1bb-45e4-a94a-d50b2f9cd26c"
   },
   "outputs": [],
   "source": [
    "data_train = df_processed_train[['Lemmatized', 'level']]\n",
    "data_test = df_processed_test[['Lemmatized', 'level']]"
   ]
  },
  {
   "cell_type": "code",
   "execution_count": null,
   "id": "ibgEDaHRjIyu",
   "metadata": {
    "colab": {
     "base_uri": "https://localhost:8080/"
    },
    "id": "ibgEDaHRjIyu",
    "outputId": "1d2ded59-f98c-4832-db47-5c43d2de7f03"
   },
   "outputs": [
    {
     "data": {
      "text/plain": [
       "88"
      ]
     },
     "execution_count": 15,
     "metadata": {},
     "output_type": "execute_result"
    }
   ],
   "source": [
    "r = max(data_train.Lemmatized.values.tolist())\n",
    "len(r)"
   ]
  },
  {
   "cell_type": "code",
   "execution_count": null,
   "id": "hYAuvGEQ5G57",
   "metadata": {
    "id": "hYAuvGEQ5G57"
   },
   "outputs": [],
   "source": [
    "s = [sen for sen in data_train.Lemmatized.values.tolist()]\n"
   ]
  },
  {
   "cell_type": "code",
   "execution_count": null,
   "id": "0zeincFi2-ri",
   "metadata": {
    "colab": {
     "base_uri": "https://localhost:8080/"
    },
    "id": "0zeincFi2-ri",
    "outputId": "d7cf193f-c2b0-46c1-d35c-990e43a0f717"
   },
   "outputs": [
    {
     "data": {
      "text/plain": [
       "40"
      ]
     },
     "execution_count": 17,
     "metadata": {},
     "output_type": "execute_result"
    }
   ],
   "source": [
    "ws = [words for sen in data_train.Lemmatized.values.tolist() for words in sen.split()]\n",
    "wl = [len(word) for word in ws]\n",
    "max(wl)"
   ]
  },
  {
   "cell_type": "code",
   "execution_count": null,
   "id": "1b6ba25a-7847-48fe-b40f-b1f04031387f",
   "metadata": {
    "colab": {
     "base_uri": "https://localhost:8080/"
    },
    "id": "1b6ba25a-7847-48fe-b40f-b1f04031387f",
    "outputId": "1dd78c4d-5cef-4d86-add4-d9ce6c86ba59"
   },
   "outputs": [
    {
     "data": {
      "text/plain": [
       "10.366077977769"
      ]
     },
     "execution_count": 18,
     "metadata": {},
     "output_type": "execute_result"
    }
   ],
   "source": [
    "# df\n",
    "sl = [len(sen.split()) for sen in data_train.Lemmatized.values.tolist()]\n",
    "sum(s for s in sl)/len(sl)"
   ]
  },
  {
   "cell_type": "code",
   "execution_count": null,
   "id": "VDKBwppF-akz",
   "metadata": {
    "id": "VDKBwppF-akz"
   },
   "outputs": [],
   "source": [
    "# sorted(sl)[::-1]"
   ]
  },
  {
   "cell_type": "code",
   "execution_count": null,
   "id": "XQHQOyn3SuX5",
   "metadata": {
    "id": "XQHQOyn3SuX5"
   },
   "outputs": [],
   "source": [
    "w = [word for words in data_train.Lemmatized.values.tolist() for word in words.split() ]"
   ]
  },
  {
   "cell_type": "code",
   "execution_count": null,
   "id": "GWURiMcZTfBs",
   "metadata": {
    "colab": {
     "base_uri": "https://localhost:8080/"
    },
    "id": "GWURiMcZTfBs",
    "outputId": "f412682d-4b1b-43c3-cb48-e668d7bd158e"
   },
   "outputs": [
    {
     "data": {
      "text/plain": [
       "14015"
      ]
     },
     "execution_count": 21,
     "metadata": {},
     "output_type": "execute_result"
    }
   ],
   "source": [
    "len(set(w))"
   ]
  },
  {
   "cell_type": "code",
   "execution_count": null,
   "id": "uHLKljJrgRVy",
   "metadata": {
    "colab": {
     "base_uri": "https://localhost:8080/"
    },
    "id": "uHLKljJrgRVy",
    "outputId": "958a0919-7e11-4671-b0de-16b212ba205e"
   },
   "outputs": [
    {
     "name": "stderr",
     "output_type": "stream",
     "text": [
      "/usr/local/lib/python3.7/dist-packages/ipykernel_launcher.py:9: SettingWithCopyWarning: \n",
      "A value is trying to be set on a copy of a slice from a DataFrame.\n",
      "Try using .loc[row_indexer,col_indexer] = value instead\n",
      "\n",
      "See the caveats in the documentation: https://pandas.pydata.org/pandas-docs/stable/user_guide/indexing.html#returning-a-view-versus-a-copy\n",
      "  if __name__ == '__main__':\n",
      "/usr/local/lib/python3.7/dist-packages/ipykernel_launcher.py:19: SettingWithCopyWarning: \n",
      "A value is trying to be set on a copy of a slice from a DataFrame.\n",
      "Try using .loc[row_indexer,col_indexer] = value instead\n",
      "\n",
      "See the caveats in the documentation: https://pandas.pydata.org/pandas-docs/stable/user_guide/indexing.html#returning-a-view-versus-a-copy\n"
     ]
    }
   ],
   "source": [
    "y_integers = []\n",
    "for level in data_train.level:\n",
    "  if level == 'Ele':\n",
    "    y_integers.append(0)\n",
    "  elif level == 'Int':\n",
    "    y_integers.append(1)\n",
    "  else:\n",
    "    y_integers.append(2)\n",
    "data_train['level'] = y_integers\n",
    "\n",
    "y_integers = []\n",
    "for level in data_test.level:\n",
    "  if level == 'Ele':\n",
    "    y_integers.append(0)\n",
    "  elif level == 'Int':\n",
    "    y_integers.append(1)\n",
    "  else:\n",
    "    y_integers.append(2)\n",
    "data_test['level'] = y_integers"
   ]
  },
  {
   "cell_type": "code",
   "execution_count": null,
   "id": "mxiqxbVQgziD",
   "metadata": {
    "colab": {
     "base_uri": "https://localhost:8080/",
     "height": 175
    },
    "id": "mxiqxbVQgziD",
    "outputId": "e5021082-e618-4c73-eea2-59ca65d5358e"
   },
   "outputs": [
    {
     "data": {
      "text/html": [
       "\n",
       "  <div id=\"df-cfc47497-0141-4f8b-a511-d775c3e9be85\">\n",
       "    <div class=\"colab-df-container\">\n",
       "      <div>\n",
       "<style scoped>\n",
       "    .dataframe tbody tr th:only-of-type {\n",
       "        vertical-align: middle;\n",
       "    }\n",
       "\n",
       "    .dataframe tbody tr th {\n",
       "        vertical-align: top;\n",
       "    }\n",
       "\n",
       "    .dataframe thead th {\n",
       "        text-align: right;\n",
       "    }\n",
       "</style>\n",
       "<table border=\"1\" class=\"dataframe\">\n",
       "  <thead>\n",
       "    <tr style=\"text-align: right;\">\n",
       "      <th></th>\n",
       "      <th>Lemmatized</th>\n",
       "    </tr>\n",
       "    <tr>\n",
       "      <th>level</th>\n",
       "      <th></th>\n",
       "    </tr>\n",
       "  </thead>\n",
       "  <tbody>\n",
       "    <tr>\n",
       "      <th>0</th>\n",
       "      <td>5183</td>\n",
       "    </tr>\n",
       "    <tr>\n",
       "      <th>1</th>\n",
       "      <td>6109</td>\n",
       "    </tr>\n",
       "    <tr>\n",
       "      <th>2</th>\n",
       "      <td>6431</td>\n",
       "    </tr>\n",
       "  </tbody>\n",
       "</table>\n",
       "</div>\n",
       "      <button class=\"colab-df-convert\" onclick=\"convertToInteractive('df-cfc47497-0141-4f8b-a511-d775c3e9be85')\"\n",
       "              title=\"Convert this dataframe to an interactive table.\"\n",
       "              style=\"display:none;\">\n",
       "        \n",
       "  <svg xmlns=\"http://www.w3.org/2000/svg\" height=\"24px\"viewBox=\"0 0 24 24\"\n",
       "       width=\"24px\">\n",
       "    <path d=\"M0 0h24v24H0V0z\" fill=\"none\"/>\n",
       "    <path d=\"M18.56 5.44l.94 2.06.94-2.06 2.06-.94-2.06-.94-.94-2.06-.94 2.06-2.06.94zm-11 1L8.5 8.5l.94-2.06 2.06-.94-2.06-.94L8.5 2.5l-.94 2.06-2.06.94zm10 10l.94 2.06.94-2.06 2.06-.94-2.06-.94-.94-2.06-.94 2.06-2.06.94z\"/><path d=\"M17.41 7.96l-1.37-1.37c-.4-.4-.92-.59-1.43-.59-.52 0-1.04.2-1.43.59L10.3 9.45l-7.72 7.72c-.78.78-.78 2.05 0 2.83L4 21.41c.39.39.9.59 1.41.59.51 0 1.02-.2 1.41-.59l7.78-7.78 2.81-2.81c.8-.78.8-2.07 0-2.86zM5.41 20L4 18.59l7.72-7.72 1.47 1.35L5.41 20z\"/>\n",
       "  </svg>\n",
       "      </button>\n",
       "      \n",
       "  <style>\n",
       "    .colab-df-container {\n",
       "      display:flex;\n",
       "      flex-wrap:wrap;\n",
       "      gap: 12px;\n",
       "    }\n",
       "\n",
       "    .colab-df-convert {\n",
       "      background-color: #E8F0FE;\n",
       "      border: none;\n",
       "      border-radius: 50%;\n",
       "      cursor: pointer;\n",
       "      display: none;\n",
       "      fill: #1967D2;\n",
       "      height: 32px;\n",
       "      padding: 0 0 0 0;\n",
       "      width: 32px;\n",
       "    }\n",
       "\n",
       "    .colab-df-convert:hover {\n",
       "      background-color: #E2EBFA;\n",
       "      box-shadow: 0px 1px 2px rgba(60, 64, 67, 0.3), 0px 1px 3px 1px rgba(60, 64, 67, 0.15);\n",
       "      fill: #174EA6;\n",
       "    }\n",
       "\n",
       "    [theme=dark] .colab-df-convert {\n",
       "      background-color: #3B4455;\n",
       "      fill: #D2E3FC;\n",
       "    }\n",
       "\n",
       "    [theme=dark] .colab-df-convert:hover {\n",
       "      background-color: #434B5C;\n",
       "      box-shadow: 0px 1px 3px 1px rgba(0, 0, 0, 0.15);\n",
       "      filter: drop-shadow(0px 1px 2px rgba(0, 0, 0, 0.3));\n",
       "      fill: #FFFFFF;\n",
       "    }\n",
       "  </style>\n",
       "\n",
       "      <script>\n",
       "        const buttonEl =\n",
       "          document.querySelector('#df-cfc47497-0141-4f8b-a511-d775c3e9be85 button.colab-df-convert');\n",
       "        buttonEl.style.display =\n",
       "          google.colab.kernel.accessAllowed ? 'block' : 'none';\n",
       "\n",
       "        async function convertToInteractive(key) {\n",
       "          const element = document.querySelector('#df-cfc47497-0141-4f8b-a511-d775c3e9be85');\n",
       "          const dataTable =\n",
       "            await google.colab.kernel.invokeFunction('convertToInteractive',\n",
       "                                                     [key], {});\n",
       "          if (!dataTable) return;\n",
       "\n",
       "          const docLinkHtml = 'Like what you see? Visit the ' +\n",
       "            '<a target=\"_blank\" href=https://colab.research.google.com/notebooks/data_table.ipynb>data table notebook</a>'\n",
       "            + ' to learn more about interactive tables.';\n",
       "          element.innerHTML = '';\n",
       "          dataTable['output_type'] = 'display_data';\n",
       "          await google.colab.output.renderOutput(dataTable, element);\n",
       "          const docLink = document.createElement('div');\n",
       "          docLink.innerHTML = docLinkHtml;\n",
       "          element.appendChild(docLink);\n",
       "        }\n",
       "      </script>\n",
       "    </div>\n",
       "  </div>\n",
       "  "
      ],
      "text/plain": [
       "       Lemmatized\n",
       "level            \n",
       "0            5183\n",
       "1            6109\n",
       "2            6431"
      ]
     },
     "execution_count": 23,
     "metadata": {},
     "output_type": "execute_result"
    }
   ],
   "source": [
    "data_train.groupby('level').count()"
   ]
  },
  {
   "cell_type": "code",
   "execution_count": null,
   "id": "cd648ab2-485c-48a4-9107-0bbf46e4bdc3",
   "metadata": {
    "id": "cd648ab2-485c-48a4-9107-0bbf46e4bdc3"
   },
   "outputs": [],
   "source": [
    "import tensorflow as tf\n",
    "from tensorflow.python import keras\n",
    "from tensorflow.keras import preprocessing\n",
    "from tensorflow.keras.preprocessing.text import Tokenizer\n",
    "from tensorflow.keras.preprocessing.sequence import pad_sequences\n",
    "from tensorflow.keras.utils import to_categorical\n",
    "from tensorflow.keras.models import Sequential\n",
    "from tensorflow.keras.callbacks import EarlyStopping\n",
    "from tensorflow.keras.layers import Dense, Dropout, SpatialDropout1D, LSTM, Reshape, Embedding, TextVectorization\n",
    "from keras.wrappers.scikit_learn import KerasClassifier\n",
    "\n",
    "from sklearn.model_selection import GridSearchCV\n"
   ]
  },
  {
   "cell_type": "code",
   "execution_count": null,
   "id": "20327059-5ca7-410d-9bbe-24ad19274efb",
   "metadata": {
    "colab": {
     "base_uri": "https://localhost:8080/"
    },
    "id": "20327059-5ca7-410d-9bbe-24ad19274efb",
    "outputId": "2874f512-053e-464a-9bb4-4a352ba50b46"
   },
   "outputs": [
    {
     "name": "stdout",
     "output_type": "stream",
     "text": [
      "Found 14014 unique tokens.\n"
     ]
    }
   ],
   "source": [
    "# The maximum number of words to be used. (most frequent)\n",
    "MAX_NB_WORDS = 8000\n",
    "# Max number of words in each sentence.\n",
    "MAX_SEQUENCE_LENGTH = 40\n",
    "# This is fixed for LSTM layer.\n",
    "# EMBEDDING_DIM = 15\n",
    "tokenizer = Tokenizer(num_words=MAX_NB_WORDS, filters='!\"#$%&()*+,-./:;<=>?@[\\]^_`{|}~', lower=True)\n",
    "tokenizer.fit_on_texts(data_train['Lemmatized'].values)\n",
    "word_index = tokenizer.word_index\n",
    "print('Found %s unique tokens.' % len(word_index))"
   ]
  },
  {
   "cell_type": "code",
   "execution_count": null,
   "id": "b2d0c424-4c4e-44a8-adcb-24e76c9bc373",
   "metadata": {
    "colab": {
     "base_uri": "https://localhost:8080/"
    },
    "id": "b2d0c424-4c4e-44a8-adcb-24e76c9bc373",
    "outputId": "4da40c9f-5932-452d-8f25-6e97cc4056cf"
   },
   "outputs": [
    {
     "name": "stdout",
     "output_type": "stream",
     "text": [
      "Shape of data tensor: (17723, 40)\n"
     ]
    }
   ],
   "source": [
    "X = tokenizer.texts_to_sequences(data_train['Lemmatized'].values)\n",
    "X = pad_sequences(X, maxlen=MAX_SEQUENCE_LENGTH)\n",
    "print('Shape of data tensor:', X.shape)"
   ]
  },
  {
   "cell_type": "code",
   "execution_count": null,
   "id": "0co5uyir85Cc",
   "metadata": {
    "id": "0co5uyir85Cc"
   },
   "outputs": [],
   "source": [
    "X_test = tokenizer.texts_to_sequences(data_test['Lemmatized'].values)\n",
    "X_test = pad_sequences(X_test, maxlen=MAX_SEQUENCE_LENGTH)\n"
   ]
  },
  {
   "cell_type": "code",
   "execution_count": null,
   "id": "301807cd-27e0-4f41-9fac-b8083d8b3ece",
   "metadata": {
    "id": "301807cd-27e0-4f41-9fac-b8083d8b3ece"
   },
   "outputs": [],
   "source": [
    "y = to_categorical(data_train['level'].values)\n",
    "y_test = to_categorical(data_test['level'].values)\n"
   ]
  },
  {
   "cell_type": "code",
   "execution_count": null,
   "id": "_SJMNRhD4Rkw",
   "metadata": {
    "id": "_SJMNRhD4Rkw"
   },
   "outputs": [],
   "source": [
    "def create_model(dropout_rate=0.1, EMBEDDING_DIM=5):\n",
    "  model = Sequential()\n",
    "  model.add(Embedding(MAX_NB_WORDS, EMBEDDING_DIM, input_length=X.shape[1]))\n",
    "  model.add(SpatialDropout1D(dropout_rate))\n",
    "  model.add(LSTM(EMBEDDING_DIM, dropout=dropout_rate, recurrent_dropout=dropout_rate))\n",
    "  model.add(Dense(3, activation='softmax'))\n",
    "  model.compile(loss='categorical_crossentropy', optimizer='adam', metrics=['accuracy'])\n",
    "  return model"
   ]
  },
  {
   "cell_type": "code",
   "execution_count": null,
   "id": "OQvL4b7H7EeB",
   "metadata": {
    "colab": {
     "base_uri": "https://localhost:8080/"
    },
    "id": "OQvL4b7H7EeB",
    "outputId": "5e98d6fb-91c8-410f-e6b8-177d38c77da2"
   },
   "outputs": [
    {
     "name": "stderr",
     "output_type": "stream",
     "text": [
      "/usr/local/lib/python3.7/dist-packages/ipykernel_launcher.py:1: DeprecationWarning: KerasClassifier is deprecated, use Sci-Keras (https://github.com/adriangb/scikeras) instead. See https://www.adriangb.com/scikeras/stable/migration.html for help migrating.\n",
      "  \"\"\"Entry point for launching an IPython kernel.\n"
     ]
    },
    {
     "name": "stdout",
     "output_type": "stream",
     "text": [
      "WARNING:tensorflow:Layer lstm will not use cuDNN kernels since it doesn't meet the criteria. It will use a generic GPU kernel as fallback when running on GPU.\n",
      "WARNING:tensorflow:Layer lstm_1 will not use cuDNN kernels since it doesn't meet the criteria. It will use a generic GPU kernel as fallback when running on GPU.\n",
      "WARNING:tensorflow:Layer lstm_2 will not use cuDNN kernels since it doesn't meet the criteria. It will use a generic GPU kernel as fallback when running on GPU.\n",
      "WARNING:tensorflow:Layer lstm_3 will not use cuDNN kernels since it doesn't meet the criteria. It will use a generic GPU kernel as fallback when running on GPU.\n",
      "WARNING:tensorflow:Layer lstm_4 will not use cuDNN kernels since it doesn't meet the criteria. It will use a generic GPU kernel as fallback when running on GPU.\n",
      "WARNING:tensorflow:Layer lstm_5 will not use cuDNN kernels since it doesn't meet the criteria. It will use a generic GPU kernel as fallback when running on GPU.\n",
      "WARNING:tensorflow:Layer lstm_6 will not use cuDNN kernels since it doesn't meet the criteria. It will use a generic GPU kernel as fallback when running on GPU.\n",
      "WARNING:tensorflow:Layer lstm_7 will not use cuDNN kernels since it doesn't meet the criteria. It will use a generic GPU kernel as fallback when running on GPU.\n",
      "WARNING:tensorflow:Layer lstm_8 will not use cuDNN kernels since it doesn't meet the criteria. It will use a generic GPU kernel as fallback when running on GPU.\n",
      "WARNING:tensorflow:Layer lstm_9 will not use cuDNN kernels since it doesn't meet the criteria. It will use a generic GPU kernel as fallback when running on GPU.\n",
      "WARNING:tensorflow:Layer lstm_10 will not use cuDNN kernels since it doesn't meet the criteria. It will use a generic GPU kernel as fallback when running on GPU.\n",
      "WARNING:tensorflow:Layer lstm_11 will not use cuDNN kernels since it doesn't meet the criteria. It will use a generic GPU kernel as fallback when running on GPU.\n",
      "WARNING:tensorflow:Layer lstm_12 will not use cuDNN kernels since it doesn't meet the criteria. It will use a generic GPU kernel as fallback when running on GPU.\n",
      "WARNING:tensorflow:Layer lstm_13 will not use cuDNN kernels since it doesn't meet the criteria. It will use a generic GPU kernel as fallback when running on GPU.\n",
      "WARNING:tensorflow:Layer lstm_14 will not use cuDNN kernels since it doesn't meet the criteria. It will use a generic GPU kernel as fallback when running on GPU.\n",
      "WARNING:tensorflow:Layer lstm_15 will not use cuDNN kernels since it doesn't meet the criteria. It will use a generic GPU kernel as fallback when running on GPU.\n",
      "WARNING:tensorflow:Layer lstm_16 will not use cuDNN kernels since it doesn't meet the criteria. It will use a generic GPU kernel as fallback when running on GPU.\n",
      "WARNING:tensorflow:Layer lstm_17 will not use cuDNN kernels since it doesn't meet the criteria. It will use a generic GPU kernel as fallback when running on GPU.\n",
      "WARNING:tensorflow:Layer lstm_18 will not use cuDNN kernels since it doesn't meet the criteria. It will use a generic GPU kernel as fallback when running on GPU.\n",
      "WARNING:tensorflow:Layer lstm_19 will not use cuDNN kernels since it doesn't meet the criteria. It will use a generic GPU kernel as fallback when running on GPU.\n",
      "WARNING:tensorflow:Layer lstm_20 will not use cuDNN kernels since it doesn't meet the criteria. It will use a generic GPU kernel as fallback when running on GPU.\n",
      "WARNING:tensorflow:Layer lstm_21 will not use cuDNN kernels since it doesn't meet the criteria. It will use a generic GPU kernel as fallback when running on GPU.\n",
      "WARNING:tensorflow:Layer lstm_22 will not use cuDNN kernels since it doesn't meet the criteria. It will use a generic GPU kernel as fallback when running on GPU.\n",
      "WARNING:tensorflow:Layer lstm_23 will not use cuDNN kernels since it doesn't meet the criteria. It will use a generic GPU kernel as fallback when running on GPU.\n",
      "WARNING:tensorflow:Layer lstm_24 will not use cuDNN kernels since it doesn't meet the criteria. It will use a generic GPU kernel as fallback when running on GPU.\n",
      "WARNING:tensorflow:Layer lstm_25 will not use cuDNN kernels since it doesn't meet the criteria. It will use a generic GPU kernel as fallback when running on GPU.\n",
      "WARNING:tensorflow:Layer lstm_26 will not use cuDNN kernels since it doesn't meet the criteria. It will use a generic GPU kernel as fallback when running on GPU.\n",
      "WARNING:tensorflow:Layer lstm_27 will not use cuDNN kernels since it doesn't meet the criteria. It will use a generic GPU kernel as fallback when running on GPU.\n",
      "WARNING:tensorflow:Layer lstm_28 will not use cuDNN kernels since it doesn't meet the criteria. It will use a generic GPU kernel as fallback when running on GPU.\n",
      "WARNING:tensorflow:Layer lstm_29 will not use cuDNN kernels since it doesn't meet the criteria. It will use a generic GPU kernel as fallback when running on GPU.\n",
      "WARNING:tensorflow:Layer lstm_30 will not use cuDNN kernels since it doesn't meet the criteria. It will use a generic GPU kernel as fallback when running on GPU.\n",
      "WARNING:tensorflow:Layer lstm_31 will not use cuDNN kernels since it doesn't meet the criteria. It will use a generic GPU kernel as fallback when running on GPU.\n",
      "WARNING:tensorflow:Layer lstm_32 will not use cuDNN kernels since it doesn't meet the criteria. It will use a generic GPU kernel as fallback when running on GPU.\n",
      "WARNING:tensorflow:Layer lstm_33 will not use cuDNN kernels since it doesn't meet the criteria. It will use a generic GPU kernel as fallback when running on GPU.\n",
      "WARNING:tensorflow:Layer lstm_34 will not use cuDNN kernels since it doesn't meet the criteria. It will use a generic GPU kernel as fallback when running on GPU.\n",
      "WARNING:tensorflow:Layer lstm_35 will not use cuDNN kernels since it doesn't meet the criteria. It will use a generic GPU kernel as fallback when running on GPU.\n",
      "WARNING:tensorflow:Layer lstm_36 will not use cuDNN kernels since it doesn't meet the criteria. It will use a generic GPU kernel as fallback when running on GPU.\n"
     ]
    }
   ],
   "source": [
    "model = KerasClassifier(build_fn=create_model, epochs=10, batch_size=32, verbose=0)\n",
    "# define the grid search parameters\n",
    "EMBEDDING_DIM = [5, 20, 65,105]\n",
    "dropout_rate = [0.2, 0.5, 0.9]\n",
    "param_grid = dict(dropout_rate=dropout_rate, EMBEDDING_DIM=EMBEDDING_DIM)\n",
    "grid = GridSearchCV(estimator=model, param_grid=param_grid, cv=3)\n",
    "grid_result = grid.fit(X, y)\n",
    "# summarize results\n",
    "# print(\"Best: %f using %s\" % (grid_result.best_score_, grid_result.best_params_))\n",
    "# means = grid_result.cv_results_['mean_test_score']\n",
    "# stds = grid_result.cv_results_['std_test_score']\n",
    "# params = grid_result.cv_results_['params']\n",
    "# for mean, stdev, param in zip(means, stds, params):\n",
    "#     print(\"%f (%f) with: %r\" % (mean, stdev, param))"
   ]
  },
  {
   "cell_type": "code",
   "execution_count": null,
   "id": "4ca61373-ce89-4398-91f3-6de70660a43e",
   "metadata": {
    "colab": {
     "base_uri": "https://localhost:8080/"
    },
    "id": "4ca61373-ce89-4398-91f3-6de70660a43e",
    "outputId": "d93f600f-7726-47b1-8183-10bafcd04be2"
   },
   "outputs": [
    {
     "name": "stdout",
     "output_type": "stream",
     "text": [
      "Best: 0.060146 using {'EMBEDDING_DIM': 105, 'dropout_rate': 0.2}\n",
      "0.025107 (0.019972) with: {'EMBEDDING_DIM': 5, 'dropout_rate': 0.2}\n",
      "0.017885 (0.013195) with: {'EMBEDDING_DIM': 5, 'dropout_rate': 0.5}\n",
      "0.029564 (0.041810) with: {'EMBEDDING_DIM': 5, 'dropout_rate': 0.9}\n",
      "0.045983 (0.042341) with: {'EMBEDDING_DIM': 20, 'dropout_rate': 0.2}\n",
      "0.035432 (0.033566) with: {'EMBEDDING_DIM': 20, 'dropout_rate': 0.5}\n",
      "0.020594 (0.029124) with: {'EMBEDDING_DIM': 20, 'dropout_rate': 0.9}\n",
      "0.053544 (0.045771) with: {'EMBEDDING_DIM': 65, 'dropout_rate': 0.2}\n",
      "0.042993 (0.038440) with: {'EMBEDDING_DIM': 65, 'dropout_rate': 0.5}\n",
      "0.011171 (0.013142) with: {'EMBEDDING_DIM': 65, 'dropout_rate': 0.9}\n",
      "0.060146 (0.039826) with: {'EMBEDDING_DIM': 105, 'dropout_rate': 0.2}\n",
      "0.046547 (0.041841) with: {'EMBEDDING_DIM': 105, 'dropout_rate': 0.5}\n",
      "0.012300 (0.010020) with: {'EMBEDDING_DIM': 105, 'dropout_rate': 0.9}\n"
     ]
    }
   ],
   "source": [
    "print(\"Best: %f using %s\" % (grid_result.best_score_, grid_result.best_params_))\n",
    "means = grid_result.cv_results_['mean_test_score']\n",
    "stds = grid_result.cv_results_['std_test_score']\n",
    "params = grid_result.cv_results_['params']\n",
    "for mean, stdev, param in zip(means, stds, params):\n",
    "    print(\"%f (%f) with: %r\" % (mean, stdev, param))"
   ]
  }
 ],
 "metadata": {
  "accelerator": "GPU",
  "colab": {
   "collapsed_sections": [],
   "include_colab_link": true,
   "name": "data_modeling_keras_one_stop.ipynb",
   "provenance": []
  },
  "kernelspec": {
   "display_name": "Python 3 (ipykernel)",
   "language": "python",
   "name": "python3"
  },
  "language_info": {
   "codemirror_mode": {
    "name": "ipython",
    "version": 3
   },
   "file_extension": ".py",
   "mimetype": "text/x-python",
   "name": "python",
   "nbconvert_exporter": "python",
   "pygments_lexer": "ipython3",
   "version": "3.8.8"
  }
 },
 "nbformat": 4,
 "nbformat_minor": 5
}
